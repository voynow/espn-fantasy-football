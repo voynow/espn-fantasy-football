{
 "cells": [
  {
   "cell_type": "code",
   "execution_count": 9,
   "metadata": {},
   "outputs": [],
   "source": [
    "from utils import get_player_data"
   ]
  },
  {
   "cell_type": "code",
   "execution_count": 19,
   "metadata": {},
   "outputs": [
    {
     "name": "stderr",
     "output_type": "stream",
     "text": [
      "\n",
      "\n",
      "====== WebDriver manager ======\n",
      "Current google-chrome version is 101.0.4951\n",
      "Get LATEST chromedriver version for 101.0.4951 google-chrome\n",
      "Driver [C:\\Users\\voyno\\.wdm\\drivers\\chromedriver\\win32\\101.0.4951.41\\chromedriver.exe] found in cache\n"
     ]
    }
   ],
   "source": [
    "player_data, metadata = get_player_data.exe()"
   ]
  },
  {
   "cell_type": "code",
   "execution_count": 33,
   "metadata": {},
   "outputs": [
    {
     "name": "stdout",
     "output_type": "stream",
     "text": [
      "['Cooper Kupp', 'LAR', 'WR']\n",
      "['Josh Allen', 'Buf', 'QB']\n",
      "['Justin Herbert', 'LAC', 'QB']\n",
      "['Tom Brady', 'TB', 'QB']\n",
      "['Jonathan Taylor', 'Ind', 'RB']\n",
      "['Patrick Mahomes', 'KC', 'QB']\n",
      "['Davante Adams', 'LV', 'WR']\n"
     ]
    }
   ],
   "source": [
    "first_page = player_data[0]\n",
    "for i, player in enumerate(first_page):\n",
    "    print(player)\n",
    "\n",
    "    if i > 5:\n",
    "        break"
   ]
  },
  {
   "cell_type": "code",
   "execution_count": 23,
   "metadata": {},
   "outputs": [
    {
     "name": "stdout",
     "output_type": "stream",
     "text": [
      "{'columns': ['Scoring Leaders', 'PLAYER', 'TYPE', 'ACTION', 'C/A', 'YDS', 'TD', 'INT', 'CAR', 'YDS', 'TD', 'REC', 'YDS', 'TD', 'TAR', '2PC', 'FUML', 'TD', 'FPTS', 'AVG'], 'table_length': 50}\n"
     ]
    }
   ],
   "source": [
    "print(metadata)"
   ]
  },
  {
   "cell_type": "code",
   "execution_count": null,
   "metadata": {},
   "outputs": [],
   "source": []
  }
 ],
 "metadata": {
  "interpreter": {
   "hash": "698ca6467136cba417e48f2ac0bc94cf197f3df8d78f789644d3928ce649cf37"
  },
  "kernelspec": {
   "display_name": "Python 3.8.0 ('venv': venv)",
   "language": "python",
   "name": "python3"
  },
  "language_info": {
   "codemirror_mode": {
    "name": "ipython",
    "version": 3
   },
   "file_extension": ".py",
   "mimetype": "text/x-python",
   "name": "python",
   "nbconvert_exporter": "python",
   "pygments_lexer": "ipython3",
   "version": "3.8.0"
  },
  "orig_nbformat": 4
 },
 "nbformat": 4,
 "nbformat_minor": 2
}
