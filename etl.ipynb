{
 "cells": [
  {
   "cell_type": "code",
   "execution_count": 26,
   "metadata": {},
   "outputs": [
    {
     "name": "stdout",
     "output_type": "stream",
     "text": [
      "The autoreload extension is already loaded. To reload it, use:\n",
      "  %reload_ext autoreload\n"
     ]
    }
   ],
   "source": [
    "%load_ext autoreload\n",
    "%autoreload 2"
   ]
  },
  {
   "cell_type": "code",
   "execution_count": 27,
   "metadata": {},
   "outputs": [],
   "source": [
    "import json\n",
    "import pathlib\n",
    "import pickle\n",
    "\n",
    "from utils import extract, transform"
   ]
  },
  {
   "cell_type": "code",
   "execution_count": 34,
   "metadata": {},
   "outputs": [],
   "source": [
    "data_folder = pathlib.Path('data/')\n",
    "raw_loc = data_folder / 'raw_data.pkl'\n",
    "clean_loc = data_folder / 'semi_structured.json'"
   ]
  },
  {
   "cell_type": "code",
   "execution_count": 32,
   "metadata": {},
   "outputs": [
    {
     "name": "stdout",
     "output_type": "stream",
     "text": [
      "\n"
     ]
    },
    {
     "name": "stderr",
     "output_type": "stream",
     "text": [
      "[WDM] - ====== WebDriver manager ======\n",
      "[WDM] - Current google-chrome version is 103.0.5060\n",
      "[WDM] - Get LATEST chromedriver version for 103.0.5060 google-chrome\n",
      "[WDM] - Driver [C:\\Users\\voyno\\.wdm\\drivers\\chromedriver\\win32\\103.0.5060.53\\chromedriver.exe] found in cache\n"
     ]
    },
    {
     "name": "stdout",
     "output_type": "stream",
     "text": [
      "Cooper Kupp\n",
      "Josh Allen\n",
      "Justin Herbert\n",
      "Tom Brady\n",
      "Jonathan Taylor\n",
      "Patrick Mahomes\n",
      "Davante Adams\n",
      "Austin Ekeler\n",
      "Deebo Samuel\n",
      "Aaron Rodgers\n",
      "Justin Jefferson\n",
      "Matthew Stafford\n",
      "Dak Prescott\n",
      "Joe Burrow\n",
      "Jalen Hurts\n",
      "Ja'Marr Chase\n",
      "Mark Andrews\n",
      "Najee Harris\n",
      "Kyler Murray\n",
      "Kirk Cousins\n",
      "Tyreek Hill\n",
      "Joe Mixon\n",
      "Stefon Diggs\n",
      "Diontae Johnson\n",
      "Ryan Tannehill\n",
      "Travis Kelce\n",
      "Mike Evans\n",
      "Hunter Renfrow\n",
      "Carson Wentz\n",
      "Keenan Allen\n",
      "James Conner\n",
      "Derek Carr\n",
      "Leonard Fournette\n",
      "Ezekiel Elliott\n",
      "Mike Williams\n",
      "Jaylen Waddle\n",
      "DK Metcalf\n",
      "Russell Wilson\n",
      "Chris Godwin\n",
      "Tyler Lockett\n",
      "Lamar Jackson\n",
      "Michael Pittman Jr.\n",
      "DJ Moore\n",
      "Alvin Kamara\n",
      "Cordarrelle Patterson\n",
      "CeeDee Lamb\n",
      "Brandin Cooks\n",
      "Antonio Gibson\n",
      "Aaron Jones\n",
      "Jimmy Garoppolo\n",
      "Player link: <selenium.webdriver.remote.webelement.WebElement (session=\"da31a321b7cd5d71743852cb59b0889e\", element=\"49cad129-84b4-461b-aea9-f58f909755a4\")>\n",
      "Player: Cooper Kupp\n",
      "Closing player card: Cooper Kupp\n",
      "Player link: <selenium.webdriver.remote.webelement.WebElement (session=\"da31a321b7cd5d71743852cb59b0889e\", element=\"067c2325-41e5-425a-bd59-7165fe8140d2\")>\n",
      "Player: Josh Allen\n",
      "Closing player card: Josh Allen\n",
      "Player link: <selenium.webdriver.remote.webelement.WebElement (session=\"da31a321b7cd5d71743852cb59b0889e\", element=\"76f66b47-4489-4145-bbe6-38143c7fa62e\")>\n",
      "Player: Justin Herbert\n",
      "Closing player card: Justin Herbert\n",
      "Player link: <selenium.webdriver.remote.webelement.WebElement (session=\"da31a321b7cd5d71743852cb59b0889e\", element=\"40d3da09-5fed-44d0-b67e-e738b166a4c2\")>\n",
      "Player: Tom Brady\n",
      "Closing player card: Tom Brady\n",
      "Player link: <selenium.webdriver.remote.webelement.WebElement (session=\"da31a321b7cd5d71743852cb59b0889e\", element=\"b0d4212b-b55f-446e-a170-ed17cf7c3b18\")>\n",
      "Player: Jonathan Taylor\n",
      "Closing player card: Jonathan Taylor\n",
      "Player link: <selenium.webdriver.remote.webelement.WebElement (session=\"da31a321b7cd5d71743852cb59b0889e\", element=\"95e2fda6-6e30-4817-bece-6e394cd7f684\")>\n",
      "Player: Patrick Mahomes\n",
      "Closing player card: Patrick Mahomes\n",
      "Player link: <selenium.webdriver.remote.webelement.WebElement (session=\"da31a321b7cd5d71743852cb59b0889e\", element=\"1a7ffb85-d118-4494-9ffa-4e01220d27ba\")>\n",
      "Player: Davante Adams\n",
      "Closing player card: Davante Adams\n",
      "Player link: <selenium.webdriver.remote.webelement.WebElement (session=\"da31a321b7cd5d71743852cb59b0889e\", element=\"e3f6dde3-371b-4f64-83af-f338b963f391\")>\n",
      "Player: Austin Ekeler\n",
      "Closing player card: Austin Ekeler\n",
      "Player link: <selenium.webdriver.remote.webelement.WebElement (session=\"da31a321b7cd5d71743852cb59b0889e\", element=\"993b302b-4e82-45bf-ad46-33564d86f131\")>\n",
      "Player: Deebo Samuel\n",
      "Closing player card: Deebo Samuel\n",
      "Player link: <selenium.webdriver.remote.webelement.WebElement (session=\"da31a321b7cd5d71743852cb59b0889e\", element=\"7825c1a1-5d06-4ddd-b453-8581312f7aeb\")>\n",
      "Player: Aaron Rodgers\n",
      "Closing player card: Aaron Rodgers\n",
      "Player link: <selenium.webdriver.remote.webelement.WebElement (session=\"da31a321b7cd5d71743852cb59b0889e\", element=\"30abc890-7010-4a45-9be0-4397ae1a873d\")>\n",
      "Player: Justin Jefferson\n",
      "Closing player card: Justin Jefferson\n",
      "Player link: <selenium.webdriver.remote.webelement.WebElement (session=\"da31a321b7cd5d71743852cb59b0889e\", element=\"8428f96a-72eb-4ead-bb99-485792b2433e\")>\n",
      "Player: Matthew Stafford\n",
      "Closing player card: Matthew Stafford\n",
      "Player link: <selenium.webdriver.remote.webelement.WebElement (session=\"da31a321b7cd5d71743852cb59b0889e\", element=\"a750f03a-fca6-4fde-a90d-a8e5f2b223bb\")>\n",
      "Player: Dak Prescott\n",
      "Closing player card: Dak Prescott\n",
      "Player link: <selenium.webdriver.remote.webelement.WebElement (session=\"da31a321b7cd5d71743852cb59b0889e\", element=\"03d340c5-034b-4303-be8c-b664c0816cbe\")>\n",
      "Player: Joe Burrow\n",
      "Closing player card: Joe Burrow\n",
      "Player link: <selenium.webdriver.remote.webelement.WebElement (session=\"da31a321b7cd5d71743852cb59b0889e\", element=\"9f95e014-75f8-4eb2-8706-84331ea078b6\")>\n",
      "Player: Jalen Hurts\n",
      "Closing player card: Jalen Hurts\n",
      "Player link: <selenium.webdriver.remote.webelement.WebElement (session=\"da31a321b7cd5d71743852cb59b0889e\", element=\"d9b64f2f-e8b9-4866-a6b5-b43c97aac48d\")>\n",
      "Player: Ja'Marr Chase\n",
      "Closing player card: Ja'Marr Chase\n",
      "Player link: <selenium.webdriver.remote.webelement.WebElement (session=\"da31a321b7cd5d71743852cb59b0889e\", element=\"786247bd-13c1-4276-81a4-c0ecd2e95aca\")>\n",
      "Player: Mark Andrews\n",
      "Closing player card: Mark Andrews\n",
      "Player link: <selenium.webdriver.remote.webelement.WebElement (session=\"da31a321b7cd5d71743852cb59b0889e\", element=\"132b8f13-f1eb-4acc-bf20-c7b46d04072c\")>\n",
      "Player: Najee Harris\n",
      "Closing player card: Najee Harris\n",
      "Player link: <selenium.webdriver.remote.webelement.WebElement (session=\"da31a321b7cd5d71743852cb59b0889e\", element=\"2263d966-f047-483f-bc3a-c5846d4e40a3\")>\n",
      "Player: Kyler Murray\n",
      "Closing player card: Kyler Murray\n",
      "Player link: <selenium.webdriver.remote.webelement.WebElement (session=\"da31a321b7cd5d71743852cb59b0889e\", element=\"8756a571-34de-47cf-b131-a58823771ddf\")>\n",
      "Player: Kirk Cousins\n",
      "Closing player card: Kirk Cousins\n",
      "Player link: <selenium.webdriver.remote.webelement.WebElement (session=\"da31a321b7cd5d71743852cb59b0889e\", element=\"3787aa5a-bf6b-4033-a11d-f52f3897f2a8\")>\n",
      "Player: Tyreek Hill\n",
      "Closing player card: Tyreek Hill\n",
      "Player link: <selenium.webdriver.remote.webelement.WebElement (session=\"da31a321b7cd5d71743852cb59b0889e\", element=\"88239322-1fde-4164-a163-7505e34611e9\")>\n",
      "Player: Joe Mixon\n",
      "Closing player card: Joe Mixon\n",
      "Player link: <selenium.webdriver.remote.webelement.WebElement (session=\"da31a321b7cd5d71743852cb59b0889e\", element=\"93603efb-0c6c-4078-bed9-33307288d676\")>\n",
      "Player: Stefon Diggs\n",
      "Closing player card: Stefon Diggs\n",
      "Player link: <selenium.webdriver.remote.webelement.WebElement (session=\"da31a321b7cd5d71743852cb59b0889e\", element=\"d037b71d-106a-4850-8b9e-08dc857a2420\")>\n",
      "Player: Diontae Johnson\n",
      "Closing player card: Diontae Johnson\n",
      "Player link: <selenium.webdriver.remote.webelement.WebElement (session=\"da31a321b7cd5d71743852cb59b0889e\", element=\"195e82f2-973d-4b11-9185-c2f6a2ec20ae\")>\n",
      "Player: Ryan Tannehill\n",
      "Closing player card: Ryan Tannehill\n",
      "Player link: <selenium.webdriver.remote.webelement.WebElement (session=\"da31a321b7cd5d71743852cb59b0889e\", element=\"b9fbf9b3-3963-45bc-bd6e-b246101b0759\")>\n",
      "Player: Travis Kelce\n",
      "Closing player card: Travis Kelce\n",
      "Player link: <selenium.webdriver.remote.webelement.WebElement (session=\"da31a321b7cd5d71743852cb59b0889e\", element=\"0532179f-d144-4702-8f55-fc9019ccf789\")>\n",
      "Player: Mike Evans\n",
      "Closing player card: Mike Evans\n",
      "Player link: <selenium.webdriver.remote.webelement.WebElement (session=\"da31a321b7cd5d71743852cb59b0889e\", element=\"7940e0ff-5787-432a-9681-d199cf663375\")>\n",
      "Player: Hunter Renfrow\n",
      "Closing player card: Hunter Renfrow\n",
      "Player link: <selenium.webdriver.remote.webelement.WebElement (session=\"da31a321b7cd5d71743852cb59b0889e\", element=\"d4c80f3c-3c8a-4376-b1cd-0429cbd2d79e\")>\n",
      "Player: Carson Wentz\n",
      "Closing player card: Carson Wentz\n",
      "Player link: <selenium.webdriver.remote.webelement.WebElement (session=\"da31a321b7cd5d71743852cb59b0889e\", element=\"a4bcecc0-24d1-497a-a13d-1093b71417c4\")>\n",
      "Player: Keenan Allen\n",
      "Closing player card: Keenan Allen\n",
      "Player link: <selenium.webdriver.remote.webelement.WebElement (session=\"da31a321b7cd5d71743852cb59b0889e\", element=\"6d9437d1-73d8-4397-a8e3-99ac59df96f6\")>\n",
      "Player: James Conner\n",
      "Closing player card: James Conner\n",
      "Player link: <selenium.webdriver.remote.webelement.WebElement (session=\"da31a321b7cd5d71743852cb59b0889e\", element=\"1076cb45-e9f1-40e0-84f8-75a3289f78fd\")>\n",
      "Player: Derek Carr\n",
      "Closing player card: Derek Carr\n",
      "Player link: <selenium.webdriver.remote.webelement.WebElement (session=\"da31a321b7cd5d71743852cb59b0889e\", element=\"734a383e-b79d-4454-9a6b-8e02cd9f6628\")>\n",
      "Player: Leonard Fournette\n",
      "Closing player card: Leonard Fournette\n",
      "Player link: <selenium.webdriver.remote.webelement.WebElement (session=\"da31a321b7cd5d71743852cb59b0889e\", element=\"ab95173f-c846-48c4-9485-2470d20b707d\")>\n",
      "Player: Ezekiel Elliott\n",
      "Closing player card: Ezekiel Elliott\n",
      "Player link: <selenium.webdriver.remote.webelement.WebElement (session=\"da31a321b7cd5d71743852cb59b0889e\", element=\"e15f0c3c-4849-4482-9262-cda309aa733a\")>\n",
      "Player: Mike Williams\n",
      "Closing player card: Mike Williams\n",
      "Player link: <selenium.webdriver.remote.webelement.WebElement (session=\"da31a321b7cd5d71743852cb59b0889e\", element=\"5cf368f1-b92d-4c76-b197-d341a0f3973b\")>\n",
      "Player: Jaylen Waddle\n",
      "Closing player card: Jaylen Waddle\n",
      "Player link: <selenium.webdriver.remote.webelement.WebElement (session=\"da31a321b7cd5d71743852cb59b0889e\", element=\"314e3e12-49f9-46bc-a7fd-aa38b6b1e325\")>\n",
      "Player: DK Metcalf\n",
      "Closing player card: DK Metcalf\n",
      "Player link: <selenium.webdriver.remote.webelement.WebElement (session=\"da31a321b7cd5d71743852cb59b0889e\", element=\"4e202253-4a4c-4b9b-98cb-7438667c04c1\")>\n",
      "Player: Russell Wilson\n",
      "Closing player card: Russell Wilson\n",
      "Player link: <selenium.webdriver.remote.webelement.WebElement (session=\"da31a321b7cd5d71743852cb59b0889e\", element=\"5b2dbf84-ee79-4877-b235-210c5c4dfea7\")>\n",
      "Player: Chris Godwin\n",
      "Closing player card: Chris Godwin\n",
      "Player link: <selenium.webdriver.remote.webelement.WebElement (session=\"da31a321b7cd5d71743852cb59b0889e\", element=\"105b2c90-1012-4c0d-b898-18d9d3a12d75\")>\n",
      "Player: Tyler Lockett\n",
      "Closing player card: Tyler Lockett\n",
      "Player link: <selenium.webdriver.remote.webelement.WebElement (session=\"da31a321b7cd5d71743852cb59b0889e\", element=\"3d5168f8-a55a-47a9-9962-a25b19547d5a\")>\n",
      "Player: Lamar Jackson\n",
      "Closing player card: Lamar Jackson\n",
      "Player link: <selenium.webdriver.remote.webelement.WebElement (session=\"da31a321b7cd5d71743852cb59b0889e\", element=\"6dce78a8-7a17-4938-88b9-c81a4aafba6e\")>\n",
      "Player: Michael Pittman Jr.\n",
      "Closing player card: Michael Pittman Jr.\n",
      "Player link: <selenium.webdriver.remote.webelement.WebElement (session=\"da31a321b7cd5d71743852cb59b0889e\", element=\"f0f037e3-f8a1-4164-a232-86abc8672bf0\")>\n",
      "Player: DJ Moore\n",
      "Closing player card: DJ Moore\n",
      "Player link: <selenium.webdriver.remote.webelement.WebElement (session=\"da31a321b7cd5d71743852cb59b0889e\", element=\"611f4263-98fe-43b5-8ea8-47e083fce96f\")>\n",
      "Player: Alvin Kamara\n",
      "Closing player card: Alvin Kamara\n",
      "Player link: <selenium.webdriver.remote.webelement.WebElement (session=\"da31a321b7cd5d71743852cb59b0889e\", element=\"b9e63882-9367-4b03-8ad4-de92c4bc0d2b\")>\n",
      "Player: Cordarrelle Patterson\n",
      "Closing player card: Cordarrelle Patterson\n",
      "Player link: <selenium.webdriver.remote.webelement.WebElement (session=\"da31a321b7cd5d71743852cb59b0889e\", element=\"28b996b6-5d86-42aa-958a-9f88f051ccb4\")>\n",
      "Player: CeeDee Lamb\n",
      "Closing player card: CeeDee Lamb\n",
      "Player link: <selenium.webdriver.remote.webelement.WebElement (session=\"da31a321b7cd5d71743852cb59b0889e\", element=\"be7fc1e1-e4fb-4110-a0d5-85372a4ffe20\")>\n",
      "Player: Brandin Cooks\n",
      "Closing player card: Brandin Cooks\n",
      "Player link: <selenium.webdriver.remote.webelement.WebElement (session=\"da31a321b7cd5d71743852cb59b0889e\", element=\"8c7f5940-d9b9-42b4-8fc9-c0107c62cd07\")>\n",
      "Player: Antonio Gibson\n",
      "Closing player card: Antonio Gibson\n",
      "Player link: <selenium.webdriver.remote.webelement.WebElement (session=\"da31a321b7cd5d71743852cb59b0889e\", element=\"283a4e0d-65ff-47b0-96e4-cbb983aafd3d\")>\n",
      "Player: Aaron Jones\n",
      "Closing player card: Aaron Jones\n",
      "Player link: <selenium.webdriver.remote.webelement.WebElement (session=\"da31a321b7cd5d71743852cb59b0889e\", element=\"e39b9f1b-f165-492c-b120-bf75dd63d042\")>\n",
      "Player: Jimmy Garoppolo\n",
      "Closing player card: Jimmy Garoppolo\n",
      "\n"
     ]
    },
    {
     "name": "stderr",
     "output_type": "stream",
     "text": [
      "[WDM] - ====== WebDriver manager ======\n",
      "[WDM] - Current google-chrome version is 103.0.5060\n",
      "[WDM] - Get LATEST chromedriver version for 103.0.5060 google-chrome\n",
      "[WDM] - Driver [C:\\Users\\voyno\\.wdm\\drivers\\chromedriver\\win32\\103.0.5060.53\\chromedriver.exe] found in cache\n"
     ]
    },
    {
     "name": "stdout",
     "output_type": "stream",
     "text": [
      "0 <selenium.webdriver.remote.webelement.WebElement (session=\"08b49d7f4ffb5238e6599844d65b5b15\", element=\"777d52e4-aac9-4c9d-8563-3fce70e6fefd\")>\n",
      "1 <selenium.webdriver.remote.webelement.WebElement (session=\"08b49d7f4ffb5238e6599844d65b5b15\", element=\"232c3b30-d1be-4e7d-bffe-5df61a03de6b\")>\n",
      "2 <selenium.webdriver.remote.webelement.WebElement (session=\"08b49d7f4ffb5238e6599844d65b5b15\", element=\"40b0e835-8b63-4d4f-b83d-b7c91e987bc5\")>\n",
      "\n"
     ]
    },
    {
     "name": "stderr",
     "output_type": "stream",
     "text": [
      "[WDM] - ====== WebDriver manager ======\n",
      "[WDM] - Current google-chrome version is 103.0.5060\n",
      "[WDM] - Get LATEST chromedriver version for 103.0.5060 google-chrome\n",
      "[WDM] - Driver [C:\\Users\\voyno\\.wdm\\drivers\\chromedriver\\win32\\103.0.5060.53\\chromedriver.exe] found in cache\n"
     ]
    },
    {
     "name": "stdout",
     "output_type": "stream",
     "text": [
      "0 <selenium.webdriver.remote.webelement.WebElement (session=\"ed5e2e6fb0f0ad33a9b0216e1f4d12ff\", element=\"c8b4f12a-69f2-4671-ac02-9037faa32f91\")>\n",
      "1 <selenium.webdriver.remote.webelement.WebElement (session=\"ed5e2e6fb0f0ad33a9b0216e1f4d12ff\", element=\"f6879cb5-9bcd-43e3-b88a-11a5137e7284\")>\n",
      "2 <selenium.webdriver.remote.webelement.WebElement (session=\"ed5e2e6fb0f0ad33a9b0216e1f4d12ff\", element=\"89374d6d-9e36-4026-8cdb-b61c2925e105\")>\n",
      "\n"
     ]
    },
    {
     "name": "stderr",
     "output_type": "stream",
     "text": [
      "[WDM] - ====== WebDriver manager ======\n",
      "[WDM] - Current google-chrome version is 103.0.5060\n",
      "[WDM] - Get LATEST chromedriver version for 103.0.5060 google-chrome\n",
      "[WDM] - Driver [C:\\Users\\voyno\\.wdm\\drivers\\chromedriver\\win32\\103.0.5060.53\\chromedriver.exe] found in cache\n"
     ]
    },
    {
     "name": "stdout",
     "output_type": "stream",
     "text": [
      "0 <selenium.webdriver.remote.webelement.WebElement (session=\"cd4480a02281a308a3e1688758bdf315\", element=\"0c4f3dec-6813-4df7-8d54-be484b91e7f1\")>\n",
      "1 <selenium.webdriver.remote.webelement.WebElement (session=\"cd4480a02281a308a3e1688758bdf315\", element=\"31a5798c-2bdf-449a-ae96-0a18e90cb338\")>\n",
      "2 <selenium.webdriver.remote.webelement.WebElement (session=\"cd4480a02281a308a3e1688758bdf315\", element=\"665c66ec-1d48-43d9-9a20-da8897d3f980\")>\n",
      "\n"
     ]
    },
    {
     "name": "stderr",
     "output_type": "stream",
     "text": [
      "[WDM] - ====== WebDriver manager ======\n",
      "[WDM] - Current google-chrome version is 103.0.5060\n",
      "[WDM] - Get LATEST chromedriver version for 103.0.5060 google-chrome\n",
      "[WDM] - Driver [C:\\Users\\voyno\\.wdm\\drivers\\chromedriver\\win32\\103.0.5060.53\\chromedriver.exe] found in cache\n"
     ]
    },
    {
     "name": "stdout",
     "output_type": "stream",
     "text": [
      "0 <selenium.webdriver.remote.webelement.WebElement (session=\"aa231e68a3c7371b68377aa3168d7ee4\", element=\"ffa80a17-b1e7-4c48-9c32-5126722d0f9a\")>\n",
      "1 <selenium.webdriver.remote.webelement.WebElement (session=\"aa231e68a3c7371b68377aa3168d7ee4\", element=\"fc95fa54-df4a-4d85-94ca-89c76a216d46\")>\n",
      "2 <selenium.webdriver.remote.webelement.WebElement (session=\"aa231e68a3c7371b68377aa3168d7ee4\", element=\"23ac6ddb-1ace-449d-bafe-06bc5025cd4a\")>\n",
      "\n"
     ]
    },
    {
     "name": "stderr",
     "output_type": "stream",
     "text": [
      "[WDM] - ====== WebDriver manager ======\n",
      "[WDM] - Current google-chrome version is 103.0.5060\n",
      "[WDM] - Get LATEST chromedriver version for 103.0.5060 google-chrome\n",
      "[WDM] - Driver [C:\\Users\\voyno\\.wdm\\drivers\\chromedriver\\win32\\103.0.5060.53\\chromedriver.exe] found in cache\n"
     ]
    },
    {
     "name": "stdout",
     "output_type": "stream",
     "text": [
      "0 <selenium.webdriver.remote.webelement.WebElement (session=\"c02e2c875fa413e2cf849574aeb82662\", element=\"ed06e257-ac09-499c-83ef-072c2af216a7\")>\n",
      "1 <selenium.webdriver.remote.webelement.WebElement (session=\"c02e2c875fa413e2cf849574aeb82662\", element=\"e7b29dcb-f347-4e4d-85d8-007fbb5af9a7\")>\n",
      "2 <selenium.webdriver.remote.webelement.WebElement (session=\"c02e2c875fa413e2cf849574aeb82662\", element=\"42ab4be5-725a-4c40-8c72-b21a0959c908\")>\n",
      "\n"
     ]
    },
    {
     "name": "stderr",
     "output_type": "stream",
     "text": [
      "[WDM] - ====== WebDriver manager ======\n",
      "[WDM] - Current google-chrome version is 103.0.5060\n",
      "[WDM] - Get LATEST chromedriver version for 103.0.5060 google-chrome\n",
      "[WDM] - Driver [C:\\Users\\voyno\\.wdm\\drivers\\chromedriver\\win32\\103.0.5060.53\\chromedriver.exe] found in cache\n"
     ]
    },
    {
     "name": "stdout",
     "output_type": "stream",
     "text": [
      "0 <selenium.webdriver.remote.webelement.WebElement (session=\"ef1244528ba32961b378f7a77e7b0900\", element=\"f0fe5223-8c05-4abd-a86d-48c72c6a3045\")>\n",
      "1 <selenium.webdriver.remote.webelement.WebElement (session=\"ef1244528ba32961b378f7a77e7b0900\", element=\"f180907c-80a9-40f8-8d7e-24777e1e64b4\")>\n",
      "2 <selenium.webdriver.remote.webelement.WebElement (session=\"ef1244528ba32961b378f7a77e7b0900\", element=\"fd01a899-c3c7-4871-a0fd-bf7f3eb2474e\")>\n",
      "\n"
     ]
    },
    {
     "name": "stderr",
     "output_type": "stream",
     "text": [
      "[WDM] - ====== WebDriver manager ======\n",
      "[WDM] - Current google-chrome version is 103.0.5060\n",
      "[WDM] - Get LATEST chromedriver version for 103.0.5060 google-chrome\n",
      "[WDM] - Driver [C:\\Users\\voyno\\.wdm\\drivers\\chromedriver\\win32\\103.0.5060.53\\chromedriver.exe] found in cache\n"
     ]
    },
    {
     "name": "stdout",
     "output_type": "stream",
     "text": [
      "0 <selenium.webdriver.remote.webelement.WebElement (session=\"5cee17f235f30023c8444cfaf013897c\", element=\"85ad8351-362b-4255-ac72-25f20ff2a7f7\")>\n",
      "1 <selenium.webdriver.remote.webelement.WebElement (session=\"5cee17f235f30023c8444cfaf013897c\", element=\"c2e84d70-75eb-49bf-961f-ce07486cf39a\")>\n",
      "2 <selenium.webdriver.remote.webelement.WebElement (session=\"5cee17f235f30023c8444cfaf013897c\", element=\"114b01cb-daaf-4cab-9d1b-93337f1d9ee0\")>\n",
      "\n"
     ]
    },
    {
     "name": "stderr",
     "output_type": "stream",
     "text": [
      "[WDM] - ====== WebDriver manager ======\n",
      "[WDM] - Current google-chrome version is 103.0.5060\n",
      "[WDM] - Get LATEST chromedriver version for 103.0.5060 google-chrome\n",
      "[WDM] - Driver [C:\\Users\\voyno\\.wdm\\drivers\\chromedriver\\win32\\103.0.5060.53\\chromedriver.exe] found in cache\n"
     ]
    },
    {
     "name": "stdout",
     "output_type": "stream",
     "text": [
      "0 <selenium.webdriver.remote.webelement.WebElement (session=\"76c6374da31b91d881242030047366fc\", element=\"7ca07a60-2974-4f47-94e2-706c4f8cbaae\")>\n",
      "1 <selenium.webdriver.remote.webelement.WebElement (session=\"76c6374da31b91d881242030047366fc\", element=\"e11fd27a-2dde-45f8-b9ad-4d9fffb73649\")>\n",
      "\n"
     ]
    },
    {
     "name": "stderr",
     "output_type": "stream",
     "text": [
      "[WDM] - ====== WebDriver manager ======\n",
      "[WDM] - Current google-chrome version is 103.0.5060\n",
      "[WDM] - Get LATEST chromedriver version for 103.0.5060 google-chrome\n",
      "[WDM] - Driver [C:\\Users\\voyno\\.wdm\\drivers\\chromedriver\\win32\\103.0.5060.53\\chromedriver.exe] found in cache\n"
     ]
    },
    {
     "name": "stdout",
     "output_type": "stream",
     "text": [
      "0 <selenium.webdriver.remote.webelement.WebElement (session=\"ba356114d47e871e3505def9bcdef8f1\", element=\"dd1098fd-5f6e-4290-9f95-715729f2d434\")>\n",
      "1 <selenium.webdriver.remote.webelement.WebElement (session=\"ba356114d47e871e3505def9bcdef8f1\", element=\"be2cbae5-1ae8-4b51-b0ed-62a7f934cab0\")>\n",
      "2 <selenium.webdriver.remote.webelement.WebElement (session=\"ba356114d47e871e3505def9bcdef8f1\", element=\"6ef9c973-e40b-43c2-96a3-42ab9a7f1d40\")>\n",
      "\n"
     ]
    },
    {
     "name": "stderr",
     "output_type": "stream",
     "text": [
      "[WDM] - ====== WebDriver manager ======\n",
      "[WDM] - Current google-chrome version is 103.0.5060\n",
      "[WDM] - Get LATEST chromedriver version for 103.0.5060 google-chrome\n",
      "[WDM] - Driver [C:\\Users\\voyno\\.wdm\\drivers\\chromedriver\\win32\\103.0.5060.53\\chromedriver.exe] found in cache\n"
     ]
    },
    {
     "name": "stdout",
     "output_type": "stream",
     "text": [
      "0 <selenium.webdriver.remote.webelement.WebElement (session=\"2b949dde9707fdf8e16a75dcceaac5f2\", element=\"ed97c196-571d-4106-9a20-93a6f2dadcc3\")>\n",
      "1 <selenium.webdriver.remote.webelement.WebElement (session=\"2b949dde9707fdf8e16a75dcceaac5f2\", element=\"42b4fc21-2ed7-4c53-884e-f18ba1452f20\")>\n",
      "2 <selenium.webdriver.remote.webelement.WebElement (session=\"2b949dde9707fdf8e16a75dcceaac5f2\", element=\"b3debbbc-c9cf-4354-bde3-c65cc0f394c7\")>\n",
      "\n"
     ]
    },
    {
     "name": "stderr",
     "output_type": "stream",
     "text": [
      "[WDM] - ====== WebDriver manager ======\n",
      "[WDM] - Current google-chrome version is 103.0.5060\n",
      "[WDM] - Get LATEST chromedriver version for 103.0.5060 google-chrome\n",
      "[WDM] - Driver [C:\\Users\\voyno\\.wdm\\drivers\\chromedriver\\win32\\103.0.5060.53\\chromedriver.exe] found in cache\n"
     ]
    },
    {
     "name": "stdout",
     "output_type": "stream",
     "text": [
      "0 <selenium.webdriver.remote.webelement.WebElement (session=\"dcfc879bdd1495794f47aa0f0db82595\", element=\"0ae93698-69ce-4b66-8990-128fba2c7e00\")>\n",
      "1 <selenium.webdriver.remote.webelement.WebElement (session=\"dcfc879bdd1495794f47aa0f0db82595\", element=\"7d82032d-e518-40e3-b97d-5b2fe20d52bf\")>\n",
      "2 <selenium.webdriver.remote.webelement.WebElement (session=\"dcfc879bdd1495794f47aa0f0db82595\", element=\"cafd335c-425d-448f-9d19-3e244578def3\")>\n",
      "\n"
     ]
    },
    {
     "name": "stderr",
     "output_type": "stream",
     "text": [
      "[WDM] - ====== WebDriver manager ======\n",
      "[WDM] - Current google-chrome version is 103.0.5060\n",
      "[WDM] - Get LATEST chromedriver version for 103.0.5060 google-chrome\n",
      "[WDM] - Driver [C:\\Users\\voyno\\.wdm\\drivers\\chromedriver\\win32\\103.0.5060.53\\chromedriver.exe] found in cache\n"
     ]
    },
    {
     "name": "stdout",
     "output_type": "stream",
     "text": [
      "0 <selenium.webdriver.remote.webelement.WebElement (session=\"11c0ef28628246f1f47cedfd7b73a638\", element=\"d5b7fa1d-e65a-41e3-af36-341076b14ea5\")>\n",
      "1 <selenium.webdriver.remote.webelement.WebElement (session=\"11c0ef28628246f1f47cedfd7b73a638\", element=\"b36ecf47-716b-4073-83a5-c2d9e653d8a7\")>\n",
      "2 <selenium.webdriver.remote.webelement.WebElement (session=\"11c0ef28628246f1f47cedfd7b73a638\", element=\"2d490f9f-fe9d-4153-adfe-7b63d85d69c1\")>\n",
      "\n"
     ]
    },
    {
     "name": "stderr",
     "output_type": "stream",
     "text": [
      "[WDM] - ====== WebDriver manager ======\n",
      "[WDM] - Current google-chrome version is 103.0.5060\n",
      "[WDM] - Get LATEST chromedriver version for 103.0.5060 google-chrome\n",
      "[WDM] - Driver [C:\\Users\\voyno\\.wdm\\drivers\\chromedriver\\win32\\103.0.5060.53\\chromedriver.exe] found in cache\n"
     ]
    },
    {
     "name": "stdout",
     "output_type": "stream",
     "text": [
      "0 <selenium.webdriver.remote.webelement.WebElement (session=\"ff2408433d4ad004a60d4bc477f7c221\", element=\"3959d876-cbf9-4dbd-a1c0-834f777c85f1\")>\n",
      "1 <selenium.webdriver.remote.webelement.WebElement (session=\"ff2408433d4ad004a60d4bc477f7c221\", element=\"f6952af2-ec95-4ce5-9dd5-c5ea3996c29e\")>\n",
      "2 <selenium.webdriver.remote.webelement.WebElement (session=\"ff2408433d4ad004a60d4bc477f7c221\", element=\"f849334e-5aed-4ba6-bb5d-ed097f3601b2\")>\n",
      "\n"
     ]
    },
    {
     "name": "stderr",
     "output_type": "stream",
     "text": [
      "[WDM] - ====== WebDriver manager ======\n",
      "[WDM] - Current google-chrome version is 103.0.5060\n",
      "[WDM] - Get LATEST chromedriver version for 103.0.5060 google-chrome\n",
      "[WDM] - Driver [C:\\Users\\voyno\\.wdm\\drivers\\chromedriver\\win32\\103.0.5060.53\\chromedriver.exe] found in cache\n"
     ]
    },
    {
     "name": "stdout",
     "output_type": "stream",
     "text": [
      "0 <selenium.webdriver.remote.webelement.WebElement (session=\"96a1f8478cbd40cf9b1aa0148aa4fced\", element=\"899bc880-ead0-4bab-8b9c-9dcadcf726df\")>\n",
      "1 <selenium.webdriver.remote.webelement.WebElement (session=\"96a1f8478cbd40cf9b1aa0148aa4fced\", element=\"cfde18d0-d20b-4abf-80d1-f6fb6842edb4\")>\n",
      "2 <selenium.webdriver.remote.webelement.WebElement (session=\"96a1f8478cbd40cf9b1aa0148aa4fced\", element=\"66c12a79-6eab-4e4b-958c-99f89fdd8026\")>\n",
      "\n"
     ]
    },
    {
     "name": "stderr",
     "output_type": "stream",
     "text": [
      "[WDM] - ====== WebDriver manager ======\n",
      "[WDM] - Current google-chrome version is 103.0.5060\n",
      "[WDM] - Get LATEST chromedriver version for 103.0.5060 google-chrome\n",
      "[WDM] - Driver [C:\\Users\\voyno\\.wdm\\drivers\\chromedriver\\win32\\103.0.5060.53\\chromedriver.exe] found in cache\n"
     ]
    },
    {
     "name": "stdout",
     "output_type": "stream",
     "text": [
      "0 <selenium.webdriver.remote.webelement.WebElement (session=\"f87ba5b428b09f66b83fab2b68f35ff0\", element=\"623d423f-ba38-4832-bc34-fe8d952fdfe0\")>\n",
      "1 <selenium.webdriver.remote.webelement.WebElement (session=\"f87ba5b428b09f66b83fab2b68f35ff0\", element=\"e020670f-f3c3-4f50-b310-e3f492fc288c\")>\n",
      "2 <selenium.webdriver.remote.webelement.WebElement (session=\"f87ba5b428b09f66b83fab2b68f35ff0\", element=\"a6982c30-006e-4719-8527-36f6660f5f25\")>\n",
      "\n"
     ]
    },
    {
     "name": "stderr",
     "output_type": "stream",
     "text": [
      "[WDM] - ====== WebDriver manager ======\n",
      "[WDM] - Current google-chrome version is 103.0.5060\n",
      "[WDM] - Get LATEST chromedriver version for 103.0.5060 google-chrome\n",
      "[WDM] - Driver [C:\\Users\\voyno\\.wdm\\drivers\\chromedriver\\win32\\103.0.5060.53\\chromedriver.exe] found in cache\n"
     ]
    },
    {
     "name": "stdout",
     "output_type": "stream",
     "text": [
      "0 <selenium.webdriver.remote.webelement.WebElement (session=\"cdec4c8a2a75e259d7d6823af9a2c092\", element=\"cf2d2cc8-75a4-4160-bc6a-02ccd49e1b14\")>\n",
      "1 <selenium.webdriver.remote.webelement.WebElement (session=\"cdec4c8a2a75e259d7d6823af9a2c092\", element=\"a16f548c-c9a9-400c-9727-e3c6af976679\")>\n",
      "2 <selenium.webdriver.remote.webelement.WebElement (session=\"cdec4c8a2a75e259d7d6823af9a2c092\", element=\"ce1aa836-aed5-42b9-9ce1-f97ee05039de\")>\n",
      "\n"
     ]
    },
    {
     "name": "stderr",
     "output_type": "stream",
     "text": [
      "[WDM] - ====== WebDriver manager ======\n",
      "[WDM] - Current google-chrome version is 103.0.5060\n",
      "[WDM] - Get LATEST chromedriver version for 103.0.5060 google-chrome\n",
      "[WDM] - Driver [C:\\Users\\voyno\\.wdm\\drivers\\chromedriver\\win32\\103.0.5060.53\\chromedriver.exe] found in cache\n"
     ]
    },
    {
     "name": "stdout",
     "output_type": "stream",
     "text": [
      "0 <selenium.webdriver.remote.webelement.WebElement (session=\"35d09ba079a91c5813ccd44a05ecf073\", element=\"da4c95fe-bcad-4a88-ad8b-1682f4e840fe\")>\n",
      "1 <selenium.webdriver.remote.webelement.WebElement (session=\"35d09ba079a91c5813ccd44a05ecf073\", element=\"f1cc536e-2ae0-4233-9538-de5dff6f0b4b\")>\n",
      "2 <selenium.webdriver.remote.webelement.WebElement (session=\"35d09ba079a91c5813ccd44a05ecf073\", element=\"40902a9a-9721-422e-a18f-311636c4fc09\")>\n",
      "\n"
     ]
    },
    {
     "name": "stderr",
     "output_type": "stream",
     "text": [
      "[WDM] - ====== WebDriver manager ======\n",
      "[WDM] - Current google-chrome version is 103.0.5060\n",
      "[WDM] - Get LATEST chromedriver version for 103.0.5060 google-chrome\n",
      "[WDM] - Driver [C:\\Users\\voyno\\.wdm\\drivers\\chromedriver\\win32\\103.0.5060.53\\chromedriver.exe] found in cache\n"
     ]
    },
    {
     "name": "stdout",
     "output_type": "stream",
     "text": [
      "0 <selenium.webdriver.remote.webelement.WebElement (session=\"c675564d664e8fbb6558365f98a1f22a\", element=\"d3769690-02af-4d58-b57e-0c25140e3535\")>\n",
      "1 <selenium.webdriver.remote.webelement.WebElement (session=\"c675564d664e8fbb6558365f98a1f22a\", element=\"21baf108-b64b-42a9-a360-288db7df9f53\")>\n",
      "2 <selenium.webdriver.remote.webelement.WebElement (session=\"c675564d664e8fbb6558365f98a1f22a\", element=\"b176a33b-5c3d-4c61-a95e-d4367c2f25e2\")>\n",
      "\n"
     ]
    },
    {
     "name": "stderr",
     "output_type": "stream",
     "text": [
      "[WDM] - ====== WebDriver manager ======\n",
      "[WDM] - Current google-chrome version is 103.0.5060\n",
      "[WDM] - Get LATEST chromedriver version for 103.0.5060 google-chrome\n",
      "[WDM] - Driver [C:\\Users\\voyno\\.wdm\\drivers\\chromedriver\\win32\\103.0.5060.53\\chromedriver.exe] found in cache\n"
     ]
    },
    {
     "name": "stdout",
     "output_type": "stream",
     "text": [
      "0 <selenium.webdriver.remote.webelement.WebElement (session=\"28ef8bb2c32e7a9b9b9596652643878e\", element=\"95859c0f-a941-49b4-aac0-2da090682645\")>\n",
      "1 <selenium.webdriver.remote.webelement.WebElement (session=\"28ef8bb2c32e7a9b9b9596652643878e\", element=\"2a8b90ef-81fb-4120-8f91-33c212332847\")>\n",
      "2 <selenium.webdriver.remote.webelement.WebElement (session=\"28ef8bb2c32e7a9b9b9596652643878e\", element=\"f689e339-9843-4a1b-9b2a-d1859a3f51b5\")>\n",
      "\n"
     ]
    },
    {
     "name": "stderr",
     "output_type": "stream",
     "text": [
      "[WDM] - ====== WebDriver manager ======\n",
      "[WDM] - Current google-chrome version is 103.0.5060\n",
      "[WDM] - Get LATEST chromedriver version for 103.0.5060 google-chrome\n",
      "[WDM] - Driver [C:\\Users\\voyno\\.wdm\\drivers\\chromedriver\\win32\\103.0.5060.53\\chromedriver.exe] found in cache\n"
     ]
    },
    {
     "name": "stdout",
     "output_type": "stream",
     "text": [
      "0 <selenium.webdriver.remote.webelement.WebElement (session=\"04684ad8ee7b1996107166f56f9433e9\", element=\"ef215a04-967c-4764-9671-59b9e506f007\")>\n",
      "1 <selenium.webdriver.remote.webelement.WebElement (session=\"04684ad8ee7b1996107166f56f9433e9\", element=\"a33c644f-ea83-4ecb-87db-fc725ee541bf\")>\n",
      "2 <selenium.webdriver.remote.webelement.WebElement (session=\"04684ad8ee7b1996107166f56f9433e9\", element=\"82d83248-a163-41d0-8253-40e90b4ab5cb\")>\n",
      "\n"
     ]
    },
    {
     "name": "stderr",
     "output_type": "stream",
     "text": [
      "[WDM] - ====== WebDriver manager ======\n",
      "[WDM] - Current google-chrome version is 103.0.5060\n",
      "[WDM] - Get LATEST chromedriver version for 103.0.5060 google-chrome\n",
      "[WDM] - Driver [C:\\Users\\voyno\\.wdm\\drivers\\chromedriver\\win32\\103.0.5060.53\\chromedriver.exe] found in cache\n"
     ]
    },
    {
     "name": "stdout",
     "output_type": "stream",
     "text": [
      "0 <selenium.webdriver.remote.webelement.WebElement (session=\"5bd06b76923bb5ae87390175f57e04b8\", element=\"5d81b810-d284-419c-824a-ecb98760e2ea\")>\n",
      "1 <selenium.webdriver.remote.webelement.WebElement (session=\"5bd06b76923bb5ae87390175f57e04b8\", element=\"a5dc227e-b90e-4d4b-9364-26216331b99e\")>\n",
      "2 <selenium.webdriver.remote.webelement.WebElement (session=\"5bd06b76923bb5ae87390175f57e04b8\", element=\"c7110ed7-60d1-4d63-ae79-b15e11acb778\")>\n",
      "\n"
     ]
    },
    {
     "name": "stderr",
     "output_type": "stream",
     "text": [
      "[WDM] - ====== WebDriver manager ======\n",
      "[WDM] - Current google-chrome version is 103.0.5060\n",
      "[WDM] - Get LATEST chromedriver version for 103.0.5060 google-chrome\n",
      "[WDM] - Driver [C:\\Users\\voyno\\.wdm\\drivers\\chromedriver\\win32\\103.0.5060.53\\chromedriver.exe] found in cache\n"
     ]
    },
    {
     "name": "stdout",
     "output_type": "stream",
     "text": [
      "0 <selenium.webdriver.remote.webelement.WebElement (session=\"eb9305a9d6b1368a92fbcbdf6a17da97\", element=\"7a0ade8f-2e32-4cff-ab2a-822774c98412\")>\n",
      "1 <selenium.webdriver.remote.webelement.WebElement (session=\"eb9305a9d6b1368a92fbcbdf6a17da97\", element=\"24d42778-7202-4ed7-8eaf-3c66fedf412d\")>\n",
      "2 <selenium.webdriver.remote.webelement.WebElement (session=\"eb9305a9d6b1368a92fbcbdf6a17da97\", element=\"b3600a56-289c-4bcc-bd0c-5e7b5683116c\")>\n",
      "\n"
     ]
    },
    {
     "name": "stderr",
     "output_type": "stream",
     "text": [
      "[WDM] - ====== WebDriver manager ======\n",
      "[WDM] - Current google-chrome version is 103.0.5060\n",
      "[WDM] - Get LATEST chromedriver version for 103.0.5060 google-chrome\n",
      "[WDM] - Driver [C:\\Users\\voyno\\.wdm\\drivers\\chromedriver\\win32\\103.0.5060.53\\chromedriver.exe] found in cache\n"
     ]
    },
    {
     "name": "stdout",
     "output_type": "stream",
     "text": [
      "0 <selenium.webdriver.remote.webelement.WebElement (session=\"664eea181cbeff17bedeec7112c07b33\", element=\"fb713618-57e1-44ef-9575-668ac2fc23b5\")>\n",
      "1 <selenium.webdriver.remote.webelement.WebElement (session=\"664eea181cbeff17bedeec7112c07b33\", element=\"97a35269-ccf5-4464-a538-7c7910cd0d0f\")>\n",
      "2 <selenium.webdriver.remote.webelement.WebElement (session=\"664eea181cbeff17bedeec7112c07b33\", element=\"dfe06b1b-dade-46c9-8020-4763187f630f\")>\n",
      "\n"
     ]
    },
    {
     "name": "stderr",
     "output_type": "stream",
     "text": [
      "[WDM] - ====== WebDriver manager ======\n",
      "[WDM] - Current google-chrome version is 103.0.5060\n",
      "[WDM] - Get LATEST chromedriver version for 103.0.5060 google-chrome\n",
      "[WDM] - Driver [C:\\Users\\voyno\\.wdm\\drivers\\chromedriver\\win32\\103.0.5060.53\\chromedriver.exe] found in cache\n"
     ]
    },
    {
     "name": "stdout",
     "output_type": "stream",
     "text": [
      "0 <selenium.webdriver.remote.webelement.WebElement (session=\"c5d13ca402b82deed93972306611525c\", element=\"90f8415d-812e-4b91-a29b-6482f85c7c48\")>\n",
      "1 <selenium.webdriver.remote.webelement.WebElement (session=\"c5d13ca402b82deed93972306611525c\", element=\"76944162-c40a-428d-b02d-d82a528df0d7\")>\n",
      "2 <selenium.webdriver.remote.webelement.WebElement (session=\"c5d13ca402b82deed93972306611525c\", element=\"7b5edc1a-ef10-4a40-9f2b-929920c82db2\")>\n",
      "\n"
     ]
    },
    {
     "name": "stderr",
     "output_type": "stream",
     "text": [
      "[WDM] - ====== WebDriver manager ======\n",
      "[WDM] - Current google-chrome version is 103.0.5060\n",
      "[WDM] - Get LATEST chromedriver version for 103.0.5060 google-chrome\n",
      "[WDM] - Driver [C:\\Users\\voyno\\.wdm\\drivers\\chromedriver\\win32\\103.0.5060.53\\chromedriver.exe] found in cache\n"
     ]
    },
    {
     "name": "stdout",
     "output_type": "stream",
     "text": [
      "0 <selenium.webdriver.remote.webelement.WebElement (session=\"e34e5c14ba31e85cf864e31ed7a1f6c8\", element=\"d676d664-6bc1-46fd-9505-b5774acc549e\")>\n",
      "1 <selenium.webdriver.remote.webelement.WebElement (session=\"e34e5c14ba31e85cf864e31ed7a1f6c8\", element=\"20e84a4c-73fd-44b7-b782-bd52972dc969\")>\n",
      "2 <selenium.webdriver.remote.webelement.WebElement (session=\"e34e5c14ba31e85cf864e31ed7a1f6c8\", element=\"07e2d91c-3132-4665-9fbc-468941e75e4d\")>\n",
      "\n"
     ]
    },
    {
     "name": "stderr",
     "output_type": "stream",
     "text": [
      "[WDM] - ====== WebDriver manager ======\n",
      "[WDM] - Current google-chrome version is 103.0.5060\n",
      "[WDM] - Get LATEST chromedriver version for 103.0.5060 google-chrome\n",
      "[WDM] - Driver [C:\\Users\\voyno\\.wdm\\drivers\\chromedriver\\win32\\103.0.5060.53\\chromedriver.exe] found in cache\n"
     ]
    },
    {
     "name": "stdout",
     "output_type": "stream",
     "text": [
      "0 <selenium.webdriver.remote.webelement.WebElement (session=\"8527477754a4443aefeb16fcf04efd1c\", element=\"ced5ecca-ee13-45c2-865f-32020df87d90\")>\n",
      "1 <selenium.webdriver.remote.webelement.WebElement (session=\"8527477754a4443aefeb16fcf04efd1c\", element=\"32bf039d-e094-4ebc-9a01-34eaa033fbbd\")>\n",
      "2 <selenium.webdriver.remote.webelement.WebElement (session=\"8527477754a4443aefeb16fcf04efd1c\", element=\"cce5249c-a80d-47b5-856c-0fb3ba7a16cb\")>\n",
      "\n"
     ]
    },
    {
     "name": "stderr",
     "output_type": "stream",
     "text": [
      "[WDM] - ====== WebDriver manager ======\n",
      "[WDM] - Current google-chrome version is 103.0.5060\n",
      "[WDM] - Get LATEST chromedriver version for 103.0.5060 google-chrome\n",
      "[WDM] - Driver [C:\\Users\\voyno\\.wdm\\drivers\\chromedriver\\win32\\103.0.5060.53\\chromedriver.exe] found in cache\n"
     ]
    },
    {
     "name": "stdout",
     "output_type": "stream",
     "text": [
      "0 <selenium.webdriver.remote.webelement.WebElement (session=\"e42e97f418a81bcf691f49a68bd40a8b\", element=\"8d3ed5c8-89f9-444e-ad00-f0b700657256\")>\n",
      "1 <selenium.webdriver.remote.webelement.WebElement (session=\"e42e97f418a81bcf691f49a68bd40a8b\", element=\"9c8e1447-8077-45ed-b650-913cc2ca5ce8\")>\n",
      "2 <selenium.webdriver.remote.webelement.WebElement (session=\"e42e97f418a81bcf691f49a68bd40a8b\", element=\"32c62daa-8f47-4217-adab-a2f5f686bfe7\")>\n",
      "\n"
     ]
    },
    {
     "name": "stderr",
     "output_type": "stream",
     "text": [
      "[WDM] - ====== WebDriver manager ======\n",
      "[WDM] - Current google-chrome version is 103.0.5060\n",
      "[WDM] - Get LATEST chromedriver version for 103.0.5060 google-chrome\n",
      "[WDM] - Driver [C:\\Users\\voyno\\.wdm\\drivers\\chromedriver\\win32\\103.0.5060.53\\chromedriver.exe] found in cache\n"
     ]
    },
    {
     "name": "stdout",
     "output_type": "stream",
     "text": [
      "0 <selenium.webdriver.remote.webelement.WebElement (session=\"ce899b1572c2b256a1ef6d15197ef031\", element=\"957c7a0c-4e76-4faa-9af7-b9e565475afb\")>\n",
      "1 <selenium.webdriver.remote.webelement.WebElement (session=\"ce899b1572c2b256a1ef6d15197ef031\", element=\"7f48d07e-24ba-46a3-8e97-6cd029a84147\")>\n",
      "2 <selenium.webdriver.remote.webelement.WebElement (session=\"ce899b1572c2b256a1ef6d15197ef031\", element=\"eb8da1f2-21b2-4f47-886b-01c651f14a0b\")>\n",
      "\n"
     ]
    },
    {
     "name": "stderr",
     "output_type": "stream",
     "text": [
      "[WDM] - ====== WebDriver manager ======\n",
      "[WDM] - Current google-chrome version is 103.0.5060\n",
      "[WDM] - Get LATEST chromedriver version for 103.0.5060 google-chrome\n",
      "[WDM] - Driver [C:\\Users\\voyno\\.wdm\\drivers\\chromedriver\\win32\\103.0.5060.53\\chromedriver.exe] found in cache\n"
     ]
    },
    {
     "name": "stdout",
     "output_type": "stream",
     "text": [
      "0 <selenium.webdriver.remote.webelement.WebElement (session=\"4c48e25d53f4fa08e676b5b5ec604e92\", element=\"9ffcac71-283d-4648-8949-588b32f20063\")>\n",
      "1 <selenium.webdriver.remote.webelement.WebElement (session=\"4c48e25d53f4fa08e676b5b5ec604e92\", element=\"e82fa469-b16d-4f0c-9764-43cd7fc41bde\")>\n",
      "\n"
     ]
    },
    {
     "name": "stderr",
     "output_type": "stream",
     "text": [
      "[WDM] - ====== WebDriver manager ======\n",
      "[WDM] - Current google-chrome version is 103.0.5060\n",
      "[WDM] - Get LATEST chromedriver version for 103.0.5060 google-chrome\n",
      "[WDM] - Driver [C:\\Users\\voyno\\.wdm\\drivers\\chromedriver\\win32\\103.0.5060.53\\chromedriver.exe] found in cache\n"
     ]
    },
    {
     "name": "stdout",
     "output_type": "stream",
     "text": [
      "0 <selenium.webdriver.remote.webelement.WebElement (session=\"bd537fdb2aa588d2c2ff7602fe465ce4\", element=\"27bd9fd6-799b-4610-8e63-52db6f9bd02c\")>\n",
      "1 <selenium.webdriver.remote.webelement.WebElement (session=\"bd537fdb2aa588d2c2ff7602fe465ce4\", element=\"3dbc3112-0b77-4474-8db6-74b41e36fe41\")>\n",
      "\n"
     ]
    },
    {
     "name": "stderr",
     "output_type": "stream",
     "text": [
      "[WDM] - ====== WebDriver manager ======\n",
      "[WDM] - Current google-chrome version is 103.0.5060\n",
      "[WDM] - Get LATEST chromedriver version for 103.0.5060 google-chrome\n",
      "[WDM] - Driver [C:\\Users\\voyno\\.wdm\\drivers\\chromedriver\\win32\\103.0.5060.53\\chromedriver.exe] found in cache\n"
     ]
    },
    {
     "name": "stdout",
     "output_type": "stream",
     "text": [
      "0 <selenium.webdriver.remote.webelement.WebElement (session=\"1ac611a90c1785dc0982dcb2f0b432b2\", element=\"4f4a0dde-5a2f-4086-811d-c9456d67bf78\")>\n",
      "1 <selenium.webdriver.remote.webelement.WebElement (session=\"1ac611a90c1785dc0982dcb2f0b432b2\", element=\"93c95886-7295-4a1c-af1f-9ce6e15bc6db\")>\n",
      "2 <selenium.webdriver.remote.webelement.WebElement (session=\"1ac611a90c1785dc0982dcb2f0b432b2\", element=\"168f1455-5959-4487-9bef-38a9ca4ac733\")>\n",
      "\n"
     ]
    },
    {
     "name": "stderr",
     "output_type": "stream",
     "text": [
      "[WDM] - ====== WebDriver manager ======\n",
      "[WDM] - Current google-chrome version is 103.0.5060\n",
      "[WDM] - Get LATEST chromedriver version for 103.0.5060 google-chrome\n",
      "[WDM] - Driver [C:\\Users\\voyno\\.wdm\\drivers\\chromedriver\\win32\\103.0.5060.53\\chromedriver.exe] found in cache\n"
     ]
    },
    {
     "name": "stdout",
     "output_type": "stream",
     "text": [
      "0 <selenium.webdriver.remote.webelement.WebElement (session=\"e185a6eda92fcdc85ef169a01530147e\", element=\"364faaa3-6a56-4618-9fd1-57ad2bf8140b\")>\n",
      "1 <selenium.webdriver.remote.webelement.WebElement (session=\"e185a6eda92fcdc85ef169a01530147e\", element=\"5d0d2760-d6d9-44b5-967b-1735725a32d9\")>\n",
      "2 <selenium.webdriver.remote.webelement.WebElement (session=\"e185a6eda92fcdc85ef169a01530147e\", element=\"e2642744-5eb9-47ad-961a-e1bc7ceceb04\")>\n",
      "\n"
     ]
    },
    {
     "name": "stderr",
     "output_type": "stream",
     "text": [
      "[WDM] - ====== WebDriver manager ======\n",
      "[WDM] - Current google-chrome version is 103.0.5060\n",
      "[WDM] - Get LATEST chromedriver version for 103.0.5060 google-chrome\n",
      "[WDM] - Driver [C:\\Users\\voyno\\.wdm\\drivers\\chromedriver\\win32\\103.0.5060.53\\chromedriver.exe] found in cache\n"
     ]
    },
    {
     "name": "stdout",
     "output_type": "stream",
     "text": [
      "0 <selenium.webdriver.remote.webelement.WebElement (session=\"71d93915c30cae8557d5003b110353ce\", element=\"22fd3e2a-b3e5-43cc-8e34-439ada3c8d97\")>\n",
      "1 <selenium.webdriver.remote.webelement.WebElement (session=\"71d93915c30cae8557d5003b110353ce\", element=\"79dba14d-37ba-430d-b4db-bae5c8a63f9d\")>\n",
      "2 <selenium.webdriver.remote.webelement.WebElement (session=\"71d93915c30cae8557d5003b110353ce\", element=\"ddf11316-4a14-45f4-b2c6-1a0d69898980\")>\n",
      "\n"
     ]
    },
    {
     "name": "stderr",
     "output_type": "stream",
     "text": [
      "[WDM] - ====== WebDriver manager ======\n",
      "[WDM] - Current google-chrome version is 103.0.5060\n",
      "[WDM] - Get LATEST chromedriver version for 103.0.5060 google-chrome\n",
      "[WDM] - Driver [C:\\Users\\voyno\\.wdm\\drivers\\chromedriver\\win32\\103.0.5060.53\\chromedriver.exe] found in cache\n"
     ]
    },
    {
     "name": "stdout",
     "output_type": "stream",
     "text": [
      "0 <selenium.webdriver.remote.webelement.WebElement (session=\"54d4dc606d3d2ef515bab7f4bc05f1e0\", element=\"a78b481d-31db-4ca6-a16c-76770871564e\")>\n",
      "1 <selenium.webdriver.remote.webelement.WebElement (session=\"54d4dc606d3d2ef515bab7f4bc05f1e0\", element=\"356403e9-e4d6-4b5d-bae0-b763f2511aa2\")>\n",
      "2 <selenium.webdriver.remote.webelement.WebElement (session=\"54d4dc606d3d2ef515bab7f4bc05f1e0\", element=\"693cf104-4ae9-41d1-ad99-5cf59c4f4ed6\")>\n",
      "\n"
     ]
    },
    {
     "name": "stderr",
     "output_type": "stream",
     "text": [
      "[WDM] - ====== WebDriver manager ======\n",
      "[WDM] - Current google-chrome version is 103.0.5060\n",
      "[WDM] - Get LATEST chromedriver version for 103.0.5060 google-chrome\n",
      "[WDM] - Driver [C:\\Users\\voyno\\.wdm\\drivers\\chromedriver\\win32\\103.0.5060.53\\chromedriver.exe] found in cache\n"
     ]
    },
    {
     "name": "stdout",
     "output_type": "stream",
     "text": [
      "0 <selenium.webdriver.remote.webelement.WebElement (session=\"a2e1cf1cb54f08855ad10deda73dee72\", element=\"63edafac-9b69-4b9d-bd5d-c862396115cd\")>\n",
      "1 <selenium.webdriver.remote.webelement.WebElement (session=\"a2e1cf1cb54f08855ad10deda73dee72\", element=\"81440f10-0a02-43c4-9314-4b773e3c1d1f\")>\n",
      "\n"
     ]
    },
    {
     "name": "stderr",
     "output_type": "stream",
     "text": [
      "[WDM] - ====== WebDriver manager ======\n",
      "[WDM] - Current google-chrome version is 103.0.5060\n",
      "[WDM] - Get LATEST chromedriver version for 103.0.5060 google-chrome\n",
      "[WDM] - Driver [C:\\Users\\voyno\\.wdm\\drivers\\chromedriver\\win32\\103.0.5060.53\\chromedriver.exe] found in cache\n"
     ]
    },
    {
     "name": "stdout",
     "output_type": "stream",
     "text": [
      "0 <selenium.webdriver.remote.webelement.WebElement (session=\"f304a2ce7005e36f5ba9166e0d98ffaf\", element=\"21dc2e5f-33db-484b-9332-fc19b44c3882\")>\n",
      "1 <selenium.webdriver.remote.webelement.WebElement (session=\"f304a2ce7005e36f5ba9166e0d98ffaf\", element=\"af4f5896-cef3-4921-a134-5ebd771d2eb7\")>\n",
      "\n"
     ]
    },
    {
     "name": "stderr",
     "output_type": "stream",
     "text": [
      "[WDM] - ====== WebDriver manager ======\n",
      "[WDM] - Current google-chrome version is 103.0.5060\n",
      "[WDM] - Get LATEST chromedriver version for 103.0.5060 google-chrome\n",
      "[WDM] - Driver [C:\\Users\\voyno\\.wdm\\drivers\\chromedriver\\win32\\103.0.5060.53\\chromedriver.exe] found in cache\n"
     ]
    },
    {
     "name": "stdout",
     "output_type": "stream",
     "text": [
      "0 <selenium.webdriver.remote.webelement.WebElement (session=\"76e027f2d8297f7c1866f679e904374a\", element=\"745fa9d2-ecd6-4425-8375-3e0877357d78\")>\n",
      "1 <selenium.webdriver.remote.webelement.WebElement (session=\"76e027f2d8297f7c1866f679e904374a\", element=\"08194984-9da6-4b74-a874-b0cda61718aa\")>\n",
      "\n"
     ]
    },
    {
     "name": "stderr",
     "output_type": "stream",
     "text": [
      "[WDM] - ====== WebDriver manager ======\n",
      "[WDM] - Current google-chrome version is 103.0.5060\n",
      "[WDM] - Get LATEST chromedriver version for 103.0.5060 google-chrome\n",
      "[WDM] - Driver [C:\\Users\\voyno\\.wdm\\drivers\\chromedriver\\win32\\103.0.5060.53\\chromedriver.exe] found in cache\n"
     ]
    },
    {
     "name": "stdout",
     "output_type": "stream",
     "text": [
      "0 <selenium.webdriver.remote.webelement.WebElement (session=\"d5a0b0298829048855b5fc404720c901\", element=\"89d10bb7-e575-4bf5-996d-9694850b70c7\")>\n",
      "1 <selenium.webdriver.remote.webelement.WebElement (session=\"d5a0b0298829048855b5fc404720c901\", element=\"77eb7eb3-e4b6-4019-a372-536675c9b419\")>\n",
      "2 <selenium.webdriver.remote.webelement.WebElement (session=\"d5a0b0298829048855b5fc404720c901\", element=\"b46a4566-8864-4890-8ee5-7c7afc82e31b\")>\n",
      "\n"
     ]
    },
    {
     "name": "stderr",
     "output_type": "stream",
     "text": [
      "[WDM] - ====== WebDriver manager ======\n",
      "[WDM] - Current google-chrome version is 103.0.5060\n",
      "[WDM] - Get LATEST chromedriver version for 103.0.5060 google-chrome\n",
      "[WDM] - Driver [C:\\Users\\voyno\\.wdm\\drivers\\chromedriver\\win32\\103.0.5060.53\\chromedriver.exe] found in cache\n"
     ]
    },
    {
     "name": "stdout",
     "output_type": "stream",
     "text": [
      "0 <selenium.webdriver.remote.webelement.WebElement (session=\"bdd8f5912d082586a8fe8c87a1915329\", element=\"9bccd6cb-2a48-4c3d-9753-0dbab4556fd8\")>\n",
      "1 <selenium.webdriver.remote.webelement.WebElement (session=\"bdd8f5912d082586a8fe8c87a1915329\", element=\"8f12bc1b-55b2-4062-b127-76d165224d4c\")>\n",
      "\n"
     ]
    },
    {
     "name": "stderr",
     "output_type": "stream",
     "text": [
      "[WDM] - ====== WebDriver manager ======\n",
      "[WDM] - Current google-chrome version is 103.0.5060\n",
      "[WDM] - Get LATEST chromedriver version for 103.0.5060 google-chrome\n",
      "[WDM] - Driver [C:\\Users\\voyno\\.wdm\\drivers\\chromedriver\\win32\\103.0.5060.53\\chromedriver.exe] found in cache\n"
     ]
    },
    {
     "name": "stdout",
     "output_type": "stream",
     "text": [
      "0 <selenium.webdriver.remote.webelement.WebElement (session=\"fd758f9c34ca3bd62ba688024460af79\", element=\"9c097015-92a7-4683-b39f-d019d87e96ad\")>\n",
      "1 <selenium.webdriver.remote.webelement.WebElement (session=\"fd758f9c34ca3bd62ba688024460af79\", element=\"6519a1b9-83ee-49c6-81bb-ccdb28545562\")>\n",
      "\n"
     ]
    },
    {
     "name": "stderr",
     "output_type": "stream",
     "text": [
      "[WDM] - ====== WebDriver manager ======\n",
      "[WDM] - Current google-chrome version is 103.0.5060\n",
      "[WDM] - Get LATEST chromedriver version for 103.0.5060 google-chrome\n",
      "[WDM] - Driver [C:\\Users\\voyno\\.wdm\\drivers\\chromedriver\\win32\\103.0.5060.53\\chromedriver.exe] found in cache\n"
     ]
    },
    {
     "name": "stdout",
     "output_type": "stream",
     "text": [
      "0 <selenium.webdriver.remote.webelement.WebElement (session=\"326028bbaf421f1afd92ed374c661429\", element=\"0aa0c447-0371-4fee-b60b-45ce51ad9dda\")>\n",
      "1 <selenium.webdriver.remote.webelement.WebElement (session=\"326028bbaf421f1afd92ed374c661429\", element=\"ab9e2f6c-2066-412b-a303-bfabe9e0d786\")>\n",
      "\n"
     ]
    },
    {
     "name": "stderr",
     "output_type": "stream",
     "text": [
      "[WDM] - ====== WebDriver manager ======\n",
      "[WDM] - Current google-chrome version is 103.0.5060\n",
      "[WDM] - Get LATEST chromedriver version for 103.0.5060 google-chrome\n",
      "[WDM] - Driver [C:\\Users\\voyno\\.wdm\\drivers\\chromedriver\\win32\\103.0.5060.53\\chromedriver.exe] found in cache\n"
     ]
    },
    {
     "name": "stdout",
     "output_type": "stream",
     "text": [
      "0 <selenium.webdriver.remote.webelement.WebElement (session=\"eb6dd36c5a8e4b172a7ff6d69b416c2e\", element=\"7da72f79-7be0-4e0b-8709-44018a5c7712\")>\n",
      "1 <selenium.webdriver.remote.webelement.WebElement (session=\"eb6dd36c5a8e4b172a7ff6d69b416c2e\", element=\"3a10fd1a-9d36-41ee-9ee1-d9a89a034d0b\")>\n",
      "\n"
     ]
    },
    {
     "name": "stderr",
     "output_type": "stream",
     "text": [
      "[WDM] - ====== WebDriver manager ======\n",
      "[WDM] - Current google-chrome version is 103.0.5060\n",
      "[WDM] - Get LATEST chromedriver version for 103.0.5060 google-chrome\n",
      "[WDM] - Driver [C:\\Users\\voyno\\.wdm\\drivers\\chromedriver\\win32\\103.0.5060.53\\chromedriver.exe] found in cache\n"
     ]
    },
    {
     "name": "stdout",
     "output_type": "stream",
     "text": [
      "0 <selenium.webdriver.remote.webelement.WebElement (session=\"a8a137fa8fadae61b170d26caad4ec07\", element=\"0d9a0939-b116-405b-98e9-d16f1fb0bfd0\")>\n",
      "1 <selenium.webdriver.remote.webelement.WebElement (session=\"a8a137fa8fadae61b170d26caad4ec07\", element=\"761bbe46-d49c-4976-85a3-c1f83455eb9c\")>\n",
      "\n"
     ]
    },
    {
     "name": "stderr",
     "output_type": "stream",
     "text": [
      "[WDM] - ====== WebDriver manager ======\n",
      "[WDM] - Current google-chrome version is 103.0.5060\n",
      "[WDM] - Get LATEST chromedriver version for 103.0.5060 google-chrome\n",
      "[WDM] - Driver [C:\\Users\\voyno\\.wdm\\drivers\\chromedriver\\win32\\103.0.5060.53\\chromedriver.exe] found in cache\n"
     ]
    },
    {
     "name": "stdout",
     "output_type": "stream",
     "text": [
      "0 <selenium.webdriver.remote.webelement.WebElement (session=\"049dca4fc6029082ee664c69d326cf1d\", element=\"6a22779c-26db-43ee-92fc-dbb004e30542\")>\n",
      "1 <selenium.webdriver.remote.webelement.WebElement (session=\"049dca4fc6029082ee664c69d326cf1d\", element=\"52c41b8e-d285-461e-9065-9e0f2e58c2b8\")>\n",
      "2 <selenium.webdriver.remote.webelement.WebElement (session=\"049dca4fc6029082ee664c69d326cf1d\", element=\"dec68c7d-1621-47d8-8aec-347f8ba01d4d\")>\n",
      "\n"
     ]
    },
    {
     "name": "stderr",
     "output_type": "stream",
     "text": [
      "[WDM] - ====== WebDriver manager ======\n",
      "[WDM] - Current google-chrome version is 103.0.5060\n",
      "[WDM] - Get LATEST chromedriver version for 103.0.5060 google-chrome\n",
      "[WDM] - Driver [C:\\Users\\voyno\\.wdm\\drivers\\chromedriver\\win32\\103.0.5060.53\\chromedriver.exe] found in cache\n"
     ]
    },
    {
     "name": "stdout",
     "output_type": "stream",
     "text": [
      "0 <selenium.webdriver.remote.webelement.WebElement (session=\"18bffd918bf37c7bf801ec4fe10ececd\", element=\"f1ac0457-ba55-4b80-bff3-ffeee820b97b\")>\n",
      "1 <selenium.webdriver.remote.webelement.WebElement (session=\"18bffd918bf37c7bf801ec4fe10ececd\", element=\"323b0ed9-eb74-4a7b-b6ce-5839a1733d3c\")>\n",
      "\n"
     ]
    },
    {
     "name": "stderr",
     "output_type": "stream",
     "text": [
      "[WDM] - ====== WebDriver manager ======\n",
      "[WDM] - Current google-chrome version is 103.0.5060\n",
      "[WDM] - Get LATEST chromedriver version for 103.0.5060 google-chrome\n",
      "[WDM] - Driver [C:\\Users\\voyno\\.wdm\\drivers\\chromedriver\\win32\\103.0.5060.53\\chromedriver.exe] found in cache\n"
     ]
    },
    {
     "name": "stdout",
     "output_type": "stream",
     "text": [
      "0 <selenium.webdriver.remote.webelement.WebElement (session=\"b1c9cc077edc7b602c71fc9af8b61f83\", element=\"4cb18547-8938-4ba9-83d8-32fba014673e\")>\n",
      "1 <selenium.webdriver.remote.webelement.WebElement (session=\"b1c9cc077edc7b602c71fc9af8b61f83\", element=\"d248cb13-8b67-4c77-a671-b56b6ff8cf32\")>\n",
      "2 <selenium.webdriver.remote.webelement.WebElement (session=\"b1c9cc077edc7b602c71fc9af8b61f83\", element=\"3cb4b21b-bd42-44ce-932a-e863e23a4cfd\")>\n",
      "\n"
     ]
    },
    {
     "name": "stderr",
     "output_type": "stream",
     "text": [
      "[WDM] - ====== WebDriver manager ======\n",
      "[WDM] - Current google-chrome version is 103.0.5060\n",
      "[WDM] - Get LATEST chromedriver version for 103.0.5060 google-chrome\n",
      "[WDM] - Driver [C:\\Users\\voyno\\.wdm\\drivers\\chromedriver\\win32\\103.0.5060.53\\chromedriver.exe] found in cache\n"
     ]
    },
    {
     "name": "stdout",
     "output_type": "stream",
     "text": [
      "0 <selenium.webdriver.remote.webelement.WebElement (session=\"cc5b80021c567d4727eef9f99f94c3d0\", element=\"1a625d34-c414-47e9-bce2-1713fa392395\")>\n",
      "1 <selenium.webdriver.remote.webelement.WebElement (session=\"cc5b80021c567d4727eef9f99f94c3d0\", element=\"0ef41133-bba0-426c-8273-e36810f561b2\")>\n",
      "\n"
     ]
    },
    {
     "name": "stderr",
     "output_type": "stream",
     "text": [
      "[WDM] - ====== WebDriver manager ======\n",
      "[WDM] - Current google-chrome version is 103.0.5060\n",
      "[WDM] - Get LATEST chromedriver version for 103.0.5060 google-chrome\n",
      "[WDM] - Driver [C:\\Users\\voyno\\.wdm\\drivers\\chromedriver\\win32\\103.0.5060.53\\chromedriver.exe] found in cache\n"
     ]
    },
    {
     "name": "stdout",
     "output_type": "stream",
     "text": [
      "0 <selenium.webdriver.remote.webelement.WebElement (session=\"0edef03c60c97ef11ff190e57e1ea3de\", element=\"a05667fa-0218-4793-a005-b8354cd80288\")>\n",
      "1 <selenium.webdriver.remote.webelement.WebElement (session=\"0edef03c60c97ef11ff190e57e1ea3de\", element=\"83e121fb-0551-4a9c-bcdc-27094a0c0672\")>\n",
      "\n"
     ]
    },
    {
     "name": "stderr",
     "output_type": "stream",
     "text": [
      "[WDM] - ====== WebDriver manager ======\n",
      "[WDM] - Current google-chrome version is 103.0.5060\n",
      "[WDM] - Get LATEST chromedriver version for 103.0.5060 google-chrome\n",
      "[WDM] - Driver [C:\\Users\\voyno\\.wdm\\drivers\\chromedriver\\win32\\103.0.5060.53\\chromedriver.exe] found in cache\n"
     ]
    },
    {
     "name": "stdout",
     "output_type": "stream",
     "text": [
      "0 <selenium.webdriver.remote.webelement.WebElement (session=\"92bf3af81b3716ec1079b735cb462f4f\", element=\"ab3706c1-1cad-4249-b2b4-2d942d305d25\")>\n",
      "1 <selenium.webdriver.remote.webelement.WebElement (session=\"92bf3af81b3716ec1079b735cb462f4f\", element=\"68c4e87d-67a4-4922-a173-7aea902eefe3\")>\n",
      "2 <selenium.webdriver.remote.webelement.WebElement (session=\"92bf3af81b3716ec1079b735cb462f4f\", element=\"31fa1f1d-551d-4d59-b792-d2207c560d46\")>\n",
      "\n"
     ]
    },
    {
     "name": "stderr",
     "output_type": "stream",
     "text": [
      "[WDM] - ====== WebDriver manager ======\n",
      "[WDM] - Current google-chrome version is 103.0.5060\n",
      "[WDM] - Get LATEST chromedriver version for 103.0.5060 google-chrome\n",
      "[WDM] - Driver [C:\\Users\\voyno\\.wdm\\drivers\\chromedriver\\win32\\103.0.5060.53\\chromedriver.exe] found in cache\n"
     ]
    },
    {
     "name": "stdout",
     "output_type": "stream",
     "text": [
      "0 <selenium.webdriver.remote.webelement.WebElement (session=\"308b8a1525ca15a5a930c8935b6f1624\", element=\"d761f476-fb25-4fc1-8011-ba1c283ab3f9\")>\n",
      "1 <selenium.webdriver.remote.webelement.WebElement (session=\"308b8a1525ca15a5a930c8935b6f1624\", element=\"d8cea7aa-c1e3-4659-927d-2533940bf526\")>\n",
      "2 <selenium.webdriver.remote.webelement.WebElement (session=\"308b8a1525ca15a5a930c8935b6f1624\", element=\"48f8375a-9fe4-4dad-a3c5-9382b401064f\")>\n"
     ]
    },
    {
     "ename": "ValueError",
     "evalue": "too many values to unpack (expected 2)",
     "output_type": "error",
     "traceback": [
      "\u001b[1;31m---------------------------------------------------------------------------\u001b[0m",
      "\u001b[1;31mValueError\u001b[0m                                Traceback (most recent call last)",
      "\u001b[1;32mc:\\Users\\voyno\\Desktop\\code\\repos\\espn-fantasy-football\\etl.ipynb Cell 4'\u001b[0m in \u001b[0;36m<cell line: 1>\u001b[1;34m()\u001b[0m\n\u001b[1;32m----> <a href='vscode-notebook-cell:/c%3A/Users/voyno/Desktop/code/repos/espn-fantasy-football/etl.ipynb#ch0000003?line=0'>1</a>\u001b[0m raw_data, missing_players \u001b[39m=\u001b[39m extract\u001b[39m.\u001b[39mextract()\n\u001b[0;32m      <a href='vscode-notebook-cell:/c%3A/Users/voyno/Desktop/code/repos/espn-fantasy-football/etl.ipynb#ch0000003?line=1'>2</a>\u001b[0m \u001b[39mwith\u001b[39;00m \u001b[39mopen\u001b[39m(raw_loc, \u001b[39m'\u001b[39m\u001b[39mwb\u001b[39m\u001b[39m'\u001b[39m) \u001b[39mas\u001b[39;00m f:\n\u001b[0;32m      <a href='vscode-notebook-cell:/c%3A/Users/voyno/Desktop/code/repos/espn-fantasy-football/etl.ipynb#ch0000003?line=2'>3</a>\u001b[0m     pickle\u001b[39m.\u001b[39mdump(raw_data, f)\n",
      "\u001b[1;31mValueError\u001b[0m: too many values to unpack (expected 2)"
     ]
    }
   ],
   "source": [
    "raw_data = extract.extract()\n",
    "with open(raw_loc, 'wb') as f:\n",
    "    pickle.dump(raw_data, f)"
   ]
  },
  {
   "cell_type": "code",
   "execution_count": 84,
   "metadata": {},
   "outputs": [],
   "source": [
    "clean_data = transform.transform()\n",
    "with open(clean_loc, \"w\") as f:\n",
    "    json.dump(clean_data, f, indent=4)"
   ]
  },
  {
   "cell_type": "code",
   "execution_count": 39,
   "metadata": {},
   "outputs": [],
   "source": []
  }
 ],
 "metadata": {
  "kernelspec": {
   "display_name": "Python 3.8.0 ('venv': venv)",
   "language": "python",
   "name": "python3"
  },
  "language_info": {
   "codemirror_mode": {
    "name": "ipython",
    "version": 3
   },
   "file_extension": ".py",
   "mimetype": "text/x-python",
   "name": "python",
   "nbconvert_exporter": "python",
   "pygments_lexer": "ipython3",
   "version": "3.8.0"
  },
  "orig_nbformat": 4,
  "vscode": {
   "interpreter": {
    "hash": "784692254b77ada57f3128df0a88ff89f3a7cbde4f0bdf9eb7754ce7391f8afa"
   }
  }
 },
 "nbformat": 4,
 "nbformat_minor": 2
}
