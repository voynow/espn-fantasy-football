{
 "cells": [
  {
   "cell_type": "code",
   "execution_count": 1,
   "metadata": {},
   "outputs": [],
   "source": [
    "%load_ext autoreload\n",
    "%autoreload 2"
   ]
  },
  {
   "cell_type": "code",
   "execution_count": 2,
   "metadata": {},
   "outputs": [],
   "source": [
    "import json\n",
    "import pathlib\n",
    "import pickle\n",
    "\n",
    "from utils import extract, transform"
   ]
  },
  {
   "cell_type": "code",
   "execution_count": 3,
   "metadata": {},
   "outputs": [],
   "source": [
    "data_folder = pathlib.Path('data/')\n",
    "raw_loc = data_folder / 'game_level.pkl'\n",
    "clean_loc = data_folder / 'player_data_dict.json'"
   ]
  },
  {
   "cell_type": "code",
   "execution_count": 31,
   "metadata": {},
   "outputs": [
    {
     "name": "stdout",
     "output_type": "stream",
     "text": [
      "\n"
     ]
    },
    {
     "name": "stderr",
     "output_type": "stream",
     "text": [
      "[WDM] - ====== WebDriver manager ======\n",
      "[WDM] - Current google-chrome version is 103.0.5060\n",
      "[WDM] - Get LATEST chromedriver version for 103.0.5060 google-chrome\n",
      "[WDM] - Driver [C:\\Users\\voyno\\.wdm\\drivers\\chromedriver\\win32\\103.0.5060.53\\chromedriver.exe] found in cache\n"
     ]
    },
    {
     "name": "stdout",
     "output_type": "stream",
     "text": [
      "Cooper Kupp/nLink: <selenium.webdriver.remote.webelement.WebElement (session=\"16089c86b2c9e2a3fac0b4186becc192\", element=\"aba04784-383d-4270-bb98-ac6f1c90acd9\")>\n",
      "Player card: <selenium.webdriver.remote.webelement.WebElement (session=\"16089c86b2c9e2a3fac0b4186becc192\", element=\"9600ff58-da9f-4304-9b4b-1d326eebd1ef\")>\n",
      "\n"
     ]
    },
    {
     "name": "stderr",
     "output_type": "stream",
     "text": [
      "[WDM] - ====== WebDriver manager ======\n",
      "[WDM] - Current google-chrome version is 103.0.5060\n",
      "[WDM] - Get LATEST chromedriver version for 103.0.5060 google-chrome\n",
      "[WDM] - Driver [C:\\Users\\voyno\\.wdm\\drivers\\chromedriver\\win32\\103.0.5060.53\\chromedriver.exe] found in cache\n"
     ]
    },
    {
     "name": "stdout",
     "output_type": "stream",
     "text": [
      "Found the following data tables:\n",
      "0 <selenium.webdriver.remote.webelement.WebElement (session=\"353eb865b241657cdab41f941bdf6e8b\", element=\"0f393351-7b6a-46ce-a87d-429f59c137b3\")>\n",
      "1 <selenium.webdriver.remote.webelement.WebElement (session=\"353eb865b241657cdab41f941bdf6e8b\", element=\"2517f6a7-eb4f-42af-87c1-7026b855864b\")>\n",
      "2 <selenium.webdriver.remote.webelement.WebElement (session=\"353eb865b241657cdab41f941bdf6e8b\", element=\"197df624-90bf-47d2-b36a-fa3e8cf8f972\")>\n",
      "Josh Allen/nLink: <selenium.webdriver.remote.webelement.WebElement (session=\"16089c86b2c9e2a3fac0b4186becc192\", element=\"c18e553e-c394-45c0-9111-f13b45c3e2d4\")>\n",
      "Player card: <selenium.webdriver.remote.webelement.WebElement (session=\"16089c86b2c9e2a3fac0b4186becc192\", element=\"30023c28-860b-4ec8-b87b-7c872a2b31ff\")>\n",
      "\n"
     ]
    },
    {
     "name": "stderr",
     "output_type": "stream",
     "text": [
      "[WDM] - ====== WebDriver manager ======\n",
      "[WDM] - Current google-chrome version is 103.0.5060\n",
      "[WDM] - Get LATEST chromedriver version for 103.0.5060 google-chrome\n",
      "[WDM] - Driver [C:\\Users\\voyno\\.wdm\\drivers\\chromedriver\\win32\\103.0.5060.53\\chromedriver.exe] found in cache\n"
     ]
    },
    {
     "name": "stdout",
     "output_type": "stream",
     "text": [
      "Found the following data tables:\n",
      "0 <selenium.webdriver.remote.webelement.WebElement (session=\"aa5c094a4f3d70d779b2379e0a9c8593\", element=\"6e28653d-f113-4718-9a4b-a30a9ec40d07\")>\n",
      "1 <selenium.webdriver.remote.webelement.WebElement (session=\"aa5c094a4f3d70d779b2379e0a9c8593\", element=\"f0b366c1-8efe-4935-b3b6-e55384b03d2b\")>\n",
      "2 <selenium.webdriver.remote.webelement.WebElement (session=\"aa5c094a4f3d70d779b2379e0a9c8593\", element=\"18043471-a398-45c3-a213-03fd5474dc00\")>\n",
      "/nLink: <selenium.webdriver.remote.webelement.WebElement (session=\"16089c86b2c9e2a3fac0b4186becc192\", element=\"df0a7dd6-8e5c-4682-96f7-3d5147fdb1e1\")>\n",
      "Player card: <selenium.webdriver.remote.webelement.WebElement (session=\"16089c86b2c9e2a3fac0b4186becc192\", element=\"61237e63-9669-4d06-aae4-5f9c82ad6b40\")>\n",
      "\n"
     ]
    },
    {
     "name": "stderr",
     "output_type": "stream",
     "text": [
      "[WDM] - ====== WebDriver manager ======\n",
      "[WDM] - Current google-chrome version is 103.0.5060\n",
      "[WDM] - Get LATEST chromedriver version for 103.0.5060 google-chrome\n",
      "[WDM] - Driver [C:\\Users\\voyno\\.wdm\\drivers\\chromedriver\\win32\\103.0.5060.53\\chromedriver.exe] found in cache\n"
     ]
    },
    {
     "name": "stdout",
     "output_type": "stream",
     "text": [
      "Found the following data tables:\n",
      "0 <selenium.webdriver.remote.webelement.WebElement (session=\"2d5ce395f5d9c935e3d6e912cee96f32\", element=\"dd09d39e-6c9d-4570-9362-e7988b6e62e3\")>\n",
      "1 <selenium.webdriver.remote.webelement.WebElement (session=\"2d5ce395f5d9c935e3d6e912cee96f32\", element=\"8e5742e8-72ae-428e-bb2f-57d13ad47cb1\")>\n",
      "2 <selenium.webdriver.remote.webelement.WebElement (session=\"2d5ce395f5d9c935e3d6e912cee96f32\", element=\"8160068d-011d-442f-90cf-dbb905cd3d61\")>\n",
      "Justin Herbert/nLink: <selenium.webdriver.remote.webelement.WebElement (session=\"16089c86b2c9e2a3fac0b4186becc192\", element=\"43f3f89f-ca9f-45cf-a222-e957783bbc90\")>\n",
      "Player card: <selenium.webdriver.remote.webelement.WebElement (session=\"16089c86b2c9e2a3fac0b4186becc192\", element=\"625f5836-c227-4e82-9578-2594aa3b776a\")>\n",
      "\n"
     ]
    },
    {
     "name": "stderr",
     "output_type": "stream",
     "text": [
      "[WDM] - ====== WebDriver manager ======\n",
      "[WDM] - Current google-chrome version is 103.0.5060\n",
      "[WDM] - Get LATEST chromedriver version for 103.0.5060 google-chrome\n",
      "[WDM] - Driver [C:\\Users\\voyno\\.wdm\\drivers\\chromedriver\\win32\\103.0.5060.53\\chromedriver.exe] found in cache\n"
     ]
    },
    {
     "name": "stdout",
     "output_type": "stream",
     "text": [
      "Found the following data tables:\n",
      "0 <selenium.webdriver.remote.webelement.WebElement (session=\"7d486bb64a2545543e73923b0483f966\", element=\"b750d5ae-1670-4898-90af-6e6760f6474d\")>\n",
      "1 <selenium.webdriver.remote.webelement.WebElement (session=\"7d486bb64a2545543e73923b0483f966\", element=\"1e41ab4d-360b-498e-9920-c2f1d52d63cd\")>\n",
      "2 <selenium.webdriver.remote.webelement.WebElement (session=\"7d486bb64a2545543e73923b0483f966\", element=\"4ef57cc3-9433-45d7-9872-c062813d24cd\")>\n",
      "/nLink: <selenium.webdriver.remote.webelement.WebElement (session=\"16089c86b2c9e2a3fac0b4186becc192\", element=\"3d76d5c3-008b-4f9d-93fd-09c89015abfd\")>\n",
      "Player card: <selenium.webdriver.remote.webelement.WebElement (session=\"16089c86b2c9e2a3fac0b4186becc192\", element=\"dc129535-7799-4f23-89ea-532c756765a0\")>\n",
      "\n"
     ]
    },
    {
     "name": "stderr",
     "output_type": "stream",
     "text": [
      "[WDM] - ====== WebDriver manager ======\n",
      "[WDM] - Current google-chrome version is 103.0.5060\n",
      "[WDM] - Get LATEST chromedriver version for 103.0.5060 google-chrome\n",
      "[WDM] - Driver [C:\\Users\\voyno\\.wdm\\drivers\\chromedriver\\win32\\103.0.5060.53\\chromedriver.exe] found in cache\n"
     ]
    },
    {
     "name": "stdout",
     "output_type": "stream",
     "text": [
      "Found the following data tables:\n",
      "0 <selenium.webdriver.remote.webelement.WebElement (session=\"fbe1a777d3c8e3c52c6f6d0604565626\", element=\"3f6b815a-3457-48b7-a987-c422cc207bfa\")>\n",
      "1 <selenium.webdriver.remote.webelement.WebElement (session=\"fbe1a777d3c8e3c52c6f6d0604565626\", element=\"46e24d3d-53d9-4879-95c0-902200da54a6\")>\n",
      "2 <selenium.webdriver.remote.webelement.WebElement (session=\"fbe1a777d3c8e3c52c6f6d0604565626\", element=\"154365c8-a206-4eff-b0f8-8050b7334732\")>\n",
      "Tom Brady/nLink: <selenium.webdriver.remote.webelement.WebElement (session=\"16089c86b2c9e2a3fac0b4186becc192\", element=\"39785393-c1cc-4063-9111-1e8e6a44339b\")>\n",
      "Player card: <selenium.webdriver.remote.webelement.WebElement (session=\"16089c86b2c9e2a3fac0b4186becc192\", element=\"0b8b6532-d2e1-4821-b500-968660836ab5\")>\n",
      "\n"
     ]
    },
    {
     "name": "stderr",
     "output_type": "stream",
     "text": [
      "[WDM] - ====== WebDriver manager ======\n",
      "[WDM] - Current google-chrome version is 103.0.5060\n",
      "[WDM] - Get LATEST chromedriver version for 103.0.5060 google-chrome\n",
      "[WDM] - Driver [C:\\Users\\voyno\\.wdm\\drivers\\chromedriver\\win32\\103.0.5060.53\\chromedriver.exe] found in cache\n"
     ]
    },
    {
     "name": "stdout",
     "output_type": "stream",
     "text": [
      "Found the following data tables:\n",
      "0 <selenium.webdriver.remote.webelement.WebElement (session=\"f6c312a1a55a301f2763b40b46232296\", element=\"afc4be12-61aa-4adb-81ca-42576c7984bb\")>\n",
      "1 <selenium.webdriver.remote.webelement.WebElement (session=\"f6c312a1a55a301f2763b40b46232296\", element=\"d1b876e5-74c3-4736-a088-2a46c90cf4bd\")>\n",
      "2 <selenium.webdriver.remote.webelement.WebElement (session=\"f6c312a1a55a301f2763b40b46232296\", element=\"70352f28-4b17-4aab-ac37-c9e51ce7f186\")>\n",
      "Jonathan Taylor/nLink: <selenium.webdriver.remote.webelement.WebElement (session=\"16089c86b2c9e2a3fac0b4186becc192\", element=\"e8b8e12d-1920-493c-8626-7b766cbf8668\")>\n",
      "Player card: <selenium.webdriver.remote.webelement.WebElement (session=\"16089c86b2c9e2a3fac0b4186becc192\", element=\"2e450939-e0cb-48a7-91b7-e6c97b61dea7\")>\n",
      "\n"
     ]
    },
    {
     "name": "stderr",
     "output_type": "stream",
     "text": [
      "[WDM] - ====== WebDriver manager ======\n",
      "[WDM] - Current google-chrome version is 103.0.5060\n",
      "[WDM] - Get LATEST chromedriver version for 103.0.5060 google-chrome\n",
      "[WDM] - Driver [C:\\Users\\voyno\\.wdm\\drivers\\chromedriver\\win32\\103.0.5060.53\\chromedriver.exe] found in cache\n"
     ]
    },
    {
     "name": "stdout",
     "output_type": "stream",
     "text": [
      "Found the following data tables:\n",
      "0 <selenium.webdriver.remote.webelement.WebElement (session=\"bf72c5cac69fa23c8bacea0c86fcc377\", element=\"b8e7706e-e515-4632-82c7-db3ed2978165\")>\n",
      "1 <selenium.webdriver.remote.webelement.WebElement (session=\"bf72c5cac69fa23c8bacea0c86fcc377\", element=\"c8bab4ff-9682-49d7-b634-78c6f94af17d\")>\n",
      "2 <selenium.webdriver.remote.webelement.WebElement (session=\"bf72c5cac69fa23c8bacea0c86fcc377\", element=\"38043283-9763-4f59-abeb-b1c93af75840\")>\n",
      "Patrick Mahomes/nLink: <selenium.webdriver.remote.webelement.WebElement (session=\"16089c86b2c9e2a3fac0b4186becc192\", element=\"ac13b5d6-c366-438a-9ba4-3f08b534c271\")>\n",
      "Player card: <selenium.webdriver.remote.webelement.WebElement (session=\"16089c86b2c9e2a3fac0b4186becc192\", element=\"6f21311b-38ac-4856-ac4a-1740f4312512\")>\n",
      "\n"
     ]
    },
    {
     "name": "stderr",
     "output_type": "stream",
     "text": [
      "[WDM] - ====== WebDriver manager ======\n",
      "[WDM] - Current google-chrome version is 103.0.5060\n",
      "[WDM] - Get LATEST chromedriver version for 103.0.5060 google-chrome\n",
      "[WDM] - Driver [C:\\Users\\voyno\\.wdm\\drivers\\chromedriver\\win32\\103.0.5060.53\\chromedriver.exe] found in cache\n"
     ]
    },
    {
     "name": "stdout",
     "output_type": "stream",
     "text": [
      "Found the following data tables:\n",
      "0 <selenium.webdriver.remote.webelement.WebElement (session=\"c643519aaba4eadf0eeeca9c533afd83\", element=\"c263f776-4d8f-4281-9815-900853df7421\")>\n",
      "1 <selenium.webdriver.remote.webelement.WebElement (session=\"c643519aaba4eadf0eeeca9c533afd83\", element=\"1a2f1164-0213-44f2-8f4d-a7c833ae8dd0\")>\n",
      "2 <selenium.webdriver.remote.webelement.WebElement (session=\"c643519aaba4eadf0eeeca9c533afd83\", element=\"4b784ab3-8c1c-4ac7-a62c-87ef6ceffbca\")>\n",
      "Davante Adams/nLink: <selenium.webdriver.remote.webelement.WebElement (session=\"16089c86b2c9e2a3fac0b4186becc192\", element=\"ccf8ae53-4429-4657-9be6-1d6981dcda07\")>\n",
      "Player card: <selenium.webdriver.remote.webelement.WebElement (session=\"16089c86b2c9e2a3fac0b4186becc192\", element=\"6eec7f23-aae8-4033-87cb-b737cdb0c72a\")>\n",
      "\n"
     ]
    },
    {
     "name": "stderr",
     "output_type": "stream",
     "text": [
      "[WDM] - ====== WebDriver manager ======\n",
      "[WDM] - Current google-chrome version is 103.0.5060\n",
      "[WDM] - Get LATEST chromedriver version for 103.0.5060 google-chrome\n",
      "[WDM] - Driver [C:\\Users\\voyno\\.wdm\\drivers\\chromedriver\\win32\\103.0.5060.53\\chromedriver.exe] found in cache\n"
     ]
    },
    {
     "name": "stdout",
     "output_type": "stream",
     "text": [
      "Found the following data tables:\n",
      "0 <selenium.webdriver.remote.webelement.WebElement (session=\"00da98a5d0cd7fc45c9588239a97d387\", element=\"fe1b9e45-8853-400e-a3c7-afc52077ffe4\")>\n",
      "1 <selenium.webdriver.remote.webelement.WebElement (session=\"00da98a5d0cd7fc45c9588239a97d387\", element=\"5cb64d3d-ab86-4287-b735-c9751aebaf49\")>\n",
      "2 <selenium.webdriver.remote.webelement.WebElement (session=\"00da98a5d0cd7fc45c9588239a97d387\", element=\"7f5597b1-ab55-41a1-9ad4-1e761380118b\")>\n",
      "Austin Ekeler/nLink: <selenium.webdriver.remote.webelement.WebElement (session=\"16089c86b2c9e2a3fac0b4186becc192\", element=\"77e695c9-533d-453b-ba01-66a118289d5c\")>\n",
      "Player card: <selenium.webdriver.remote.webelement.WebElement (session=\"16089c86b2c9e2a3fac0b4186becc192\", element=\"d46c4855-3f4a-4cb6-b0bd-ead6ab30adfb\")>\n",
      "\n"
     ]
    },
    {
     "name": "stderr",
     "output_type": "stream",
     "text": [
      "[WDM] - ====== WebDriver manager ======\n",
      "[WDM] - Current google-chrome version is 103.0.5060\n",
      "[WDM] - Get LATEST chromedriver version for 103.0.5060 google-chrome\n",
      "[WDM] - Driver [C:\\Users\\voyno\\.wdm\\drivers\\chromedriver\\win32\\103.0.5060.53\\chromedriver.exe] found in cache\n"
     ]
    },
    {
     "name": "stdout",
     "output_type": "stream",
     "text": [
      "Found the following data tables:\n",
      "0 <selenium.webdriver.remote.webelement.WebElement (session=\"3da15374b60ff7e5c7ee192cd8acf743\", element=\"89d846e1-57c7-41d8-aaa9-e2c31474d1b4\")>\n",
      "1 <selenium.webdriver.remote.webelement.WebElement (session=\"3da15374b60ff7e5c7ee192cd8acf743\", element=\"78664aaa-05c1-4903-93c3-d2b19df5c29a\")>\n",
      "/nLink: <selenium.webdriver.remote.webelement.WebElement (session=\"16089c86b2c9e2a3fac0b4186becc192\", element=\"e4026b99-c845-4a69-b5eb-60d9ee0af20d\")>\n",
      "Player card: <selenium.webdriver.remote.webelement.WebElement (session=\"16089c86b2c9e2a3fac0b4186becc192\", element=\"215022bf-6429-47f3-b54b-32ed6a4a9500\")>\n",
      "\n"
     ]
    },
    {
     "name": "stderr",
     "output_type": "stream",
     "text": [
      "[WDM] - ====== WebDriver manager ======\n",
      "[WDM] - Current google-chrome version is 103.0.5060\n",
      "[WDM] - Get LATEST chromedriver version for 103.0.5060 google-chrome\n",
      "[WDM] - Driver [C:\\Users\\voyno\\.wdm\\drivers\\chromedriver\\win32\\103.0.5060.53\\chromedriver.exe] found in cache\n"
     ]
    },
    {
     "name": "stdout",
     "output_type": "stream",
     "text": [
      "Found the following data tables:\n",
      "0 <selenium.webdriver.remote.webelement.WebElement (session=\"4abc3f0564f2ba7340ab0090e54235a9\", element=\"43f412e2-d3c8-4323-8552-7e4782461460\")>\n",
      "1 <selenium.webdriver.remote.webelement.WebElement (session=\"4abc3f0564f2ba7340ab0090e54235a9\", element=\"76f356b9-87b9-4fbe-a90d-1b9897f6a89e\")>\n",
      "Deebo Samuel/nLink: <selenium.webdriver.remote.webelement.WebElement (session=\"16089c86b2c9e2a3fac0b4186becc192\", element=\"32a924cd-39ad-453b-8b1c-eac66712cb56\")>\n",
      "Player card: <selenium.webdriver.remote.webelement.WebElement (session=\"16089c86b2c9e2a3fac0b4186becc192\", element=\"004b5b77-49f2-411a-9bd8-003c30da22f0\")>\n",
      "\n"
     ]
    },
    {
     "name": "stderr",
     "output_type": "stream",
     "text": [
      "[WDM] - ====== WebDriver manager ======\n",
      "[WDM] - Current google-chrome version is 103.0.5060\n",
      "[WDM] - Get LATEST chromedriver version for 103.0.5060 google-chrome\n",
      "[WDM] - Driver [C:\\Users\\voyno\\.wdm\\drivers\\chromedriver\\win32\\103.0.5060.53\\chromedriver.exe] found in cache\n"
     ]
    },
    {
     "name": "stdout",
     "output_type": "stream",
     "text": [
      "Found the following data tables:\n",
      "0 <selenium.webdriver.remote.webelement.WebElement (session=\"5b05fec7c65ac4ce830812934088f9db\", element=\"6a98bd98-da0f-4998-8e24-9f9cd3a5109b\")>\n",
      "1 <selenium.webdriver.remote.webelement.WebElement (session=\"5b05fec7c65ac4ce830812934088f9db\", element=\"abe58df0-1c58-4692-ba96-f3c10754e171\")>\n",
      "2 <selenium.webdriver.remote.webelement.WebElement (session=\"5b05fec7c65ac4ce830812934088f9db\", element=\"e0e2d3ff-4a37-4134-b319-22b43f3c7530\")>\n",
      "Aaron Rodgers/nLink: <selenium.webdriver.remote.webelement.WebElement (session=\"16089c86b2c9e2a3fac0b4186becc192\", element=\"5bc97df0-031e-4db1-8093-ef2abb209d6a\")>\n",
      "Player card: <selenium.webdriver.remote.webelement.WebElement (session=\"16089c86b2c9e2a3fac0b4186becc192\", element=\"d93f82f7-ed5e-43c4-b790-cf51bce41d12\")>\n",
      "\n"
     ]
    },
    {
     "name": "stderr",
     "output_type": "stream",
     "text": [
      "[WDM] - ====== WebDriver manager ======\n",
      "[WDM] - Current google-chrome version is 103.0.5060\n",
      "[WDM] - Get LATEST chromedriver version for 103.0.5060 google-chrome\n",
      "[WDM] - Driver [C:\\Users\\voyno\\.wdm\\drivers\\chromedriver\\win32\\103.0.5060.53\\chromedriver.exe] found in cache\n"
     ]
    },
    {
     "name": "stdout",
     "output_type": "stream",
     "text": [
      "Found the following data tables:\n",
      "0 <selenium.webdriver.remote.webelement.WebElement (session=\"b4154507f452e2245b2cdb46d15e5fc0\", element=\"f3dd72cb-4932-4089-9370-9e8402735b33\")>\n",
      "1 <selenium.webdriver.remote.webelement.WebElement (session=\"b4154507f452e2245b2cdb46d15e5fc0\", element=\"49614249-b6cb-446b-b2ab-88f740657601\")>\n",
      "2 <selenium.webdriver.remote.webelement.WebElement (session=\"b4154507f452e2245b2cdb46d15e5fc0\", element=\"25d7a264-bd72-45bf-af0d-11f0c750fd1e\")>\n",
      "Justin Jefferson/nLink: <selenium.webdriver.remote.webelement.WebElement (session=\"16089c86b2c9e2a3fac0b4186becc192\", element=\"8d30ab86-c699-4e4d-bbb6-ae2bcad98812\")>\n",
      "Player card: <selenium.webdriver.remote.webelement.WebElement (session=\"16089c86b2c9e2a3fac0b4186becc192\", element=\"336df8fd-136b-41f4-9f27-823e10da0f9e\")>\n",
      "\n"
     ]
    },
    {
     "name": "stderr",
     "output_type": "stream",
     "text": [
      "[WDM] - ====== WebDriver manager ======\n",
      "[WDM] - Current google-chrome version is 103.0.5060\n",
      "[WDM] - Get LATEST chromedriver version for 103.0.5060 google-chrome\n",
      "[WDM] - Driver [C:\\Users\\voyno\\.wdm\\drivers\\chromedriver\\win32\\103.0.5060.53\\chromedriver.exe] found in cache\n"
     ]
    },
    {
     "name": "stdout",
     "output_type": "stream",
     "text": [
      "Found the following data tables:\n",
      "0 <selenium.webdriver.remote.webelement.WebElement (session=\"198103e20e4d90d1490c6d8cad47755c\", element=\"dff29891-61de-4f75-bece-521abc5704f7\")>\n",
      "1 <selenium.webdriver.remote.webelement.WebElement (session=\"198103e20e4d90d1490c6d8cad47755c\", element=\"172b9261-f39e-48e7-9fca-fc592dacc088\")>\n",
      "2 <selenium.webdriver.remote.webelement.WebElement (session=\"198103e20e4d90d1490c6d8cad47755c\", element=\"41f69648-9ee6-42d2-964c-18ba50984d6c\")>\n",
      "Matthew Stafford/nLink: <selenium.webdriver.remote.webelement.WebElement (session=\"16089c86b2c9e2a3fac0b4186becc192\", element=\"6d7cdfd1-63e6-496c-8c9c-8047b479d7c1\")>\n",
      "Player card: <selenium.webdriver.remote.webelement.WebElement (session=\"16089c86b2c9e2a3fac0b4186becc192\", element=\"56b19a52-1533-41f4-9309-f38c0445015d\")>\n",
      "\n"
     ]
    },
    {
     "name": "stderr",
     "output_type": "stream",
     "text": [
      "[WDM] - ====== WebDriver manager ======\n",
      "[WDM] - Current google-chrome version is 103.0.5060\n",
      "[WDM] - Get LATEST chromedriver version for 103.0.5060 google-chrome\n",
      "[WDM] - Driver [C:\\Users\\voyno\\.wdm\\drivers\\chromedriver\\win32\\103.0.5060.53\\chromedriver.exe] found in cache\n"
     ]
    },
    {
     "name": "stdout",
     "output_type": "stream",
     "text": [
      "Found the following data tables:\n",
      "0 <selenium.webdriver.remote.webelement.WebElement (session=\"03519f77b40006e303d4c97e7c4f6036\", element=\"570c5b75-0f09-4156-846a-0dce52e2813a\")>\n",
      "1 <selenium.webdriver.remote.webelement.WebElement (session=\"03519f77b40006e303d4c97e7c4f6036\", element=\"938cffdd-4357-45fd-b650-90482e260ce9\")>\n",
      "2 <selenium.webdriver.remote.webelement.WebElement (session=\"03519f77b40006e303d4c97e7c4f6036\", element=\"1fdb437c-e17a-4cb0-acbc-0bfef2650053\")>\n",
      "Dak Prescott/nLink: <selenium.webdriver.remote.webelement.WebElement (session=\"16089c86b2c9e2a3fac0b4186becc192\", element=\"3793dce0-b4ed-4dec-ab42-7d059cd23dd6\")>\n",
      "Player card: <selenium.webdriver.remote.webelement.WebElement (session=\"16089c86b2c9e2a3fac0b4186becc192\", element=\"e2e6dbe1-d2b8-40dc-a7cc-0f189f748499\")>\n",
      "\n"
     ]
    },
    {
     "name": "stderr",
     "output_type": "stream",
     "text": [
      "[WDM] - ====== WebDriver manager ======\n",
      "[WDM] - Current google-chrome version is 103.0.5060\n",
      "[WDM] - Get LATEST chromedriver version for 103.0.5060 google-chrome\n",
      "[WDM] - Driver [C:\\Users\\voyno\\.wdm\\drivers\\chromedriver\\win32\\103.0.5060.53\\chromedriver.exe] found in cache\n"
     ]
    },
    {
     "name": "stdout",
     "output_type": "stream",
     "text": [
      "Found the following data tables:\n",
      "0 <selenium.webdriver.remote.webelement.WebElement (session=\"e73aeb5e155a1522e35d599ee4927afc\", element=\"59a065dc-b45f-432c-bdb4-b91d3d6101c4\")>\n",
      "1 <selenium.webdriver.remote.webelement.WebElement (session=\"e73aeb5e155a1522e35d599ee4927afc\", element=\"753a6ece-f64b-4bfd-904c-aa94438cefa2\")>\n",
      "2 <selenium.webdriver.remote.webelement.WebElement (session=\"e73aeb5e155a1522e35d599ee4927afc\", element=\"85229a8c-38ce-46fe-9ddd-7ac2f46da10a\")>\n",
      "Joe Burrow/nLink: <selenium.webdriver.remote.webelement.WebElement (session=\"16089c86b2c9e2a3fac0b4186becc192\", element=\"c3d63e58-f717-4c06-94eb-f5cd41db5047\")>\n",
      "Player card: <selenium.webdriver.remote.webelement.WebElement (session=\"16089c86b2c9e2a3fac0b4186becc192\", element=\"59801c5a-5ec3-44b7-9eff-669731e9119d\")>\n",
      "\n"
     ]
    },
    {
     "name": "stderr",
     "output_type": "stream",
     "text": [
      "[WDM] - ====== WebDriver manager ======\n",
      "[WDM] - Current google-chrome version is 103.0.5060\n",
      "[WDM] - Get LATEST chromedriver version for 103.0.5060 google-chrome\n",
      "[WDM] - Driver [C:\\Users\\voyno\\.wdm\\drivers\\chromedriver\\win32\\103.0.5060.53\\chromedriver.exe] found in cache\n"
     ]
    },
    {
     "name": "stdout",
     "output_type": "stream",
     "text": [
      "Found the following data tables:\n",
      "0 <selenium.webdriver.remote.webelement.WebElement (session=\"4c6e91bc2e7b77420cfa595f2e8b0778\", element=\"c680b844-5d7d-4ccc-ab99-1127bc3ac56c\")>\n",
      "1 <selenium.webdriver.remote.webelement.WebElement (session=\"4c6e91bc2e7b77420cfa595f2e8b0778\", element=\"bc1d31c4-6419-4411-a35e-bb376d37d6ef\")>\n",
      "2 <selenium.webdriver.remote.webelement.WebElement (session=\"4c6e91bc2e7b77420cfa595f2e8b0778\", element=\"c3873c09-abb7-4011-ab5f-4b9735589181\")>\n",
      "Jalen Hurts/nLink: <selenium.webdriver.remote.webelement.WebElement (session=\"16089c86b2c9e2a3fac0b4186becc192\", element=\"70f1ec38-044f-4c21-b5a7-e4e6ae7ef998\")>\n",
      "Player card: <selenium.webdriver.remote.webelement.WebElement (session=\"16089c86b2c9e2a3fac0b4186becc192\", element=\"8069c62c-4f65-49ae-8839-153f001d0705\")>\n",
      "\n"
     ]
    },
    {
     "name": "stderr",
     "output_type": "stream",
     "text": [
      "[WDM] - ====== WebDriver manager ======\n",
      "[WDM] - Current google-chrome version is 103.0.5060\n",
      "[WDM] - Get LATEST chromedriver version for 103.0.5060 google-chrome\n",
      "[WDM] - Driver [C:\\Users\\voyno\\.wdm\\drivers\\chromedriver\\win32\\103.0.5060.53\\chromedriver.exe] found in cache\n"
     ]
    },
    {
     "name": "stdout",
     "output_type": "stream",
     "text": [
      "Found the following data tables:\n",
      "0 <selenium.webdriver.remote.webelement.WebElement (session=\"943656593603f34b8445a4a5386d492b\", element=\"d7a16aef-70df-4162-aa04-1fdbdf0b219f\")>\n",
      "1 <selenium.webdriver.remote.webelement.WebElement (session=\"943656593603f34b8445a4a5386d492b\", element=\"9c41f864-a7a6-47b1-9093-70b0259ee52f\")>\n",
      "2 <selenium.webdriver.remote.webelement.WebElement (session=\"943656593603f34b8445a4a5386d492b\", element=\"6f4aef55-eef8-4ab3-b7b1-f2df0223a237\")>\n",
      "Ja'Marr Chase/nLink: <selenium.webdriver.remote.webelement.WebElement (session=\"16089c86b2c9e2a3fac0b4186becc192\", element=\"4ebad71d-fee4-4390-8602-5e17c12b8c5f\")>\n",
      "Player card: <selenium.webdriver.remote.webelement.WebElement (session=\"16089c86b2c9e2a3fac0b4186becc192\", element=\"1d08796f-1279-4369-b3fd-15176ac1331e\")>\n",
      "\n"
     ]
    },
    {
     "name": "stderr",
     "output_type": "stream",
     "text": [
      "[WDM] - ====== WebDriver manager ======\n",
      "[WDM] - Current google-chrome version is 103.0.5060\n",
      "[WDM] - Get LATEST chromedriver version for 103.0.5060 google-chrome\n",
      "[WDM] - Driver [C:\\Users\\voyno\\.wdm\\drivers\\chromedriver\\win32\\103.0.5060.53\\chromedriver.exe] found in cache\n"
     ]
    },
    {
     "name": "stdout",
     "output_type": "stream",
     "text": [
      "Found the following data tables:\n",
      "0 <selenium.webdriver.remote.webelement.WebElement (session=\"1951d8d4c4537a6f2695c3584204c4e2\", element=\"dab91273-09b3-4c46-beab-32a47280d47d\")>\n",
      "1 <selenium.webdriver.remote.webelement.WebElement (session=\"1951d8d4c4537a6f2695c3584204c4e2\", element=\"074530b9-e27b-4941-a9fc-af21814bc72d\")>\n",
      "2 <selenium.webdriver.remote.webelement.WebElement (session=\"1951d8d4c4537a6f2695c3584204c4e2\", element=\"c9c8b962-a155-4a0c-8511-4cb4d355f65a\")>\n",
      "Mark Andrews/nLink: <selenium.webdriver.remote.webelement.WebElement (session=\"16089c86b2c9e2a3fac0b4186becc192\", element=\"d8bd9e55-1520-47d8-814f-6de553551571\")>\n",
      "Player card: <selenium.webdriver.remote.webelement.WebElement (session=\"16089c86b2c9e2a3fac0b4186becc192\", element=\"8a86ddec-8f0b-479b-849e-1d5cda4aa852\")>\n",
      "\n"
     ]
    },
    {
     "name": "stderr",
     "output_type": "stream",
     "text": [
      "[WDM] - ====== WebDriver manager ======\n",
      "[WDM] - Current google-chrome version is 103.0.5060\n",
      "[WDM] - Get LATEST chromedriver version for 103.0.5060 google-chrome\n",
      "[WDM] - Driver [C:\\Users\\voyno\\.wdm\\drivers\\chromedriver\\win32\\103.0.5060.53\\chromedriver.exe] found in cache\n"
     ]
    },
    {
     "name": "stdout",
     "output_type": "stream",
     "text": [
      "Found the following data tables:\n",
      "0 <selenium.webdriver.remote.webelement.WebElement (session=\"bbeadf81b573bd29b27fa2f4ffcff9a1\", element=\"a6d5c8dc-877c-4b51-b677-f1262b42f915\")>\n",
      "1 <selenium.webdriver.remote.webelement.WebElement (session=\"bbeadf81b573bd29b27fa2f4ffcff9a1\", element=\"ffcdadc5-3dae-4855-920b-931e9c0993c7\")>\n",
      "2 <selenium.webdriver.remote.webelement.WebElement (session=\"bbeadf81b573bd29b27fa2f4ffcff9a1\", element=\"31482a39-dd79-4b75-86cd-5cff0e3c74de\")>\n",
      "Najee Harris/nLink: <selenium.webdriver.remote.webelement.WebElement (session=\"16089c86b2c9e2a3fac0b4186becc192\", element=\"e4a17316-21be-4394-b6ce-780535f1294b\")>\n",
      "Player card: <selenium.webdriver.remote.webelement.WebElement (session=\"16089c86b2c9e2a3fac0b4186becc192\", element=\"588cc9fe-70f7-4da6-a601-a915d8511862\")>\n",
      "\n"
     ]
    },
    {
     "name": "stderr",
     "output_type": "stream",
     "text": [
      "[WDM] - ====== WebDriver manager ======\n",
      "[WDM] - Current google-chrome version is 103.0.5060\n",
      "[WDM] - Get LATEST chromedriver version for 103.0.5060 google-chrome\n",
      "[WDM] - Driver [C:\\Users\\voyno\\.wdm\\drivers\\chromedriver\\win32\\103.0.5060.53\\chromedriver.exe] found in cache\n"
     ]
    },
    {
     "name": "stdout",
     "output_type": "stream",
     "text": [
      "Found the following data tables:\n",
      "0 <selenium.webdriver.remote.webelement.WebElement (session=\"571808b7e5df6cdbd7088a475456fc28\", element=\"a9866a54-abd7-43b1-aaf7-858327594eaf\")>\n",
      "1 <selenium.webdriver.remote.webelement.WebElement (session=\"571808b7e5df6cdbd7088a475456fc28\", element=\"e0d5b434-618e-4dd2-bdfa-c96dcf79660b\")>\n",
      "2 <selenium.webdriver.remote.webelement.WebElement (session=\"571808b7e5df6cdbd7088a475456fc28\", element=\"5718cbbe-f432-4583-80ac-5142f000e3c2\")>\n",
      "/nLink: <selenium.webdriver.remote.webelement.WebElement (session=\"16089c86b2c9e2a3fac0b4186becc192\", element=\"6508ed13-17a3-4ed0-81c7-128793ad81a6\")>\n",
      "Player card: <selenium.webdriver.remote.webelement.WebElement (session=\"16089c86b2c9e2a3fac0b4186becc192\", element=\"7397b7c2-8b0c-45de-9019-fc8a4ffa2d2c\")>\n",
      "\n"
     ]
    },
    {
     "name": "stderr",
     "output_type": "stream",
     "text": [
      "[WDM] - ====== WebDriver manager ======\n",
      "[WDM] - Current google-chrome version is 103.0.5060\n",
      "[WDM] - Get LATEST chromedriver version for 103.0.5060 google-chrome\n",
      "[WDM] - Driver [C:\\Users\\voyno\\.wdm\\drivers\\chromedriver\\win32\\103.0.5060.53\\chromedriver.exe] found in cache\n"
     ]
    },
    {
     "name": "stdout",
     "output_type": "stream",
     "text": [
      "Found the following data tables:\n",
      "0 <selenium.webdriver.remote.webelement.WebElement (session=\"aadf6ac9df18b5652b530897bc731968\", element=\"c91464a9-b97a-42f0-b3c7-311879e79d52\")>\n",
      "1 <selenium.webdriver.remote.webelement.WebElement (session=\"aadf6ac9df18b5652b530897bc731968\", element=\"33bf9c69-b548-4cd3-ab26-c7b2a797f216\")>\n",
      "2 <selenium.webdriver.remote.webelement.WebElement (session=\"aadf6ac9df18b5652b530897bc731968\", element=\"23d9831a-7b22-4444-8dd6-f417714aa40a\")>\n",
      "Kyler Murray/nLink: <selenium.webdriver.remote.webelement.WebElement (session=\"16089c86b2c9e2a3fac0b4186becc192\", element=\"baeb8c4f-47ac-4a72-8b23-8c4ba888d324\")>\n",
      "Player card: <selenium.webdriver.remote.webelement.WebElement (session=\"16089c86b2c9e2a3fac0b4186becc192\", element=\"cb794c4a-a628-4836-aabe-482d2628fa6f\")>\n",
      "\n"
     ]
    },
    {
     "name": "stderr",
     "output_type": "stream",
     "text": [
      "[WDM] - ====== WebDriver manager ======\n",
      "[WDM] - Current google-chrome version is 103.0.5060\n",
      "[WDM] - Get LATEST chromedriver version for 103.0.5060 google-chrome\n",
      "[WDM] - Driver [C:\\Users\\voyno\\.wdm\\drivers\\chromedriver\\win32\\103.0.5060.53\\chromedriver.exe] found in cache\n"
     ]
    },
    {
     "name": "stdout",
     "output_type": "stream",
     "text": [
      "Found the following data tables:\n",
      "0 <selenium.webdriver.remote.webelement.WebElement (session=\"5c331251e2f9354eb747844e831d9d37\", element=\"8c9a7152-2ee2-4a8e-9413-396940201ded\")>\n",
      "1 <selenium.webdriver.remote.webelement.WebElement (session=\"5c331251e2f9354eb747844e831d9d37\", element=\"7af1d51d-00bc-4075-ad41-8bd6648f2cae\")>\n",
      "2 <selenium.webdriver.remote.webelement.WebElement (session=\"5c331251e2f9354eb747844e831d9d37\", element=\"c015a7fd-9b7c-4113-86d1-138213fad7c8\")>\n",
      "Kirk Cousins/nLink: <selenium.webdriver.remote.webelement.WebElement (session=\"16089c86b2c9e2a3fac0b4186becc192\", element=\"7bc5f2f4-278a-483e-b35d-9c38a8f0aa3b\")>\n",
      "Player card: <selenium.webdriver.remote.webelement.WebElement (session=\"16089c86b2c9e2a3fac0b4186becc192\", element=\"62a771cc-e570-4fd9-98f3-e37ab4086388\")>\n",
      "\n"
     ]
    },
    {
     "name": "stderr",
     "output_type": "stream",
     "text": [
      "[WDM] - ====== WebDriver manager ======\n",
      "[WDM] - Current google-chrome version is 103.0.5060\n",
      "[WDM] - Get LATEST chromedriver version for 103.0.5060 google-chrome\n",
      "[WDM] - Driver [C:\\Users\\voyno\\.wdm\\drivers\\chromedriver\\win32\\103.0.5060.53\\chromedriver.exe] found in cache\n"
     ]
    },
    {
     "name": "stdout",
     "output_type": "stream",
     "text": [
      "Found the following data tables:\n",
      "0 <selenium.webdriver.remote.webelement.WebElement (session=\"c0b67e7d33dac76755b854c7c3d6ee1b\", element=\"a79427ba-1865-4a67-8639-7eada97bf794\")>\n",
      "1 <selenium.webdriver.remote.webelement.WebElement (session=\"c0b67e7d33dac76755b854c7c3d6ee1b\", element=\"1d3097eb-41ad-4161-86d5-159471140e5f\")>\n",
      "2 <selenium.webdriver.remote.webelement.WebElement (session=\"c0b67e7d33dac76755b854c7c3d6ee1b\", element=\"55f7a4ce-a5f7-48b2-b3f0-d7bc098be674\")>\n",
      "Tyreek Hill/nLink: <selenium.webdriver.remote.webelement.WebElement (session=\"16089c86b2c9e2a3fac0b4186becc192\", element=\"9367b3a5-419e-4f0d-9c2e-f0ff4078964f\")>\n",
      "Player card: <selenium.webdriver.remote.webelement.WebElement (session=\"16089c86b2c9e2a3fac0b4186becc192\", element=\"d147f42f-fe3d-4251-b912-b319374ead5a\")>\n",
      "\n"
     ]
    },
    {
     "name": "stderr",
     "output_type": "stream",
     "text": [
      "[WDM] - ====== WebDriver manager ======\n",
      "[WDM] - Current google-chrome version is 103.0.5060\n",
      "[WDM] - Get LATEST chromedriver version for 103.0.5060 google-chrome\n",
      "[WDM] - Driver [C:\\Users\\voyno\\.wdm\\drivers\\chromedriver\\win32\\103.0.5060.53\\chromedriver.exe] found in cache\n"
     ]
    },
    {
     "name": "stdout",
     "output_type": "stream",
     "text": [
      "Found the following data tables:\n",
      "0 <selenium.webdriver.remote.webelement.WebElement (session=\"c511afe5a98fcb95ebc98efb17fccb1d\", element=\"3a69d267-2e68-4e52-bb87-86b2ce76f9b7\")>\n",
      "1 <selenium.webdriver.remote.webelement.WebElement (session=\"c511afe5a98fcb95ebc98efb17fccb1d\", element=\"1e2f0fb8-6f6d-4068-be90-833679b43246\")>\n",
      "2 <selenium.webdriver.remote.webelement.WebElement (session=\"c511afe5a98fcb95ebc98efb17fccb1d\", element=\"df6457e8-00ea-4dbc-b7c2-37cacb6da091\")>\n",
      "Joe Mixon/nLink: <selenium.webdriver.remote.webelement.WebElement (session=\"16089c86b2c9e2a3fac0b4186becc192\", element=\"7faec3f5-79e8-411f-a791-28a99ac841d9\")>\n",
      "Player card: <selenium.webdriver.remote.webelement.WebElement (session=\"16089c86b2c9e2a3fac0b4186becc192\", element=\"17a1cd60-61c6-4178-a411-f0a8bc7ac399\")>\n",
      "\n"
     ]
    },
    {
     "name": "stderr",
     "output_type": "stream",
     "text": [
      "[WDM] - ====== WebDriver manager ======\n",
      "[WDM] - Current google-chrome version is 103.0.5060\n",
      "[WDM] - Get LATEST chromedriver version for 103.0.5060 google-chrome\n",
      "[WDM] - Driver [C:\\Users\\voyno\\.wdm\\drivers\\chromedriver\\win32\\103.0.5060.53\\chromedriver.exe] found in cache\n"
     ]
    },
    {
     "name": "stdout",
     "output_type": "stream",
     "text": [
      "Found the following data tables:\n",
      "0 <selenium.webdriver.remote.webelement.WebElement (session=\"f0f16cf753b12a04f21e8b84eb422db3\", element=\"d2e8dcab-3ea5-4167-a79a-ddf8b953fb58\")>\n",
      "1 <selenium.webdriver.remote.webelement.WebElement (session=\"f0f16cf753b12a04f21e8b84eb422db3\", element=\"4de1c6a5-df30-45ef-b5e6-e2d162ba2d09\")>\n",
      "2 <selenium.webdriver.remote.webelement.WebElement (session=\"f0f16cf753b12a04f21e8b84eb422db3\", element=\"baa292e8-5156-4d48-991f-fd6d46b3feec\")>\n",
      "Stefon Diggs/nLink: <selenium.webdriver.remote.webelement.WebElement (session=\"16089c86b2c9e2a3fac0b4186becc192\", element=\"06816049-57ac-4538-a99d-9eb59b912532\")>\n",
      "Player card: <selenium.webdriver.remote.webelement.WebElement (session=\"16089c86b2c9e2a3fac0b4186becc192\", element=\"20501e5c-f816-46b0-be4d-9af46a38d032\")>\n",
      "\n"
     ]
    },
    {
     "name": "stderr",
     "output_type": "stream",
     "text": [
      "[WDM] - ====== WebDriver manager ======\n",
      "[WDM] - Current google-chrome version is 103.0.5060\n",
      "[WDM] - Get LATEST chromedriver version for 103.0.5060 google-chrome\n",
      "[WDM] - Driver [C:\\Users\\voyno\\.wdm\\drivers\\chromedriver\\win32\\103.0.5060.53\\chromedriver.exe] found in cache\n"
     ]
    },
    {
     "name": "stdout",
     "output_type": "stream",
     "text": [
      "Found the following data tables:\n",
      "0 <selenium.webdriver.remote.webelement.WebElement (session=\"5f8b9e8068970c9e26862a54690c6bf6\", element=\"aea53ef6-6f79-4a07-a39e-fc286bb9c27a\")>\n",
      "1 <selenium.webdriver.remote.webelement.WebElement (session=\"5f8b9e8068970c9e26862a54690c6bf6\", element=\"8c70288c-abe2-459d-a258-0ec0198da5a6\")>\n",
      "2 <selenium.webdriver.remote.webelement.WebElement (session=\"5f8b9e8068970c9e26862a54690c6bf6\", element=\"e3294433-88c3-448f-84bd-c42ceb0b0577\")>\n",
      "Diontae Johnson/nLink: <selenium.webdriver.remote.webelement.WebElement (session=\"16089c86b2c9e2a3fac0b4186becc192\", element=\"4cc87511-76f3-445a-8afe-2aa3f9ed86bc\")>\n",
      "Player card: <selenium.webdriver.remote.webelement.WebElement (session=\"16089c86b2c9e2a3fac0b4186becc192\", element=\"164d1ee4-6153-414e-a8de-98e93b2f310f\")>\n",
      "\n"
     ]
    },
    {
     "name": "stderr",
     "output_type": "stream",
     "text": [
      "[WDM] - ====== WebDriver manager ======\n",
      "[WDM] - Current google-chrome version is 103.0.5060\n",
      "[WDM] - Get LATEST chromedriver version for 103.0.5060 google-chrome\n",
      "[WDM] - Driver [C:\\Users\\voyno\\.wdm\\drivers\\chromedriver\\win32\\103.0.5060.53\\chromedriver.exe] found in cache\n"
     ]
    },
    {
     "name": "stdout",
     "output_type": "stream",
     "text": [
      "Found the following data tables:\n",
      "0 <selenium.webdriver.remote.webelement.WebElement (session=\"50c3d08bdd6d17851e41e0a88fc3cc53\", element=\"8ffe2599-1efd-468e-aa4f-67c143724ab5\")>\n",
      "1 <selenium.webdriver.remote.webelement.WebElement (session=\"50c3d08bdd6d17851e41e0a88fc3cc53\", element=\"0572df5f-813f-4c67-9c5c-9aa617bf6971\")>\n",
      "2 <selenium.webdriver.remote.webelement.WebElement (session=\"50c3d08bdd6d17851e41e0a88fc3cc53\", element=\"69951a8f-7dae-40ed-9d66-fb0e236fd939\")>\n",
      "/nLink: <selenium.webdriver.remote.webelement.WebElement (session=\"16089c86b2c9e2a3fac0b4186becc192\", element=\"d50fdbb3-c676-4b97-91a9-d96a36fc8a7c\")>\n",
      "Player card: <selenium.webdriver.remote.webelement.WebElement (session=\"16089c86b2c9e2a3fac0b4186becc192\", element=\"3c396b72-5178-4697-827e-d8f98a8688a4\")>\n",
      "\n"
     ]
    },
    {
     "name": "stderr",
     "output_type": "stream",
     "text": [
      "[WDM] - ====== WebDriver manager ======\n",
      "[WDM] - Current google-chrome version is 103.0.5060\n",
      "[WDM] - Get LATEST chromedriver version for 103.0.5060 google-chrome\n",
      "[WDM] - Driver [C:\\Users\\voyno\\.wdm\\drivers\\chromedriver\\win32\\103.0.5060.53\\chromedriver.exe] found in cache\n"
     ]
    },
    {
     "name": "stdout",
     "output_type": "stream",
     "text": [
      "Found the following data tables:\n",
      "0 <selenium.webdriver.remote.webelement.WebElement (session=\"16cff7ae1406122b784ea7a6142ededa\", element=\"ead3a71f-26ae-46d0-bf34-db6d2b1b83d2\")>\n",
      "1 <selenium.webdriver.remote.webelement.WebElement (session=\"16cff7ae1406122b784ea7a6142ededa\", element=\"283efd3d-2927-4229-8852-f777958cb451\")>\n",
      "2 <selenium.webdriver.remote.webelement.WebElement (session=\"16cff7ae1406122b784ea7a6142ededa\", element=\"acd65db1-e528-4e8f-a88e-392b8fb75150\")>\n",
      "Ryan Tannehill/nLink: <selenium.webdriver.remote.webelement.WebElement (session=\"16089c86b2c9e2a3fac0b4186becc192\", element=\"23f022ae-11ba-4c5d-9103-576d4f509ae9\")>\n",
      "Player card: <selenium.webdriver.remote.webelement.WebElement (session=\"16089c86b2c9e2a3fac0b4186becc192\", element=\"d89e7487-2620-43d2-9326-a3d10ad1364b\")>\n",
      "\n"
     ]
    },
    {
     "name": "stderr",
     "output_type": "stream",
     "text": [
      "[WDM] - ====== WebDriver manager ======\n",
      "[WDM] - Current google-chrome version is 103.0.5060\n",
      "[WDM] - Get LATEST chromedriver version for 103.0.5060 google-chrome\n",
      "[WDM] - Driver [C:\\Users\\voyno\\.wdm\\drivers\\chromedriver\\win32\\103.0.5060.53\\chromedriver.exe] found in cache\n"
     ]
    },
    {
     "name": "stdout",
     "output_type": "stream",
     "text": [
      "Found the following data tables:\n",
      "0 <selenium.webdriver.remote.webelement.WebElement (session=\"3239e1c601b30862943cf080a96b56ef\", element=\"52e19f78-bbbf-40ab-b4ec-f798f4d93b67\")>\n",
      "1 <selenium.webdriver.remote.webelement.WebElement (session=\"3239e1c601b30862943cf080a96b56ef\", element=\"422cafb1-e326-4445-87e9-532fed8a395b\")>\n",
      "2 <selenium.webdriver.remote.webelement.WebElement (session=\"3239e1c601b30862943cf080a96b56ef\", element=\"90ebe496-c6f1-4f56-86de-17bce2eada16\")>\n",
      "Travis Kelce/nLink: <selenium.webdriver.remote.webelement.WebElement (session=\"16089c86b2c9e2a3fac0b4186becc192\", element=\"3c8f317b-7a42-4266-bd50-8c3dd53172f0\")>\n",
      "Player card: <selenium.webdriver.remote.webelement.WebElement (session=\"16089c86b2c9e2a3fac0b4186becc192\", element=\"874b2679-20d8-44b5-a34e-6c8fb760659e\")>\n",
      "\n"
     ]
    },
    {
     "name": "stderr",
     "output_type": "stream",
     "text": [
      "[WDM] - ====== WebDriver manager ======\n",
      "[WDM] - Current google-chrome version is 103.0.5060\n",
      "[WDM] - Get LATEST chromedriver version for 103.0.5060 google-chrome\n",
      "[WDM] - Driver [C:\\Users\\voyno\\.wdm\\drivers\\chromedriver\\win32\\103.0.5060.53\\chromedriver.exe] found in cache\n"
     ]
    },
    {
     "name": "stdout",
     "output_type": "stream",
     "text": [
      "Found the following data tables:\n",
      "0 <selenium.webdriver.remote.webelement.WebElement (session=\"0b6ebe7527209b94dbddb6c720bff6e7\", element=\"83b8f055-ea70-417e-aed9-2594ebca1e10\")>\n",
      "1 <selenium.webdriver.remote.webelement.WebElement (session=\"0b6ebe7527209b94dbddb6c720bff6e7\", element=\"4f3f5efb-35e3-4172-a85f-63af1da1f20f\")>\n",
      "2 <selenium.webdriver.remote.webelement.WebElement (session=\"0b6ebe7527209b94dbddb6c720bff6e7\", element=\"6e90a88e-c7db-4528-81d6-519a0e682cf3\")>\n",
      "Mike Evans/nLink: <selenium.webdriver.remote.webelement.WebElement (session=\"16089c86b2c9e2a3fac0b4186becc192\", element=\"a39d82d9-50a6-4861-a521-d273307875da\")>\n",
      "Player card: <selenium.webdriver.remote.webelement.WebElement (session=\"16089c86b2c9e2a3fac0b4186becc192\", element=\"676686cc-ea79-46ef-8f25-5f555ce57e97\")>\n",
      "\n"
     ]
    },
    {
     "name": "stderr",
     "output_type": "stream",
     "text": [
      "[WDM] - ====== WebDriver manager ======\n",
      "[WDM] - Current google-chrome version is 103.0.5060\n",
      "[WDM] - Get LATEST chromedriver version for 103.0.5060 google-chrome\n",
      "[WDM] - Driver [C:\\Users\\voyno\\.wdm\\drivers\\chromedriver\\win32\\103.0.5060.53\\chromedriver.exe] found in cache\n"
     ]
    },
    {
     "name": "stdout",
     "output_type": "stream",
     "text": [
      "Found the following data tables:\n",
      "0 <selenium.webdriver.remote.webelement.WebElement (session=\"1c13e0cd469f056a9c779bd83f8303d9\", element=\"896ac631-c43a-4ba2-bc11-24b78b7c27e8\")>\n",
      "1 <selenium.webdriver.remote.webelement.WebElement (session=\"1c13e0cd469f056a9c779bd83f8303d9\", element=\"3a0c108f-ce88-4351-854f-78bd853d0181\")>\n",
      "2 <selenium.webdriver.remote.webelement.WebElement (session=\"1c13e0cd469f056a9c779bd83f8303d9\", element=\"c6c28d2f-a080-49fd-a82d-21aa99091e83\")>\n",
      "Hunter Renfrow/nLink: <selenium.webdriver.remote.webelement.WebElement (session=\"16089c86b2c9e2a3fac0b4186becc192\", element=\"fdf53370-e685-4cac-937c-dec1a3a7d1d1\")>\n",
      "Player card: <selenium.webdriver.remote.webelement.WebElement (session=\"16089c86b2c9e2a3fac0b4186becc192\", element=\"db9143cc-a6a8-4d4c-bba5-4e247e94897a\")>\n",
      "\n"
     ]
    },
    {
     "name": "stderr",
     "output_type": "stream",
     "text": [
      "[WDM] - ====== WebDriver manager ======\n",
      "[WDM] - Current google-chrome version is 103.0.5060\n",
      "[WDM] - Get LATEST chromedriver version for 103.0.5060 google-chrome\n",
      "[WDM] - Driver [C:\\Users\\voyno\\.wdm\\drivers\\chromedriver\\win32\\103.0.5060.53\\chromedriver.exe] found in cache\n"
     ]
    },
    {
     "name": "stdout",
     "output_type": "stream",
     "text": [
      "Found the following data tables:\n",
      "0 <selenium.webdriver.remote.webelement.WebElement (session=\"4f5eea3b12cbe32245fb505c334208d9\", element=\"7bf57dd5-7679-4ccf-b6ec-8a7a0dfd84bf\")>\n",
      "1 <selenium.webdriver.remote.webelement.WebElement (session=\"4f5eea3b12cbe32245fb505c334208d9\", element=\"75ccd958-7184-4bec-9736-f73e6fe8338e\")>\n",
      "2 <selenium.webdriver.remote.webelement.WebElement (session=\"4f5eea3b12cbe32245fb505c334208d9\", element=\"04c746a8-253a-44ee-9379-3043761bb01f\")>\n",
      "Carson Wentz/nLink: <selenium.webdriver.remote.webelement.WebElement (session=\"16089c86b2c9e2a3fac0b4186becc192\", element=\"8a0ab576-18f6-448c-a305-0e8c212e5ed3\")>\n",
      "Player card: <selenium.webdriver.remote.webelement.WebElement (session=\"16089c86b2c9e2a3fac0b4186becc192\", element=\"1f992d40-ff88-4da9-a6de-72234f71bace\")>\n",
      "\n"
     ]
    },
    {
     "name": "stderr",
     "output_type": "stream",
     "text": [
      "[WDM] - ====== WebDriver manager ======\n",
      "[WDM] - Current google-chrome version is 103.0.5060\n",
      "[WDM] - Get LATEST chromedriver version for 103.0.5060 google-chrome\n",
      "[WDM] - Driver [C:\\Users\\voyno\\.wdm\\drivers\\chromedriver\\win32\\103.0.5060.53\\chromedriver.exe] found in cache\n"
     ]
    },
    {
     "name": "stdout",
     "output_type": "stream",
     "text": [
      "Found the following data tables:\n",
      "0 <selenium.webdriver.remote.webelement.WebElement (session=\"844abb1555d30a96238559248a34bbc1\", element=\"f5326e64-1497-438d-a7c2-23b22f804712\")>\n",
      "1 <selenium.webdriver.remote.webelement.WebElement (session=\"844abb1555d30a96238559248a34bbc1\", element=\"81230349-a557-42bd-8f6f-6d8f2de0a78d\")>\n",
      "Keenan Allen/nLink: <selenium.webdriver.remote.webelement.WebElement (session=\"16089c86b2c9e2a3fac0b4186becc192\", element=\"ff4608c5-90c4-409c-b3dd-97a293edae48\")>\n",
      "Player card: <selenium.webdriver.remote.webelement.WebElement (session=\"16089c86b2c9e2a3fac0b4186becc192\", element=\"d3adf5d1-c2b4-4a9a-841f-600b9b885dc9\")>\n",
      "\n"
     ]
    },
    {
     "name": "stderr",
     "output_type": "stream",
     "text": [
      "[WDM] - ====== WebDriver manager ======\n",
      "[WDM] - Current google-chrome version is 103.0.5060\n",
      "[WDM] - Get LATEST chromedriver version for 103.0.5060 google-chrome\n",
      "[WDM] - Driver [C:\\Users\\voyno\\.wdm\\drivers\\chromedriver\\win32\\103.0.5060.53\\chromedriver.exe] found in cache\n"
     ]
    },
    {
     "name": "stdout",
     "output_type": "stream",
     "text": [
      "Found the following data tables:\n",
      "0 <selenium.webdriver.remote.webelement.WebElement (session=\"eda66431bd7dbcee0cc6b7f21f523e3f\", element=\"9a3e48e4-0830-4cc8-8fa6-c3842270ad0a\")>\n",
      "1 <selenium.webdriver.remote.webelement.WebElement (session=\"eda66431bd7dbcee0cc6b7f21f523e3f\", element=\"f3a173ed-3be3-44b1-bca8-bf45af060ad1\")>\n",
      "James Conner/nLink: <selenium.webdriver.remote.webelement.WebElement (session=\"16089c86b2c9e2a3fac0b4186becc192\", element=\"736dd8ad-da66-4cb6-9ea0-061fc2bb1bf2\")>\n",
      "Player card: <selenium.webdriver.remote.webelement.WebElement (session=\"16089c86b2c9e2a3fac0b4186becc192\", element=\"fc5e0ecf-41f1-4875-b46b-8e32898e80cf\")>\n",
      "\n"
     ]
    },
    {
     "name": "stderr",
     "output_type": "stream",
     "text": [
      "[WDM] - ====== WebDriver manager ======\n",
      "[WDM] - Current google-chrome version is 103.0.5060\n",
      "[WDM] - Get LATEST chromedriver version for 103.0.5060 google-chrome\n",
      "[WDM] - Driver [C:\\Users\\voyno\\.wdm\\drivers\\chromedriver\\win32\\103.0.5060.53\\chromedriver.exe] found in cache\n"
     ]
    },
    {
     "name": "stdout",
     "output_type": "stream",
     "text": [
      "Found the following data tables:\n",
      "0 <selenium.webdriver.remote.webelement.WebElement (session=\"69b0817caba82dd5c1f91342d187ef2d\", element=\"bb75d782-1730-47fb-b21c-7f87e9aa6f45\")>\n",
      "1 <selenium.webdriver.remote.webelement.WebElement (session=\"69b0817caba82dd5c1f91342d187ef2d\", element=\"13590b21-2c55-42d4-a85f-cc4c3eef9c6b\")>\n",
      "2 <selenium.webdriver.remote.webelement.WebElement (session=\"69b0817caba82dd5c1f91342d187ef2d\", element=\"9666ff5e-f111-4cd8-93ad-1dc8c4ee908b\")>\n",
      "Derek Carr/nLink: <selenium.webdriver.remote.webelement.WebElement (session=\"16089c86b2c9e2a3fac0b4186becc192\", element=\"0a4e0f9e-0b2a-466c-b869-09b084e4acb7\")>\n",
      "Player card: <selenium.webdriver.remote.webelement.WebElement (session=\"16089c86b2c9e2a3fac0b4186becc192\", element=\"63f7a5a5-dcf8-4691-9f67-20fdb45356fb\")>\n",
      "\n"
     ]
    },
    {
     "name": "stderr",
     "output_type": "stream",
     "text": [
      "[WDM] - ====== WebDriver manager ======\n",
      "[WDM] - Current google-chrome version is 103.0.5060\n",
      "[WDM] - Get LATEST chromedriver version for 103.0.5060 google-chrome\n",
      "[WDM] - Driver [C:\\Users\\voyno\\.wdm\\drivers\\chromedriver\\win32\\103.0.5060.53\\chromedriver.exe] found in cache\n"
     ]
    },
    {
     "name": "stdout",
     "output_type": "stream",
     "text": [
      "Found the following data tables:\n",
      "0 <selenium.webdriver.remote.webelement.WebElement (session=\"1bc89c7c464fbb6f8a53e318dc788e6a\", element=\"6cdd5603-39e8-4a24-b398-aa781e85afe6\")>\n",
      "1 <selenium.webdriver.remote.webelement.WebElement (session=\"1bc89c7c464fbb6f8a53e318dc788e6a\", element=\"3e5f716c-4aae-4b20-b45a-e22ec04d99f7\")>\n",
      "2 <selenium.webdriver.remote.webelement.WebElement (session=\"1bc89c7c464fbb6f8a53e318dc788e6a\", element=\"cdea2728-51f6-4056-990f-fca845626f80\")>\n",
      "Leonard Fournette/nLink: <selenium.webdriver.remote.webelement.WebElement (session=\"16089c86b2c9e2a3fac0b4186becc192\", element=\"8706d4ef-2e36-4a80-910b-a455ca2f19e7\")>\n",
      "Player card: <selenium.webdriver.remote.webelement.WebElement (session=\"16089c86b2c9e2a3fac0b4186becc192\", element=\"d2d27015-d00d-4e25-b834-ea6accca2133\")>\n",
      "\n"
     ]
    },
    {
     "name": "stderr",
     "output_type": "stream",
     "text": [
      "[WDM] - ====== WebDriver manager ======\n",
      "[WDM] - Current google-chrome version is 103.0.5060\n",
      "[WDM] - Get LATEST chromedriver version for 103.0.5060 google-chrome\n",
      "[WDM] - Driver [C:\\Users\\voyno\\.wdm\\drivers\\chromedriver\\win32\\103.0.5060.53\\chromedriver.exe] found in cache\n"
     ]
    },
    {
     "name": "stdout",
     "output_type": "stream",
     "text": [
      "Found the following data tables:\n",
      "0 <selenium.webdriver.remote.webelement.WebElement (session=\"dc6d82ab27244eef2a1d891cfe40d578\", element=\"af13495e-2f48-49b9-b30e-239fb61aeb20\")>\n",
      "1 <selenium.webdriver.remote.webelement.WebElement (session=\"dc6d82ab27244eef2a1d891cfe40d578\", element=\"abb9ff47-ce5a-4b9c-9374-e04d3f31f878\")>\n",
      "2 <selenium.webdriver.remote.webelement.WebElement (session=\"dc6d82ab27244eef2a1d891cfe40d578\", element=\"7ac87211-4bf4-4775-870b-d5748f6bd294\")>\n",
      "Ezekiel Elliott/nLink: <selenium.webdriver.remote.webelement.WebElement (session=\"16089c86b2c9e2a3fac0b4186becc192\", element=\"a6d7f2c2-111b-42b5-b804-3f23181f8f94\")>\n",
      "Player card: <selenium.webdriver.remote.webelement.WebElement (session=\"16089c86b2c9e2a3fac0b4186becc192\", element=\"56fdb226-6d24-41dc-b3a6-d404a7400396\")>\n",
      "\n"
     ]
    },
    {
     "name": "stderr",
     "output_type": "stream",
     "text": [
      "[WDM] - ====== WebDriver manager ======\n",
      "[WDM] - Current google-chrome version is 103.0.5060\n",
      "[WDM] - Get LATEST chromedriver version for 103.0.5060 google-chrome\n",
      "[WDM] - Driver [C:\\Users\\voyno\\.wdm\\drivers\\chromedriver\\win32\\103.0.5060.53\\chromedriver.exe] found in cache\n"
     ]
    },
    {
     "name": "stdout",
     "output_type": "stream",
     "text": [
      "Found the following data tables:\n",
      "0 <selenium.webdriver.remote.webelement.WebElement (session=\"a6e956dcec119be26c4818a0ecf29d28\", element=\"33bb99ab-9a85-4d2a-9fb1-9f0438a118e5\")>\n",
      "1 <selenium.webdriver.remote.webelement.WebElement (session=\"a6e956dcec119be26c4818a0ecf29d28\", element=\"70ce76a8-6be0-4c3e-a3ed-3e8d97bcab7f\")>\n",
      "2 <selenium.webdriver.remote.webelement.WebElement (session=\"a6e956dcec119be26c4818a0ecf29d28\", element=\"d1252a07-10b2-4328-a970-fac009c262da\")>\n",
      "Mike Williams/nLink: <selenium.webdriver.remote.webelement.WebElement (session=\"16089c86b2c9e2a3fac0b4186becc192\", element=\"c11a9246-1bf4-4c97-9885-6fc84e23e174\")>\n",
      "Player card: <selenium.webdriver.remote.webelement.WebElement (session=\"16089c86b2c9e2a3fac0b4186becc192\", element=\"74ec866e-c3c4-42c5-95ff-2501510c3eb2\")>\n",
      "\n"
     ]
    },
    {
     "name": "stderr",
     "output_type": "stream",
     "text": [
      "[WDM] - ====== WebDriver manager ======\n",
      "[WDM] - Current google-chrome version is 103.0.5060\n",
      "[WDM] - Get LATEST chromedriver version for 103.0.5060 google-chrome\n",
      "[WDM] - Driver [C:\\Users\\voyno\\.wdm\\drivers\\chromedriver\\win32\\103.0.5060.53\\chromedriver.exe] found in cache\n"
     ]
    },
    {
     "name": "stdout",
     "output_type": "stream",
     "text": [
      "Found the following data tables:\n",
      "0 <selenium.webdriver.remote.webelement.WebElement (session=\"03a080c49a16a8f785b226e8f87474e2\", element=\"73057abe-bb8e-40a3-b7b8-fe2f6b99e20c\")>\n",
      "1 <selenium.webdriver.remote.webelement.WebElement (session=\"03a080c49a16a8f785b226e8f87474e2\", element=\"c8b163c2-ba32-471e-924d-9668e9aaa9c8\")>\n",
      "Jaylen Waddle/nLink: <selenium.webdriver.remote.webelement.WebElement (session=\"16089c86b2c9e2a3fac0b4186becc192\", element=\"24209431-e2c9-417f-be27-92844a2ec814\")>\n",
      "Player card: <selenium.webdriver.remote.webelement.WebElement (session=\"16089c86b2c9e2a3fac0b4186becc192\", element=\"c602d11f-25b6-4874-8555-de28158547b9\")>\n",
      "\n"
     ]
    },
    {
     "name": "stderr",
     "output_type": "stream",
     "text": [
      "[WDM] - ====== WebDriver manager ======\n",
      "[WDM] - Current google-chrome version is 103.0.5060\n",
      "[WDM] - Get LATEST chromedriver version for 103.0.5060 google-chrome\n",
      "[WDM] - Driver [C:\\Users\\voyno\\.wdm\\drivers\\chromedriver\\win32\\103.0.5060.53\\chromedriver.exe] found in cache\n"
     ]
    },
    {
     "name": "stdout",
     "output_type": "stream",
     "text": [
      "Found the following data tables:\n",
      "0 <selenium.webdriver.remote.webelement.WebElement (session=\"aab1affaa47eb5efc5232eba7e8fe414\", element=\"7831d84a-1588-4a20-b57b-331da567ebe1\")>\n",
      "1 <selenium.webdriver.remote.webelement.WebElement (session=\"aab1affaa47eb5efc5232eba7e8fe414\", element=\"82a735dc-cf8f-4560-8349-a41e5ee07a6c\")>\n",
      "DK Metcalf/nLink: <selenium.webdriver.remote.webelement.WebElement (session=\"16089c86b2c9e2a3fac0b4186becc192\", element=\"e8441819-4263-465b-bd42-e3ed47c902fb\")>\n",
      "Player card: <selenium.webdriver.remote.webelement.WebElement (session=\"16089c86b2c9e2a3fac0b4186becc192\", element=\"f2bd0f3e-1687-4f3f-92b9-4d70a84b8d74\")>\n",
      "\n"
     ]
    },
    {
     "name": "stderr",
     "output_type": "stream",
     "text": [
      "[WDM] - ====== WebDriver manager ======\n",
      "[WDM] - Current google-chrome version is 103.0.5060\n",
      "[WDM] - Get LATEST chromedriver version for 103.0.5060 google-chrome\n",
      "[WDM] - Driver [C:\\Users\\voyno\\.wdm\\drivers\\chromedriver\\win32\\103.0.5060.53\\chromedriver.exe] found in cache\n"
     ]
    },
    {
     "name": "stdout",
     "output_type": "stream",
     "text": [
      "Found the following data tables:\n",
      "0 <selenium.webdriver.remote.webelement.WebElement (session=\"1d5c1661c6e5a6e78f73950aaf049d7c\", element=\"644add34-2822-4441-b12e-c6e50366f932\")>\n",
      "1 <selenium.webdriver.remote.webelement.WebElement (session=\"1d5c1661c6e5a6e78f73950aaf049d7c\", element=\"f530573e-a14b-4154-a8bd-cc9350fd33b3\")>\n",
      "Russell Wilson/nLink: <selenium.webdriver.remote.webelement.WebElement (session=\"16089c86b2c9e2a3fac0b4186becc192\", element=\"f050ea2a-4443-4dcc-b89f-1dbb4e41ebd0\")>\n",
      "Player card: <selenium.webdriver.remote.webelement.WebElement (session=\"16089c86b2c9e2a3fac0b4186becc192\", element=\"a088ffb6-5bc1-4e2d-a7b0-cda02ab3be70\")>\n",
      "\n"
     ]
    },
    {
     "name": "stderr",
     "output_type": "stream",
     "text": [
      "[WDM] - ====== WebDriver manager ======\n",
      "[WDM] - Current google-chrome version is 103.0.5060\n",
      "[WDM] - Get LATEST chromedriver version for 103.0.5060 google-chrome\n",
      "[WDM] - Driver [C:\\Users\\voyno\\.wdm\\drivers\\chromedriver\\win32\\103.0.5060.53\\chromedriver.exe] found in cache\n"
     ]
    },
    {
     "name": "stdout",
     "output_type": "stream",
     "text": [
      "Found the following data tables:\n",
      "0 <selenium.webdriver.remote.webelement.WebElement (session=\"eaec204b1384776a7ca682bb906b30a7\", element=\"a18872e1-a3ab-47bb-afe9-9dfb1d9968ee\")>\n",
      "1 <selenium.webdriver.remote.webelement.WebElement (session=\"eaec204b1384776a7ca682bb906b30a7\", element=\"19934a6a-0e84-4d39-8deb-05e0b811eaf3\")>\n",
      "2 <selenium.webdriver.remote.webelement.WebElement (session=\"eaec204b1384776a7ca682bb906b30a7\", element=\"ef4b6dfc-324c-4623-9e42-df68cebd8b66\")>\n",
      "Chris Godwin/nLink: <selenium.webdriver.remote.webelement.WebElement (session=\"16089c86b2c9e2a3fac0b4186becc192\", element=\"1fcb198d-58e0-425a-ba08-52e50f454f00\")>\n",
      "Player card: <selenium.webdriver.remote.webelement.WebElement (session=\"16089c86b2c9e2a3fac0b4186becc192\", element=\"ef5dbc4b-7732-4281-9b7d-34a4de2f2e6c\")>\n",
      "\n"
     ]
    },
    {
     "name": "stderr",
     "output_type": "stream",
     "text": [
      "[WDM] - ====== WebDriver manager ======\n",
      "[WDM] - Current google-chrome version is 103.0.5060\n",
      "[WDM] - Get LATEST chromedriver version for 103.0.5060 google-chrome\n",
      "[WDM] - Driver [C:\\Users\\voyno\\.wdm\\drivers\\chromedriver\\win32\\103.0.5060.53\\chromedriver.exe] found in cache\n"
     ]
    },
    {
     "name": "stdout",
     "output_type": "stream",
     "text": [
      "Found the following data tables:\n",
      "0 <selenium.webdriver.remote.webelement.WebElement (session=\"1c51a00b265397df315064e51d269abf\", element=\"e90fb922-1801-4545-a007-b6a699752d09\")>\n",
      "1 <selenium.webdriver.remote.webelement.WebElement (session=\"1c51a00b265397df315064e51d269abf\", element=\"eca436b6-be44-4f96-96c0-8d345720a1a6\")>\n",
      "Tyler Lockett/nLink: <selenium.webdriver.remote.webelement.WebElement (session=\"16089c86b2c9e2a3fac0b4186becc192\", element=\"5016169f-0be4-418f-8756-dbd0cc469ca5\")>\n",
      "Player card: <selenium.webdriver.remote.webelement.WebElement (session=\"16089c86b2c9e2a3fac0b4186becc192\", element=\"364812db-7fe5-43d7-b1eb-fa832a826332\")>\n",
      "\n"
     ]
    },
    {
     "name": "stderr",
     "output_type": "stream",
     "text": [
      "[WDM] - ====== WebDriver manager ======\n",
      "[WDM] - Current google-chrome version is 103.0.5060\n",
      "[WDM] - Get LATEST chromedriver version for 103.0.5060 google-chrome\n",
      "[WDM] - Driver [C:\\Users\\voyno\\.wdm\\drivers\\chromedriver\\win32\\103.0.5060.53\\chromedriver.exe] found in cache\n"
     ]
    },
    {
     "name": "stdout",
     "output_type": "stream",
     "text": [
      "Found the following data tables:\n",
      "0 <selenium.webdriver.remote.webelement.WebElement (session=\"f1fda8504c98a6d27ac60682291da11b\", element=\"7e2a8e8a-dc2e-4dde-92e4-f3e76ad86416\")>\n",
      "1 <selenium.webdriver.remote.webelement.WebElement (session=\"f1fda8504c98a6d27ac60682291da11b\", element=\"c7e197f7-f511-4b21-80f7-e6b40b8a4c4f\")>\n",
      "Lamar Jackson/nLink: <selenium.webdriver.remote.webelement.WebElement (session=\"16089c86b2c9e2a3fac0b4186becc192\", element=\"5caa1b91-8f6c-4b51-bb28-f2236b29b18d\")>\n",
      "Player card: <selenium.webdriver.remote.webelement.WebElement (session=\"16089c86b2c9e2a3fac0b4186becc192\", element=\"4b827bf6-677c-4df0-8c81-c3880a9d1291\")>\n",
      "\n"
     ]
    },
    {
     "name": "stderr",
     "output_type": "stream",
     "text": [
      "[WDM] - ====== WebDriver manager ======\n",
      "[WDM] - Current google-chrome version is 103.0.5060\n",
      "[WDM] - Get LATEST chromedriver version for 103.0.5060 google-chrome\n",
      "[WDM] - Driver [C:\\Users\\voyno\\.wdm\\drivers\\chromedriver\\win32\\103.0.5060.53\\chromedriver.exe] found in cache\n"
     ]
    },
    {
     "name": "stdout",
     "output_type": "stream",
     "text": [
      "Found the following data tables:\n",
      "0 <selenium.webdriver.remote.webelement.WebElement (session=\"5319ab49173c3fb1fb5e65553d4ff3ff\", element=\"dd9a45e9-c691-495d-b4bd-6ec12cb92d40\")>\n",
      "1 <selenium.webdriver.remote.webelement.WebElement (session=\"5319ab49173c3fb1fb5e65553d4ff3ff\", element=\"c3351b3e-0fb3-4761-b6ad-ad7059842263\")>\n",
      "Michael Pittman Jr./nLink: <selenium.webdriver.remote.webelement.WebElement (session=\"16089c86b2c9e2a3fac0b4186becc192\", element=\"a81241c4-7dbd-4fa0-a03f-0ba9a873aa61\")>\n",
      "Player card: <selenium.webdriver.remote.webelement.WebElement (session=\"16089c86b2c9e2a3fac0b4186becc192\", element=\"6d34ac76-2205-4806-beda-6f6d3dce6ae0\")>\n",
      "\n"
     ]
    },
    {
     "name": "stderr",
     "output_type": "stream",
     "text": [
      "[WDM] - ====== WebDriver manager ======\n",
      "[WDM] - Current google-chrome version is 103.0.5060\n",
      "[WDM] - Get LATEST chromedriver version for 103.0.5060 google-chrome\n",
      "[WDM] - Driver [C:\\Users\\voyno\\.wdm\\drivers\\chromedriver\\win32\\103.0.5060.53\\chromedriver.exe] found in cache\n"
     ]
    },
    {
     "name": "stdout",
     "output_type": "stream",
     "text": [
      "Found the following data tables:\n",
      "0 <selenium.webdriver.remote.webelement.WebElement (session=\"c88d73d51369320af0b3a1ac8698d6b3\", element=\"4a2b40b5-e6f8-4958-9bf0-f59e48796c29\")>\n",
      "1 <selenium.webdriver.remote.webelement.WebElement (session=\"c88d73d51369320af0b3a1ac8698d6b3\", element=\"a5490b63-5351-401d-b7c2-4630190a805e\")>\n",
      "DJ Moore/nLink: <selenium.webdriver.remote.webelement.WebElement (session=\"16089c86b2c9e2a3fac0b4186becc192\", element=\"406ea567-40e2-43a8-b4f7-3e48eb87f1ae\")>\n",
      "Player card: <selenium.webdriver.remote.webelement.WebElement (session=\"16089c86b2c9e2a3fac0b4186becc192\", element=\"f2d74323-b6e4-4959-9a82-414eb813ea16\")>\n",
      "\n"
     ]
    },
    {
     "name": "stderr",
     "output_type": "stream",
     "text": [
      "[WDM] - ====== WebDriver manager ======\n",
      "[WDM] - Current google-chrome version is 103.0.5060\n",
      "[WDM] - Get LATEST chromedriver version for 103.0.5060 google-chrome\n",
      "[WDM] - Driver [C:\\Users\\voyno\\.wdm\\drivers\\chromedriver\\win32\\103.0.5060.53\\chromedriver.exe] found in cache\n"
     ]
    },
    {
     "name": "stdout",
     "output_type": "stream",
     "text": [
      "Found the following data tables:\n",
      "0 <selenium.webdriver.remote.webelement.WebElement (session=\"e2b5b558822434d8f159dc6e82e26e7d\", element=\"73bc499b-bc0a-4806-b3de-a48c1a982d30\")>\n",
      "1 <selenium.webdriver.remote.webelement.WebElement (session=\"e2b5b558822434d8f159dc6e82e26e7d\", element=\"a3f97c1b-2bf6-47f5-b118-58ec051663a3\")>\n",
      "Alvin Kamara/nLink: <selenium.webdriver.remote.webelement.WebElement (session=\"16089c86b2c9e2a3fac0b4186becc192\", element=\"cce77747-2398-4934-8710-5153cd9e9298\")>\n",
      "Player card: <selenium.webdriver.remote.webelement.WebElement (session=\"16089c86b2c9e2a3fac0b4186becc192\", element=\"9094a59a-04bd-4661-95a4-867b9637dca6\")>\n",
      "\n"
     ]
    },
    {
     "name": "stderr",
     "output_type": "stream",
     "text": [
      "[WDM] - ====== WebDriver manager ======\n",
      "[WDM] - Current google-chrome version is 103.0.5060\n",
      "[WDM] - Get LATEST chromedriver version for 103.0.5060 google-chrome\n",
      "[WDM] - Driver [C:\\Users\\voyno\\.wdm\\drivers\\chromedriver\\win32\\103.0.5060.53\\chromedriver.exe] found in cache\n"
     ]
    },
    {
     "name": "stdout",
     "output_type": "stream",
     "text": [
      "Found the following data tables:\n",
      "0 <selenium.webdriver.remote.webelement.WebElement (session=\"fc3cebf0188e5dd8eb8a53cd6e62e0ee\", element=\"2b975d14-6eee-462c-9ac7-f6e796cee3c7\")>\n",
      "1 <selenium.webdriver.remote.webelement.WebElement (session=\"fc3cebf0188e5dd8eb8a53cd6e62e0ee\", element=\"0ebdff39-a6f1-4ff0-9ae1-10356b70f4db\")>\n",
      "2 <selenium.webdriver.remote.webelement.WebElement (session=\"fc3cebf0188e5dd8eb8a53cd6e62e0ee\", element=\"aebb4326-67d4-4193-b4a8-f1a271b352dd\")>\n",
      "Cordarrelle Patterson/nLink: <selenium.webdriver.remote.webelement.WebElement (session=\"16089c86b2c9e2a3fac0b4186becc192\", element=\"3363c91c-d123-4ab9-98eb-b63f1e881ef0\")>\n",
      "Player card: <selenium.webdriver.remote.webelement.WebElement (session=\"16089c86b2c9e2a3fac0b4186becc192\", element=\"693a4287-281c-4c23-bf25-fc08ef370ec0\")>\n",
      "\n"
     ]
    },
    {
     "name": "stderr",
     "output_type": "stream",
     "text": [
      "[WDM] - ====== WebDriver manager ======\n",
      "[WDM] - Current google-chrome version is 103.0.5060\n",
      "[WDM] - Get LATEST chromedriver version for 103.0.5060 google-chrome\n",
      "[WDM] - Driver [C:\\Users\\voyno\\.wdm\\drivers\\chromedriver\\win32\\103.0.5060.53\\chromedriver.exe] found in cache\n"
     ]
    },
    {
     "name": "stdout",
     "output_type": "stream",
     "text": [
      "Found the following data tables:\n",
      "0 <selenium.webdriver.remote.webelement.WebElement (session=\"899d892980101e269f196bca01674bd3\", element=\"9e6341e4-36fa-4be7-ba83-78341bac8998\")>\n",
      "1 <selenium.webdriver.remote.webelement.WebElement (session=\"899d892980101e269f196bca01674bd3\", element=\"a7606c9e-bc7a-4fa8-9683-f98edf861991\")>\n",
      "CeeDee Lamb/nLink: <selenium.webdriver.remote.webelement.WebElement (session=\"16089c86b2c9e2a3fac0b4186becc192\", element=\"6feb572c-e3ec-41cd-b4ab-27e727411f3e\")>\n",
      "Player card: <selenium.webdriver.remote.webelement.WebElement (session=\"16089c86b2c9e2a3fac0b4186becc192\", element=\"012aa982-b7c5-4261-8989-c476a638d643\")>\n",
      "\n"
     ]
    },
    {
     "name": "stderr",
     "output_type": "stream",
     "text": [
      "[WDM] - ====== WebDriver manager ======\n",
      "[WDM] - Current google-chrome version is 103.0.5060\n",
      "[WDM] - Get LATEST chromedriver version for 103.0.5060 google-chrome\n",
      "[WDM] - Driver [C:\\Users\\voyno\\.wdm\\drivers\\chromedriver\\win32\\103.0.5060.53\\chromedriver.exe] found in cache\n"
     ]
    },
    {
     "name": "stdout",
     "output_type": "stream",
     "text": [
      "Found the following data tables:\n",
      "0 <selenium.webdriver.remote.webelement.WebElement (session=\"27eca407aef7bd820937500e552bb8db\", element=\"535cf164-6153-4f2e-a996-814dff95ef6d\")>\n",
      "1 <selenium.webdriver.remote.webelement.WebElement (session=\"27eca407aef7bd820937500e552bb8db\", element=\"11c08685-0122-4db1-a932-758d75f3dbb6\")>\n",
      "2 <selenium.webdriver.remote.webelement.WebElement (session=\"27eca407aef7bd820937500e552bb8db\", element=\"0ab2648c-4c49-4222-ba08-13cc4935a1fd\")>\n",
      "Brandin Cooks/nLink: <selenium.webdriver.remote.webelement.WebElement (session=\"16089c86b2c9e2a3fac0b4186becc192\", element=\"4e28e18c-1351-4655-a180-d4ec1d6fe3e0\")>\n",
      "Player card: <selenium.webdriver.remote.webelement.WebElement (session=\"16089c86b2c9e2a3fac0b4186becc192\", element=\"c2fc8297-1387-4b09-bc2b-447125e14a50\")>\n",
      "\n"
     ]
    },
    {
     "name": "stderr",
     "output_type": "stream",
     "text": [
      "[WDM] - ====== WebDriver manager ======\n",
      "[WDM] - Current google-chrome version is 103.0.5060\n",
      "[WDM] - Get LATEST chromedriver version for 103.0.5060 google-chrome\n",
      "[WDM] - Driver [C:\\Users\\voyno\\.wdm\\drivers\\chromedriver\\win32\\103.0.5060.53\\chromedriver.exe] found in cache\n"
     ]
    },
    {
     "name": "stdout",
     "output_type": "stream",
     "text": [
      "Found the following data tables:\n",
      "0 <selenium.webdriver.remote.webelement.WebElement (session=\"5087f17b1820ffa47fe9b91600b3ff7b\", element=\"77498d70-e98a-4eb5-9a14-1a7d6da75b0f\")>\n",
      "1 <selenium.webdriver.remote.webelement.WebElement (session=\"5087f17b1820ffa47fe9b91600b3ff7b\", element=\"c2d6c114-733e-4b53-8f0a-a36842c18e48\")>\n",
      "Antonio Gibson/nLink: <selenium.webdriver.remote.webelement.WebElement (session=\"16089c86b2c9e2a3fac0b4186becc192\", element=\"f38c98ce-9130-4af9-bf2a-7bfeb3eeba79\")>\n",
      "Player card: <selenium.webdriver.remote.webelement.WebElement (session=\"16089c86b2c9e2a3fac0b4186becc192\", element=\"54e8afb2-88da-47aa-9c79-031e00c0bd0d\")>\n",
      "\n"
     ]
    },
    {
     "name": "stderr",
     "output_type": "stream",
     "text": [
      "[WDM] - ====== WebDriver manager ======\n",
      "[WDM] - Current google-chrome version is 103.0.5060\n",
      "[WDM] - Get LATEST chromedriver version for 103.0.5060 google-chrome\n",
      "[WDM] - Driver [C:\\Users\\voyno\\.wdm\\drivers\\chromedriver\\win32\\103.0.5060.53\\chromedriver.exe] found in cache\n"
     ]
    },
    {
     "name": "stdout",
     "output_type": "stream",
     "text": [
      "Found the following data tables:\n",
      "0 <selenium.webdriver.remote.webelement.WebElement (session=\"b63736247f5f9241ed4d0d6c21552e63\", element=\"92b9279e-d924-49ab-b03e-583d6737fa59\")>\n",
      "1 <selenium.webdriver.remote.webelement.WebElement (session=\"b63736247f5f9241ed4d0d6c21552e63\", element=\"4f69fbcb-9a9b-4461-a0fb-6a2a8c87f3e3\")>\n",
      "Aaron Jones/nLink: <selenium.webdriver.remote.webelement.WebElement (session=\"16089c86b2c9e2a3fac0b4186becc192\", element=\"4869e395-64ae-47df-bd65-f9f8b67afd09\")>\n",
      "Player card: <selenium.webdriver.remote.webelement.WebElement (session=\"16089c86b2c9e2a3fac0b4186becc192\", element=\"54f1386a-b386-4528-b88c-2d522afdf5ea\")>\n",
      "\n"
     ]
    },
    {
     "name": "stderr",
     "output_type": "stream",
     "text": [
      "[WDM] - ====== WebDriver manager ======\n",
      "[WDM] - Current google-chrome version is 103.0.5060\n",
      "[WDM] - Get LATEST chromedriver version for 103.0.5060 google-chrome\n",
      "[WDM] - Driver [C:\\Users\\voyno\\.wdm\\drivers\\chromedriver\\win32\\103.0.5060.53\\chromedriver.exe] found in cache\n"
     ]
    },
    {
     "name": "stdout",
     "output_type": "stream",
     "text": [
      "Found the following data tables:\n",
      "0 <selenium.webdriver.remote.webelement.WebElement (session=\"7e514618a9a759ff2e0eb132e9623a37\", element=\"50a099f9-15e9-4f69-b248-ae3a2d338f07\")>\n",
      "1 <selenium.webdriver.remote.webelement.WebElement (session=\"7e514618a9a759ff2e0eb132e9623a37\", element=\"1a0e51c1-1547-4b5f-96e7-25a631e8c931\")>\n",
      "2 <selenium.webdriver.remote.webelement.WebElement (session=\"7e514618a9a759ff2e0eb132e9623a37\", element=\"6d35977a-d4a8-446a-a246-1aa6d51dbe54\")>\n",
      "Jimmy Garoppolo/nLink: <selenium.webdriver.remote.webelement.WebElement (session=\"16089c86b2c9e2a3fac0b4186becc192\", element=\"6d5f33f0-6c9e-441a-8456-235a36e39655\")>\n",
      "Player card: <selenium.webdriver.remote.webelement.WebElement (session=\"16089c86b2c9e2a3fac0b4186becc192\", element=\"4f86479a-27bb-4d41-ba9b-93a35da17dc0\")>\n",
      "\n"
     ]
    },
    {
     "name": "stderr",
     "output_type": "stream",
     "text": [
      "[WDM] - ====== WebDriver manager ======\n",
      "[WDM] - Current google-chrome version is 103.0.5060\n",
      "[WDM] - Get LATEST chromedriver version for 103.0.5060 google-chrome\n",
      "[WDM] - Driver [C:\\Users\\voyno\\.wdm\\drivers\\chromedriver\\win32\\103.0.5060.53\\chromedriver.exe] found in cache\n"
     ]
    },
    {
     "name": "stdout",
     "output_type": "stream",
     "text": [
      "Found the following data tables:\n",
      "0 <selenium.webdriver.remote.webelement.WebElement (session=\"70be69504e7274c386aa40131d3e39f1\", element=\"2c03ddc9-02f4-4427-91cd-d5d4dbf3912f\")>\n",
      "1 <selenium.webdriver.remote.webelement.WebElement (session=\"70be69504e7274c386aa40131d3e39f1\", element=\"2a7b7d78-ca6d-4f59-ba0b-0e94f7ad2ab5\")>\n",
      "2 <selenium.webdriver.remote.webelement.WebElement (session=\"70be69504e7274c386aa40131d3e39f1\", element=\"d57b230f-c7b7-40c0-b00a-4f0ac2b3631b\")>\n"
     ]
    }
   ],
   "source": [
    "raw_data, missing_players = extract.extract()\n",
    "with open(raw_loc, 'wb') as f:\n",
    "    pickle.dump(raw_data, f)"
   ]
  },
  {
   "cell_type": "code",
   "execution_count": 32,
   "metadata": {},
   "outputs": [
    {
     "data": {
      "text/plain": [
       "[]"
      ]
     },
     "execution_count": 32,
     "metadata": {},
     "output_type": "execute_result"
    }
   ],
   "source": [
    "missing_players"
   ]
  },
  {
   "cell_type": "code",
   "execution_count": 33,
   "metadata": {},
   "outputs": [],
   "source": [
    "clean_data = transform.transform()\n",
    "with open(clean_loc, \"w\") as f:\n",
    "    json.dump(clean_data, f, indent=4)"
   ]
  },
  {
   "cell_type": "code",
   "execution_count": null,
   "metadata": {},
   "outputs": [],
   "source": []
  }
 ],
 "metadata": {
  "kernelspec": {
   "display_name": "Python 3.8.0 ('venv': venv)",
   "language": "python",
   "name": "python3"
  },
  "language_info": {
   "codemirror_mode": {
    "name": "ipython",
    "version": 3
   },
   "file_extension": ".py",
   "mimetype": "text/x-python",
   "name": "python",
   "nbconvert_exporter": "python",
   "pygments_lexer": "ipython3",
   "version": "3.8.0"
  },
  "orig_nbformat": 4,
  "vscode": {
   "interpreter": {
    "hash": "784692254b77ada57f3128df0a88ff89f3a7cbde4f0bdf9eb7754ce7391f8afa"
   }
  }
 },
 "nbformat": 4,
 "nbformat_minor": 2
}
