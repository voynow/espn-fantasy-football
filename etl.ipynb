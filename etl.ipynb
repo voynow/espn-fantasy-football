{
 "cells": [
  {
   "cell_type": "code",
   "execution_count": 48,
   "metadata": {},
   "outputs": [
    {
     "name": "stdout",
     "output_type": "stream",
     "text": [
      "The autoreload extension is already loaded. To reload it, use:\n",
      "  %reload_ext autoreload\n"
     ]
    }
   ],
   "source": [
    "%load_ext autoreload\n",
    "%autoreload 2"
   ]
  },
  {
   "cell_type": "code",
   "execution_count": 49,
   "metadata": {},
   "outputs": [],
   "source": [
    "import json\n",
    "import pathlib\n",
    "import pickle\n",
    "\n",
    "from utils import extract, transform"
   ]
  },
  {
   "cell_type": "code",
   "execution_count": 58,
   "metadata": {},
   "outputs": [],
   "source": [
    "data_folder = pathlib.Path('data/')\n",
    "raw_loc = data_folder / 'raw' / 'raw_data.pkl'\n",
    "clean_loc = data_folder / 'json' / 'semi_structured.json'"
   ]
  },
  {
   "cell_type": "code",
   "execution_count": 56,
   "metadata": {},
   "outputs": [
    {
     "name": "stdout",
     "output_type": "stream",
     "text": [
      "\n"
     ]
    },
    {
     "name": "stderr",
     "output_type": "stream",
     "text": [
      "[WDM] - ====== WebDriver manager ======\n",
      "[WDM] - Current google-chrome version is 103.0.5060\n",
      "[WDM] - Get LATEST chromedriver version for 103.0.5060 google-chrome\n",
      "[WDM] - Driver [C:\\Users\\voyno\\.wdm\\drivers\\chromedriver\\win32\\103.0.5060.53\\chromedriver.exe] found in cache\n"
     ]
    },
    {
     "name": "stdout",
     "output_type": "stream",
     "text": [
      "0 <selenium.webdriver.remote.webelement.WebElement (session=\"7795aa872599daf57d595b76365f4005\", element=\"122520e6-5de5-4720-a007-5f37991eefeb\")>\n",
      "1 <selenium.webdriver.remote.webelement.WebElement (session=\"7795aa872599daf57d595b76365f4005\", element=\"89d4c4c3-987b-4f4a-9c98-efbf88efecf1\")>\n",
      "2 <selenium.webdriver.remote.webelement.WebElement (session=\"7795aa872599daf57d595b76365f4005\", element=\"0cda9fd4-104b-44fe-82d8-6d57a0167d2d\")>\n",
      "\n"
     ]
    },
    {
     "name": "stderr",
     "output_type": "stream",
     "text": [
      "[WDM] - ====== WebDriver manager ======\n",
      "[WDM] - Current google-chrome version is 103.0.5060\n",
      "[WDM] - Get LATEST chromedriver version for 103.0.5060 google-chrome\n",
      "[WDM] - Driver [C:\\Users\\voyno\\.wdm\\drivers\\chromedriver\\win32\\103.0.5060.53\\chromedriver.exe] found in cache\n"
     ]
    },
    {
     "name": "stdout",
     "output_type": "stream",
     "text": [
      "0 <selenium.webdriver.remote.webelement.WebElement (session=\"8a18cff5f2f6d137f32181fb1c057547\", element=\"9e3da20f-87b3-4081-98e1-1f1aeda3e02d\")>\n",
      "1 <selenium.webdriver.remote.webelement.WebElement (session=\"8a18cff5f2f6d137f32181fb1c057547\", element=\"7353c7cf-6248-4ae8-a309-08c0a59981ac\")>\n",
      "2 <selenium.webdriver.remote.webelement.WebElement (session=\"8a18cff5f2f6d137f32181fb1c057547\", element=\"1f93453b-6b42-4408-8e97-737c30597e9b\")>\n",
      "\n"
     ]
    },
    {
     "name": "stderr",
     "output_type": "stream",
     "text": [
      "[WDM] - ====== WebDriver manager ======\n",
      "[WDM] - Current google-chrome version is 103.0.5060\n",
      "[WDM] - Get LATEST chromedriver version for 103.0.5060 google-chrome\n",
      "[WDM] - Driver [C:\\Users\\voyno\\.wdm\\drivers\\chromedriver\\win32\\103.0.5060.53\\chromedriver.exe] found in cache\n"
     ]
    },
    {
     "name": "stdout",
     "output_type": "stream",
     "text": [
      "0 <selenium.webdriver.remote.webelement.WebElement (session=\"43f0273af2d8a0140de191d0de9481e8\", element=\"fa408049-7c2e-4490-8353-338eda914794\")>\n",
      "1 <selenium.webdriver.remote.webelement.WebElement (session=\"43f0273af2d8a0140de191d0de9481e8\", element=\"ffa892b6-506a-4da9-95aa-edb249cdf22a\")>\n",
      "2 <selenium.webdriver.remote.webelement.WebElement (session=\"43f0273af2d8a0140de191d0de9481e8\", element=\"06a201d4-8cba-4188-a728-db359cb9e32c\")>\n",
      "\n"
     ]
    },
    {
     "name": "stderr",
     "output_type": "stream",
     "text": [
      "[WDM] - ====== WebDriver manager ======\n",
      "[WDM] - Current google-chrome version is 103.0.5060\n",
      "[WDM] - Get LATEST chromedriver version for 103.0.5060 google-chrome\n",
      "[WDM] - Driver [C:\\Users\\voyno\\.wdm\\drivers\\chromedriver\\win32\\103.0.5060.53\\chromedriver.exe] found in cache\n"
     ]
    },
    {
     "name": "stdout",
     "output_type": "stream",
     "text": [
      "0 <selenium.webdriver.remote.webelement.WebElement (session=\"396ec56f796c550fc78356b629da840d\", element=\"6043aa6f-546b-4ae3-8045-3d3db07da8f8\")>\n",
      "1 <selenium.webdriver.remote.webelement.WebElement (session=\"396ec56f796c550fc78356b629da840d\", element=\"14c55abd-af59-402d-afbc-bf54d2550a99\")>\n",
      "2 <selenium.webdriver.remote.webelement.WebElement (session=\"396ec56f796c550fc78356b629da840d\", element=\"1202de83-9b56-4e9a-bb98-efa0a7ffddd1\")>\n",
      "\n"
     ]
    },
    {
     "name": "stderr",
     "output_type": "stream",
     "text": [
      "[WDM] - ====== WebDriver manager ======\n",
      "[WDM] - Current google-chrome version is 103.0.5060\n",
      "[WDM] - Get LATEST chromedriver version for 103.0.5060 google-chrome\n",
      "[WDM] - Driver [C:\\Users\\voyno\\.wdm\\drivers\\chromedriver\\win32\\103.0.5060.53\\chromedriver.exe] found in cache\n"
     ]
    },
    {
     "name": "stdout",
     "output_type": "stream",
     "text": [
      "0 <selenium.webdriver.remote.webelement.WebElement (session=\"fc3249c845582bc8c25f64b9d33005cb\", element=\"4e423594-94c4-4c76-b11f-bebe1e55d2f1\")>\n",
      "1 <selenium.webdriver.remote.webelement.WebElement (session=\"fc3249c845582bc8c25f64b9d33005cb\", element=\"3df770fd-4905-46b8-b191-2bf51e0dd40e\")>\n",
      "2 <selenium.webdriver.remote.webelement.WebElement (session=\"fc3249c845582bc8c25f64b9d33005cb\", element=\"67c9e23f-7afa-4075-a7c6-5f3157ec181a\")>\n",
      "\n"
     ]
    },
    {
     "name": "stderr",
     "output_type": "stream",
     "text": [
      "[WDM] - ====== WebDriver manager ======\n",
      "[WDM] - Current google-chrome version is 103.0.5060\n",
      "[WDM] - Get LATEST chromedriver version for 103.0.5060 google-chrome\n",
      "[WDM] - Driver [C:\\Users\\voyno\\.wdm\\drivers\\chromedriver\\win32\\103.0.5060.53\\chromedriver.exe] found in cache\n"
     ]
    },
    {
     "name": "stdout",
     "output_type": "stream",
     "text": [
      "0 <selenium.webdriver.remote.webelement.WebElement (session=\"0932c4188abaffeb913e9115966f75c2\", element=\"b292ca20-c1fc-427f-9c8a-6e6b8ed69be2\")>\n",
      "1 <selenium.webdriver.remote.webelement.WebElement (session=\"0932c4188abaffeb913e9115966f75c2\", element=\"a6b77646-b298-4b59-9a54-adbcf1bcb167\")>\n",
      "2 <selenium.webdriver.remote.webelement.WebElement (session=\"0932c4188abaffeb913e9115966f75c2\", element=\"cd0ac9cd-b384-4eda-a53a-75997e7a0a96\")>\n",
      "\n"
     ]
    },
    {
     "name": "stderr",
     "output_type": "stream",
     "text": [
      "[WDM] - ====== WebDriver manager ======\n",
      "[WDM] - Current google-chrome version is 103.0.5060\n",
      "[WDM] - Get LATEST chromedriver version for 103.0.5060 google-chrome\n",
      "[WDM] - Driver [C:\\Users\\voyno\\.wdm\\drivers\\chromedriver\\win32\\103.0.5060.53\\chromedriver.exe] found in cache\n"
     ]
    },
    {
     "name": "stdout",
     "output_type": "stream",
     "text": [
      "0 <selenium.webdriver.remote.webelement.WebElement (session=\"8f36e2aee95803ac600f795809200f6d\", element=\"bb6107e8-bc15-43ec-a8d6-ebef6ddbd49c\")>\n",
      "1 <selenium.webdriver.remote.webelement.WebElement (session=\"8f36e2aee95803ac600f795809200f6d\", element=\"afe99779-543c-4a10-bfab-329d39ba0403\")>\n",
      "2 <selenium.webdriver.remote.webelement.WebElement (session=\"8f36e2aee95803ac600f795809200f6d\", element=\"e9e9a49b-4048-4d89-affd-be6b69ba4e68\")>\n",
      "\n"
     ]
    },
    {
     "name": "stderr",
     "output_type": "stream",
     "text": [
      "[WDM] - ====== WebDriver manager ======\n",
      "[WDM] - Current google-chrome version is 103.0.5060\n",
      "[WDM] - Get LATEST chromedriver version for 103.0.5060 google-chrome\n",
      "[WDM] - Driver [C:\\Users\\voyno\\.wdm\\drivers\\chromedriver\\win32\\103.0.5060.53\\chromedriver.exe] found in cache\n"
     ]
    },
    {
     "name": "stdout",
     "output_type": "stream",
     "text": [
      "0 <selenium.webdriver.remote.webelement.WebElement (session=\"d482b1e38e7a5dd11b9c16aa7cbea111\", element=\"d1ef5a80-8c58-4d1b-9bae-3d4de19dc131\")>\n",
      "1 <selenium.webdriver.remote.webelement.WebElement (session=\"d482b1e38e7a5dd11b9c16aa7cbea111\", element=\"04563e24-5741-4b53-be4e-dd0d32915e79\")>\n",
      "\n"
     ]
    },
    {
     "name": "stderr",
     "output_type": "stream",
     "text": [
      "[WDM] - ====== WebDriver manager ======\n",
      "[WDM] - Current google-chrome version is 103.0.5060\n",
      "[WDM] - Get LATEST chromedriver version for 103.0.5060 google-chrome\n",
      "[WDM] - Driver [C:\\Users\\voyno\\.wdm\\drivers\\chromedriver\\win32\\103.0.5060.53\\chromedriver.exe] found in cache\n"
     ]
    },
    {
     "name": "stdout",
     "output_type": "stream",
     "text": [
      "0 <selenium.webdriver.remote.webelement.WebElement (session=\"89ba0feb28f6eae0ceca100df779a764\", element=\"7f167609-b33c-4677-9e41-a25d1f4109fe\")>\n",
      "1 <selenium.webdriver.remote.webelement.WebElement (session=\"89ba0feb28f6eae0ceca100df779a764\", element=\"ae9b2fbd-2c97-4f7a-a882-f2f9998e163f\")>\n",
      "2 <selenium.webdriver.remote.webelement.WebElement (session=\"89ba0feb28f6eae0ceca100df779a764\", element=\"6c0c9883-c0b5-41cd-82c3-ed01d13aec64\")>\n",
      "\n"
     ]
    },
    {
     "name": "stderr",
     "output_type": "stream",
     "text": [
      "[WDM] - ====== WebDriver manager ======\n",
      "[WDM] - Current google-chrome version is 103.0.5060\n",
      "[WDM] - Get LATEST chromedriver version for 103.0.5060 google-chrome\n",
      "[WDM] - Driver [C:\\Users\\voyno\\.wdm\\drivers\\chromedriver\\win32\\103.0.5060.53\\chromedriver.exe] found in cache\n"
     ]
    },
    {
     "name": "stdout",
     "output_type": "stream",
     "text": [
      "0 <selenium.webdriver.remote.webelement.WebElement (session=\"9babd0afac34499ed8a77d2ac73d425b\", element=\"b86cd814-0be6-4a61-8801-0d1ecb0915dc\")>\n",
      "1 <selenium.webdriver.remote.webelement.WebElement (session=\"9babd0afac34499ed8a77d2ac73d425b\", element=\"704cbcae-34af-4942-967c-5db212a20778\")>\n",
      "2 <selenium.webdriver.remote.webelement.WebElement (session=\"9babd0afac34499ed8a77d2ac73d425b\", element=\"590ca0ba-3577-4653-ae1b-7c24831f4a17\")>\n",
      "\n"
     ]
    },
    {
     "name": "stderr",
     "output_type": "stream",
     "text": [
      "[WDM] - ====== WebDriver manager ======\n",
      "[WDM] - Current google-chrome version is 103.0.5060\n",
      "[WDM] - Get LATEST chromedriver version for 103.0.5060 google-chrome\n",
      "[WDM] - Driver [C:\\Users\\voyno\\.wdm\\drivers\\chromedriver\\win32\\103.0.5060.53\\chromedriver.exe] found in cache\n"
     ]
    },
    {
     "name": "stdout",
     "output_type": "stream",
     "text": [
      "0 <selenium.webdriver.remote.webelement.WebElement (session=\"c0f3db5a095962c759d26208e51f4cf2\", element=\"e0950fad-a5a1-41e5-b7b3-6b7d184cb245\")>\n",
      "1 <selenium.webdriver.remote.webelement.WebElement (session=\"c0f3db5a095962c759d26208e51f4cf2\", element=\"239d08bc-fbed-41b7-8104-93410f7d048f\")>\n",
      "2 <selenium.webdriver.remote.webelement.WebElement (session=\"c0f3db5a095962c759d26208e51f4cf2\", element=\"f5a62a0d-ee86-4414-9807-3cf9e039bd55\")>\n",
      "\n"
     ]
    },
    {
     "name": "stderr",
     "output_type": "stream",
     "text": [
      "[WDM] - ====== WebDriver manager ======\n",
      "[WDM] - Current google-chrome version is 103.0.5060\n",
      "[WDM] - Get LATEST chromedriver version for 103.0.5060 google-chrome\n",
      "[WDM] - Driver [C:\\Users\\voyno\\.wdm\\drivers\\chromedriver\\win32\\103.0.5060.53\\chromedriver.exe] found in cache\n"
     ]
    },
    {
     "name": "stdout",
     "output_type": "stream",
     "text": [
      "0 <selenium.webdriver.remote.webelement.WebElement (session=\"37a0f6b7ea4838f0c1798404bdbfe03a\", element=\"63223ba4-ebcd-499b-bdfe-73cd8d6bcddc\")>\n",
      "1 <selenium.webdriver.remote.webelement.WebElement (session=\"37a0f6b7ea4838f0c1798404bdbfe03a\", element=\"e677b65e-851f-4dbc-b06c-898d912186b0\")>\n",
      "2 <selenium.webdriver.remote.webelement.WebElement (session=\"37a0f6b7ea4838f0c1798404bdbfe03a\", element=\"a4a8b942-148e-4b74-ab08-1da74dea57b7\")>\n",
      "\n"
     ]
    },
    {
     "name": "stderr",
     "output_type": "stream",
     "text": [
      "[WDM] - ====== WebDriver manager ======\n",
      "[WDM] - Current google-chrome version is 103.0.5060\n",
      "[WDM] - Get LATEST chromedriver version for 103.0.5060 google-chrome\n",
      "[WDM] - Driver [C:\\Users\\voyno\\.wdm\\drivers\\chromedriver\\win32\\103.0.5060.53\\chromedriver.exe] found in cache\n"
     ]
    },
    {
     "name": "stdout",
     "output_type": "stream",
     "text": [
      "0 <selenium.webdriver.remote.webelement.WebElement (session=\"c7cbd0c59ec06138b70f5e764b9b360c\", element=\"27d28d4e-264e-404c-8ddd-5db6676e015c\")>\n",
      "1 <selenium.webdriver.remote.webelement.WebElement (session=\"c7cbd0c59ec06138b70f5e764b9b360c\", element=\"04c82d67-bae3-4b43-bb16-3b987a8524b3\")>\n",
      "2 <selenium.webdriver.remote.webelement.WebElement (session=\"c7cbd0c59ec06138b70f5e764b9b360c\", element=\"9a10dcce-e862-49e4-976c-90b056e277f9\")>\n",
      "\n"
     ]
    },
    {
     "name": "stderr",
     "output_type": "stream",
     "text": [
      "[WDM] - ====== WebDriver manager ======\n",
      "[WDM] - Current google-chrome version is 103.0.5060\n",
      "[WDM] - Get LATEST chromedriver version for 103.0.5060 google-chrome\n",
      "[WDM] - Driver [C:\\Users\\voyno\\.wdm\\drivers\\chromedriver\\win32\\103.0.5060.53\\chromedriver.exe] found in cache\n"
     ]
    },
    {
     "name": "stdout",
     "output_type": "stream",
     "text": [
      "0 <selenium.webdriver.remote.webelement.WebElement (session=\"f5849d3918b6ae5954c2912e2f08d946\", element=\"909dc1ab-d92c-4908-b002-b72d0f334672\")>\n",
      "1 <selenium.webdriver.remote.webelement.WebElement (session=\"f5849d3918b6ae5954c2912e2f08d946\", element=\"f6dc906b-451d-4955-8422-19feb24c95c1\")>\n",
      "2 <selenium.webdriver.remote.webelement.WebElement (session=\"f5849d3918b6ae5954c2912e2f08d946\", element=\"fdcede98-a3cd-4abc-8cbe-dad4c2decbb5\")>\n",
      "\n"
     ]
    },
    {
     "name": "stderr",
     "output_type": "stream",
     "text": [
      "[WDM] - ====== WebDriver manager ======\n",
      "[WDM] - Current google-chrome version is 103.0.5060\n",
      "[WDM] - Get LATEST chromedriver version for 103.0.5060 google-chrome\n",
      "[WDM] - Driver [C:\\Users\\voyno\\.wdm\\drivers\\chromedriver\\win32\\103.0.5060.53\\chromedriver.exe] found in cache\n"
     ]
    },
    {
     "name": "stdout",
     "output_type": "stream",
     "text": [
      "0 <selenium.webdriver.remote.webelement.WebElement (session=\"7652f9989974afea04c3f8c9041c1107\", element=\"79e2926d-ba68-4c94-bfc2-95a27c2bc539\")>\n",
      "1 <selenium.webdriver.remote.webelement.WebElement (session=\"7652f9989974afea04c3f8c9041c1107\", element=\"cc3570ab-f82d-4c84-bdce-0630ac734eaa\")>\n",
      "2 <selenium.webdriver.remote.webelement.WebElement (session=\"7652f9989974afea04c3f8c9041c1107\", element=\"5d41bcb6-9cf5-415f-b424-29ae57e36d3d\")>\n",
      "\n"
     ]
    },
    {
     "name": "stderr",
     "output_type": "stream",
     "text": [
      "[WDM] - ====== WebDriver manager ======\n",
      "[WDM] - Current google-chrome version is 103.0.5060\n",
      "[WDM] - Get LATEST chromedriver version for 103.0.5060 google-chrome\n",
      "[WDM] - Driver [C:\\Users\\voyno\\.wdm\\drivers\\chromedriver\\win32\\103.0.5060.53\\chromedriver.exe] found in cache\n"
     ]
    },
    {
     "name": "stdout",
     "output_type": "stream",
     "text": [
      "0 <selenium.webdriver.remote.webelement.WebElement (session=\"0f9ea00fc6b4141ce6277af477921faa\", element=\"a52d8a09-b12d-443b-9b77-2fce391c1bd2\")>\n",
      "1 <selenium.webdriver.remote.webelement.WebElement (session=\"0f9ea00fc6b4141ce6277af477921faa\", element=\"e670a4e2-c3f9-46b5-ac04-556aa670b657\")>\n",
      "2 <selenium.webdriver.remote.webelement.WebElement (session=\"0f9ea00fc6b4141ce6277af477921faa\", element=\"fad4bd69-480a-4a52-a354-c9842af8643c\")>\n",
      "\n"
     ]
    },
    {
     "name": "stderr",
     "output_type": "stream",
     "text": [
      "[WDM] - ====== WebDriver manager ======\n",
      "[WDM] - Current google-chrome version is 103.0.5060\n",
      "[WDM] - Get LATEST chromedriver version for 103.0.5060 google-chrome\n",
      "[WDM] - Driver [C:\\Users\\voyno\\.wdm\\drivers\\chromedriver\\win32\\103.0.5060.53\\chromedriver.exe] found in cache\n"
     ]
    },
    {
     "name": "stdout",
     "output_type": "stream",
     "text": [
      "0 <selenium.webdriver.remote.webelement.WebElement (session=\"79aac985d22797b243ce590c7d343961\", element=\"d164e622-4277-4799-9281-f65aeb2e9eed\")>\n",
      "1 <selenium.webdriver.remote.webelement.WebElement (session=\"79aac985d22797b243ce590c7d343961\", element=\"0a73b7e6-f7a5-4d65-b7fe-48f29c626cbc\")>\n",
      "2 <selenium.webdriver.remote.webelement.WebElement (session=\"79aac985d22797b243ce590c7d343961\", element=\"1c75c8a5-d20d-41c4-add4-513fc8721369\")>\n",
      "\n"
     ]
    },
    {
     "name": "stderr",
     "output_type": "stream",
     "text": [
      "[WDM] - ====== WebDriver manager ======\n",
      "[WDM] - Current google-chrome version is 103.0.5060\n",
      "[WDM] - Get LATEST chromedriver version for 103.0.5060 google-chrome\n",
      "[WDM] - Driver [C:\\Users\\voyno\\.wdm\\drivers\\chromedriver\\win32\\103.0.5060.53\\chromedriver.exe] found in cache\n"
     ]
    },
    {
     "name": "stdout",
     "output_type": "stream",
     "text": [
      "0 <selenium.webdriver.remote.webelement.WebElement (session=\"f15509b423a327496d6cc15d572c0e02\", element=\"579d3c90-9fea-411e-b359-5de3aa002d4f\")>\n",
      "1 <selenium.webdriver.remote.webelement.WebElement (session=\"f15509b423a327496d6cc15d572c0e02\", element=\"2f2f261f-f24a-4bf4-91e0-865017f11f37\")>\n",
      "2 <selenium.webdriver.remote.webelement.WebElement (session=\"f15509b423a327496d6cc15d572c0e02\", element=\"69de2dfd-9980-40d9-b854-252e00f18a4a\")>\n",
      "\n"
     ]
    },
    {
     "name": "stderr",
     "output_type": "stream",
     "text": [
      "[WDM] - ====== WebDriver manager ======\n",
      "[WDM] - Current google-chrome version is 103.0.5060\n",
      "[WDM] - Get LATEST chromedriver version for 103.0.5060 google-chrome\n",
      "[WDM] - Driver [C:\\Users\\voyno\\.wdm\\drivers\\chromedriver\\win32\\103.0.5060.53\\chromedriver.exe] found in cache\n"
     ]
    },
    {
     "name": "stdout",
     "output_type": "stream",
     "text": [
      "0 <selenium.webdriver.remote.webelement.WebElement (session=\"2ec838fd0f5cc038071d01cd567f4a13\", element=\"f4d41aa1-c516-4231-8453-ae7053a7f7e0\")>\n",
      "1 <selenium.webdriver.remote.webelement.WebElement (session=\"2ec838fd0f5cc038071d01cd567f4a13\", element=\"3726b1fe-3fbc-4bcc-bb0c-6a4e900b5ece\")>\n",
      "2 <selenium.webdriver.remote.webelement.WebElement (session=\"2ec838fd0f5cc038071d01cd567f4a13\", element=\"4f9236eb-988e-419c-a4ac-0b13482882f2\")>\n",
      "\n"
     ]
    },
    {
     "name": "stderr",
     "output_type": "stream",
     "text": [
      "[WDM] - ====== WebDriver manager ======\n",
      "[WDM] - Current google-chrome version is 103.0.5060\n",
      "[WDM] - Get LATEST chromedriver version for 103.0.5060 google-chrome\n",
      "[WDM] - Driver [C:\\Users\\voyno\\.wdm\\drivers\\chromedriver\\win32\\103.0.5060.53\\chromedriver.exe] found in cache\n"
     ]
    },
    {
     "name": "stdout",
     "output_type": "stream",
     "text": [
      "0 <selenium.webdriver.remote.webelement.WebElement (session=\"77406e3c721d3a5d5d6609bdd8da3560\", element=\"cc1d4916-8dd1-445d-aeb3-cfd3c1c4784f\")>\n",
      "1 <selenium.webdriver.remote.webelement.WebElement (session=\"77406e3c721d3a5d5d6609bdd8da3560\", element=\"d10d0022-e718-4e49-8552-2c8199fc2241\")>\n",
      "2 <selenium.webdriver.remote.webelement.WebElement (session=\"77406e3c721d3a5d5d6609bdd8da3560\", element=\"892b4c39-b62d-4df9-9811-300c5a244720\")>\n",
      "\n"
     ]
    },
    {
     "name": "stderr",
     "output_type": "stream",
     "text": [
      "[WDM] - ====== WebDriver manager ======\n",
      "[WDM] - Current google-chrome version is 103.0.5060\n",
      "[WDM] - Get LATEST chromedriver version for 103.0.5060 google-chrome\n",
      "[WDM] - Driver [C:\\Users\\voyno\\.wdm\\drivers\\chromedriver\\win32\\103.0.5060.53\\chromedriver.exe] found in cache\n"
     ]
    },
    {
     "name": "stdout",
     "output_type": "stream",
     "text": [
      "0 <selenium.webdriver.remote.webelement.WebElement (session=\"eff44cae7f870740077d5fe13f067010\", element=\"f259ffbd-8edf-4c18-a961-4dbed531fcfc\")>\n",
      "1 <selenium.webdriver.remote.webelement.WebElement (session=\"eff44cae7f870740077d5fe13f067010\", element=\"9009125d-6c48-4c89-9bd3-ef748532278a\")>\n",
      "2 <selenium.webdriver.remote.webelement.WebElement (session=\"eff44cae7f870740077d5fe13f067010\", element=\"5ab54955-9086-4239-a265-afcb487420e8\")>\n",
      "\n"
     ]
    },
    {
     "name": "stderr",
     "output_type": "stream",
     "text": [
      "[WDM] - ====== WebDriver manager ======\n",
      "[WDM] - Current google-chrome version is 103.0.5060\n",
      "[WDM] - Get LATEST chromedriver version for 103.0.5060 google-chrome\n",
      "[WDM] - Driver [C:\\Users\\voyno\\.wdm\\drivers\\chromedriver\\win32\\103.0.5060.53\\chromedriver.exe] found in cache\n"
     ]
    },
    {
     "name": "stdout",
     "output_type": "stream",
     "text": [
      "0 <selenium.webdriver.remote.webelement.WebElement (session=\"d9500f91818a69cec075255216f0c50e\", element=\"e4bb4942-bc61-43ee-a99f-054ea9d50964\")>\n",
      "1 <selenium.webdriver.remote.webelement.WebElement (session=\"d9500f91818a69cec075255216f0c50e\", element=\"1d3d5b55-f6ed-4476-8a95-8774832761aa\")>\n",
      "2 <selenium.webdriver.remote.webelement.WebElement (session=\"d9500f91818a69cec075255216f0c50e\", element=\"e6086a3b-9971-40a9-972f-cd15af1a7d49\")>\n",
      "\n"
     ]
    },
    {
     "name": "stderr",
     "output_type": "stream",
     "text": [
      "[WDM] - ====== WebDriver manager ======\n",
      "[WDM] - Current google-chrome version is 103.0.5060\n",
      "[WDM] - Get LATEST chromedriver version for 103.0.5060 google-chrome\n",
      "[WDM] - Driver [C:\\Users\\voyno\\.wdm\\drivers\\chromedriver\\win32\\103.0.5060.53\\chromedriver.exe] found in cache\n"
     ]
    },
    {
     "name": "stdout",
     "output_type": "stream",
     "text": [
      "0 <selenium.webdriver.remote.webelement.WebElement (session=\"2798f426459401e2fc154677810e4d03\", element=\"91948eeb-369c-408f-a697-3f69fc8f001c\")>\n",
      "1 <selenium.webdriver.remote.webelement.WebElement (session=\"2798f426459401e2fc154677810e4d03\", element=\"ee701090-0401-498a-bfb2-b2cce3ee1006\")>\n",
      "2 <selenium.webdriver.remote.webelement.WebElement (session=\"2798f426459401e2fc154677810e4d03\", element=\"4f9ea4cd-cd6c-4779-ba48-d6552529bc91\")>\n",
      "\n"
     ]
    },
    {
     "name": "stderr",
     "output_type": "stream",
     "text": [
      "[WDM] - ====== WebDriver manager ======\n",
      "[WDM] - Current google-chrome version is 103.0.5060\n",
      "[WDM] - Get LATEST chromedriver version for 103.0.5060 google-chrome\n",
      "[WDM] - Driver [C:\\Users\\voyno\\.wdm\\drivers\\chromedriver\\win32\\103.0.5060.53\\chromedriver.exe] found in cache\n"
     ]
    },
    {
     "name": "stdout",
     "output_type": "stream",
     "text": [
      "0 <selenium.webdriver.remote.webelement.WebElement (session=\"04d856919c70d3d132730594d18c9c40\", element=\"26d98479-5a6c-468d-9bdd-4a0c1acfa7a8\")>\n",
      "1 <selenium.webdriver.remote.webelement.WebElement (session=\"04d856919c70d3d132730594d18c9c40\", element=\"22c17268-6c38-4773-8e81-8a1568918c3d\")>\n",
      "2 <selenium.webdriver.remote.webelement.WebElement (session=\"04d856919c70d3d132730594d18c9c40\", element=\"0017193e-6c4d-4c88-9149-ab60ad14d026\")>\n",
      "\n"
     ]
    },
    {
     "name": "stderr",
     "output_type": "stream",
     "text": [
      "[WDM] - ====== WebDriver manager ======\n",
      "[WDM] - Current google-chrome version is 103.0.5060\n",
      "[WDM] - Get LATEST chromedriver version for 103.0.5060 google-chrome\n",
      "[WDM] - Driver [C:\\Users\\voyno\\.wdm\\drivers\\chromedriver\\win32\\103.0.5060.53\\chromedriver.exe] found in cache\n"
     ]
    },
    {
     "name": "stdout",
     "output_type": "stream",
     "text": [
      "0 <selenium.webdriver.remote.webelement.WebElement (session=\"3b668ab892cb3ff4a2ede352c699126e\", element=\"f89e1695-8bad-45cb-9e94-24fe4dc38814\")>\n",
      "1 <selenium.webdriver.remote.webelement.WebElement (session=\"3b668ab892cb3ff4a2ede352c699126e\", element=\"3609223b-41e8-412d-92e7-84f2c9237f47\")>\n",
      "2 <selenium.webdriver.remote.webelement.WebElement (session=\"3b668ab892cb3ff4a2ede352c699126e\", element=\"0422133d-9007-4372-9ff2-4e36257b6a0d\")>\n",
      "\n"
     ]
    },
    {
     "name": "stderr",
     "output_type": "stream",
     "text": [
      "[WDM] - ====== WebDriver manager ======\n",
      "[WDM] - Current google-chrome version is 103.0.5060\n",
      "[WDM] - Get LATEST chromedriver version for 103.0.5060 google-chrome\n",
      "[WDM] - Driver [C:\\Users\\voyno\\.wdm\\drivers\\chromedriver\\win32\\103.0.5060.53\\chromedriver.exe] found in cache\n"
     ]
    },
    {
     "name": "stdout",
     "output_type": "stream",
     "text": [
      "0 <selenium.webdriver.remote.webelement.WebElement (session=\"a9c4be818e351c1e13e05fa070c4bd8a\", element=\"97d0fec3-a9f9-46af-9e2f-c8c5398a9209\")>\n",
      "1 <selenium.webdriver.remote.webelement.WebElement (session=\"a9c4be818e351c1e13e05fa070c4bd8a\", element=\"8e6ba9dc-b36f-4ec0-857a-566bb60139cf\")>\n",
      "2 <selenium.webdriver.remote.webelement.WebElement (session=\"a9c4be818e351c1e13e05fa070c4bd8a\", element=\"59f32798-037b-4499-8316-f4aec127341c\")>\n",
      "\n"
     ]
    },
    {
     "name": "stderr",
     "output_type": "stream",
     "text": [
      "[WDM] - ====== WebDriver manager ======\n",
      "[WDM] - Current google-chrome version is 103.0.5060\n",
      "[WDM] - Get LATEST chromedriver version for 103.0.5060 google-chrome\n",
      "[WDM] - Driver [C:\\Users\\voyno\\.wdm\\drivers\\chromedriver\\win32\\103.0.5060.53\\chromedriver.exe] found in cache\n"
     ]
    },
    {
     "name": "stdout",
     "output_type": "stream",
     "text": [
      "0 <selenium.webdriver.remote.webelement.WebElement (session=\"254124479df499b2462869ad8281e407\", element=\"8aec7f88-27b5-491a-ad29-611ac26dd285\")>\n",
      "1 <selenium.webdriver.remote.webelement.WebElement (session=\"254124479df499b2462869ad8281e407\", element=\"a6074799-db03-42e0-917f-c7c78b85d3dc\")>\n",
      "2 <selenium.webdriver.remote.webelement.WebElement (session=\"254124479df499b2462869ad8281e407\", element=\"76cfad01-c5b3-4512-b504-31c06b306bba\")>\n",
      "\n"
     ]
    },
    {
     "name": "stderr",
     "output_type": "stream",
     "text": [
      "[WDM] - ====== WebDriver manager ======\n",
      "[WDM] - Current google-chrome version is 103.0.5060\n",
      "[WDM] - Get LATEST chromedriver version for 103.0.5060 google-chrome\n",
      "[WDM] - Driver [C:\\Users\\voyno\\.wdm\\drivers\\chromedriver\\win32\\103.0.5060.53\\chromedriver.exe] found in cache\n"
     ]
    },
    {
     "name": "stdout",
     "output_type": "stream",
     "text": [
      "0 <selenium.webdriver.remote.webelement.WebElement (session=\"fd6d6cfab9cebce0831324bf2831811f\", element=\"764f4f4f-011d-4e54-bf16-1b1d482fd5c8\")>\n",
      "1 <selenium.webdriver.remote.webelement.WebElement (session=\"fd6d6cfab9cebce0831324bf2831811f\", element=\"fdfd30af-463d-4a25-912d-c2f846158cfd\")>\n",
      "2 <selenium.webdriver.remote.webelement.WebElement (session=\"fd6d6cfab9cebce0831324bf2831811f\", element=\"8552177b-bc4a-4729-97d3-0211bb81d8ce\")>\n",
      "\n"
     ]
    },
    {
     "name": "stderr",
     "output_type": "stream",
     "text": [
      "[WDM] - ====== WebDriver manager ======\n",
      "[WDM] - Current google-chrome version is 103.0.5060\n",
      "[WDM] - Get LATEST chromedriver version for 103.0.5060 google-chrome\n",
      "[WDM] - Driver [C:\\Users\\voyno\\.wdm\\drivers\\chromedriver\\win32\\103.0.5060.53\\chromedriver.exe] found in cache\n"
     ]
    },
    {
     "name": "stdout",
     "output_type": "stream",
     "text": [
      "0 <selenium.webdriver.remote.webelement.WebElement (session=\"cf6db194f06e8266a940992afb3b949e\", element=\"04bc4c56-0df9-4eb7-a398-2b7691f522ce\")>\n",
      "1 <selenium.webdriver.remote.webelement.WebElement (session=\"cf6db194f06e8266a940992afb3b949e\", element=\"7d1cd920-0209-4e49-b2a4-c19346c8adc8\")>\n",
      "\n"
     ]
    },
    {
     "name": "stderr",
     "output_type": "stream",
     "text": [
      "[WDM] - ====== WebDriver manager ======\n",
      "[WDM] - Current google-chrome version is 103.0.5060\n",
      "[WDM] - Get LATEST chromedriver version for 103.0.5060 google-chrome\n",
      "[WDM] - Driver [C:\\Users\\voyno\\.wdm\\drivers\\chromedriver\\win32\\103.0.5060.53\\chromedriver.exe] found in cache\n"
     ]
    },
    {
     "name": "stdout",
     "output_type": "stream",
     "text": [
      "0 <selenium.webdriver.remote.webelement.WebElement (session=\"9831d92616b8f17e0d633719d2adcee2\", element=\"f361c69e-6ed9-4cf5-a3b3-b087a2818085\")>\n",
      "1 <selenium.webdriver.remote.webelement.WebElement (session=\"9831d92616b8f17e0d633719d2adcee2\", element=\"b0833cff-c7cb-42ba-add0-3d7387f9ce86\")>\n",
      "\n"
     ]
    },
    {
     "name": "stderr",
     "output_type": "stream",
     "text": [
      "[WDM] - ====== WebDriver manager ======\n",
      "[WDM] - Current google-chrome version is 103.0.5060\n",
      "[WDM] - Get LATEST chromedriver version for 103.0.5060 google-chrome\n",
      "[WDM] - Driver [C:\\Users\\voyno\\.wdm\\drivers\\chromedriver\\win32\\103.0.5060.53\\chromedriver.exe] found in cache\n"
     ]
    },
    {
     "name": "stdout",
     "output_type": "stream",
     "text": [
      "0 <selenium.webdriver.remote.webelement.WebElement (session=\"1bee8fb1771575dc4e5961e90c379183\", element=\"8be487c7-580b-4c95-bd52-0d7cf9277821\")>\n",
      "1 <selenium.webdriver.remote.webelement.WebElement (session=\"1bee8fb1771575dc4e5961e90c379183\", element=\"aff62b55-a390-4ac8-b903-b0992b63114b\")>\n",
      "2 <selenium.webdriver.remote.webelement.WebElement (session=\"1bee8fb1771575dc4e5961e90c379183\", element=\"206a8c23-0a7a-4868-bf88-7b39792e5f43\")>\n",
      "\n"
     ]
    },
    {
     "name": "stderr",
     "output_type": "stream",
     "text": [
      "[WDM] - ====== WebDriver manager ======\n",
      "[WDM] - Current google-chrome version is 103.0.5060\n",
      "[WDM] - Get LATEST chromedriver version for 103.0.5060 google-chrome\n",
      "[WDM] - Driver [C:\\Users\\voyno\\.wdm\\drivers\\chromedriver\\win32\\103.0.5060.53\\chromedriver.exe] found in cache\n"
     ]
    },
    {
     "name": "stdout",
     "output_type": "stream",
     "text": [
      "0 <selenium.webdriver.remote.webelement.WebElement (session=\"91aac84f9c692bfcfb597bf8c6fbf2af\", element=\"827b0c60-7dfd-4785-956b-827edda9a4ae\")>\n",
      "1 <selenium.webdriver.remote.webelement.WebElement (session=\"91aac84f9c692bfcfb597bf8c6fbf2af\", element=\"4411e83e-422f-487d-9ddb-e8021312aaae\")>\n",
      "2 <selenium.webdriver.remote.webelement.WebElement (session=\"91aac84f9c692bfcfb597bf8c6fbf2af\", element=\"9c9bfd64-b3d6-4c7d-8aeb-4f308dfad13d\")>\n",
      "\n"
     ]
    },
    {
     "name": "stderr",
     "output_type": "stream",
     "text": [
      "[WDM] - ====== WebDriver manager ======\n",
      "[WDM] - Current google-chrome version is 103.0.5060\n",
      "[WDM] - Get LATEST chromedriver version for 103.0.5060 google-chrome\n",
      "[WDM] - Driver [C:\\Users\\voyno\\.wdm\\drivers\\chromedriver\\win32\\103.0.5060.53\\chromedriver.exe] found in cache\n"
     ]
    },
    {
     "name": "stdout",
     "output_type": "stream",
     "text": [
      "0 <selenium.webdriver.remote.webelement.WebElement (session=\"82a6552df57fc8972613bb43eb3a0ac6\", element=\"a0b3fb61-7c6d-49f6-af10-8ee939d5a575\")>\n",
      "1 <selenium.webdriver.remote.webelement.WebElement (session=\"82a6552df57fc8972613bb43eb3a0ac6\", element=\"4d452097-791e-44bb-8894-cacd20cd1603\")>\n",
      "2 <selenium.webdriver.remote.webelement.WebElement (session=\"82a6552df57fc8972613bb43eb3a0ac6\", element=\"741a02e9-ee8e-4ae1-8554-e55c79c8e664\")>\n",
      "\n"
     ]
    },
    {
     "name": "stderr",
     "output_type": "stream",
     "text": [
      "[WDM] - ====== WebDriver manager ======\n",
      "[WDM] - Current google-chrome version is 103.0.5060\n",
      "[WDM] - Get LATEST chromedriver version for 103.0.5060 google-chrome\n",
      "[WDM] - Driver [C:\\Users\\voyno\\.wdm\\drivers\\chromedriver\\win32\\103.0.5060.53\\chromedriver.exe] found in cache\n"
     ]
    },
    {
     "name": "stdout",
     "output_type": "stream",
     "text": [
      "0 <selenium.webdriver.remote.webelement.WebElement (session=\"6c4e9855118ae28efabae2155fc8094f\", element=\"cb7685e7-eac0-4604-9173-a477677801cd\")>\n",
      "1 <selenium.webdriver.remote.webelement.WebElement (session=\"6c4e9855118ae28efabae2155fc8094f\", element=\"6a356307-1b29-48b3-9719-cd74a213bd51\")>\n",
      "2 <selenium.webdriver.remote.webelement.WebElement (session=\"6c4e9855118ae28efabae2155fc8094f\", element=\"3e4493d2-56a9-4163-90d2-5ce5782afaed\")>\n",
      "\n"
     ]
    },
    {
     "name": "stderr",
     "output_type": "stream",
     "text": [
      "[WDM] - ====== WebDriver manager ======\n",
      "[WDM] - Current google-chrome version is 103.0.5060\n",
      "[WDM] - Get LATEST chromedriver version for 103.0.5060 google-chrome\n",
      "[WDM] - Driver [C:\\Users\\voyno\\.wdm\\drivers\\chromedriver\\win32\\103.0.5060.53\\chromedriver.exe] found in cache\n"
     ]
    },
    {
     "name": "stdout",
     "output_type": "stream",
     "text": [
      "0 <selenium.webdriver.remote.webelement.WebElement (session=\"0b3b37995a80b3635a83f8e174143abc\", element=\"0d231d46-b653-49ab-8f9e-30ea66ff655a\")>\n",
      "1 <selenium.webdriver.remote.webelement.WebElement (session=\"0b3b37995a80b3635a83f8e174143abc\", element=\"bfac0e89-802a-48bb-bb89-f82afb51c665\")>\n",
      "\n"
     ]
    },
    {
     "name": "stderr",
     "output_type": "stream",
     "text": [
      "[WDM] - ====== WebDriver manager ======\n",
      "[WDM] - Current google-chrome version is 103.0.5060\n",
      "[WDM] - Get LATEST chromedriver version for 103.0.5060 google-chrome\n",
      "[WDM] - Driver [C:\\Users\\voyno\\.wdm\\drivers\\chromedriver\\win32\\103.0.5060.53\\chromedriver.exe] found in cache\n"
     ]
    },
    {
     "name": "stdout",
     "output_type": "stream",
     "text": [
      "0 <selenium.webdriver.remote.webelement.WebElement (session=\"2cedb17f7338659f634e83d4fac3bc99\", element=\"6521f9b9-f21e-4fe7-8f73-0ec62e54d2a0\")>\n",
      "1 <selenium.webdriver.remote.webelement.WebElement (session=\"2cedb17f7338659f634e83d4fac3bc99\", element=\"9424ca69-fc10-4d89-b866-17b6d2290b6f\")>\n",
      "\n"
     ]
    },
    {
     "name": "stderr",
     "output_type": "stream",
     "text": [
      "[WDM] - ====== WebDriver manager ======\n",
      "[WDM] - Current google-chrome version is 103.0.5060\n",
      "[WDM] - Get LATEST chromedriver version for 103.0.5060 google-chrome\n",
      "[WDM] - Driver [C:\\Users\\voyno\\.wdm\\drivers\\chromedriver\\win32\\103.0.5060.53\\chromedriver.exe] found in cache\n"
     ]
    },
    {
     "name": "stdout",
     "output_type": "stream",
     "text": [
      "0 <selenium.webdriver.remote.webelement.WebElement (session=\"3276ef713a1c4bd709c0ff0897ef2884\", element=\"f9368268-886e-4e79-aca5-71925ddd9d4c\")>\n",
      "1 <selenium.webdriver.remote.webelement.WebElement (session=\"3276ef713a1c4bd709c0ff0897ef2884\", element=\"d99bbfa3-ac89-4c84-9f39-3dcad4db99e2\")>\n",
      "\n"
     ]
    },
    {
     "name": "stderr",
     "output_type": "stream",
     "text": [
      "[WDM] - ====== WebDriver manager ======\n",
      "[WDM] - Current google-chrome version is 103.0.5060\n",
      "[WDM] - Get LATEST chromedriver version for 103.0.5060 google-chrome\n",
      "[WDM] - Driver [C:\\Users\\voyno\\.wdm\\drivers\\chromedriver\\win32\\103.0.5060.53\\chromedriver.exe] found in cache\n"
     ]
    },
    {
     "name": "stdout",
     "output_type": "stream",
     "text": [
      "0 <selenium.webdriver.remote.webelement.WebElement (session=\"c17c94897395a96cc892c30b205f16cf\", element=\"fea8953f-8624-4eeb-9e39-0f5ea559a739\")>\n",
      "1 <selenium.webdriver.remote.webelement.WebElement (session=\"c17c94897395a96cc892c30b205f16cf\", element=\"52efe46d-da22-4daf-8a20-68681d47c482\")>\n",
      "2 <selenium.webdriver.remote.webelement.WebElement (session=\"c17c94897395a96cc892c30b205f16cf\", element=\"99defb18-5c46-4a18-b5be-e807a01bc8f5\")>\n",
      "\n"
     ]
    },
    {
     "name": "stderr",
     "output_type": "stream",
     "text": [
      "[WDM] - ====== WebDriver manager ======\n",
      "[WDM] - Current google-chrome version is 103.0.5060\n",
      "[WDM] - Get LATEST chromedriver version for 103.0.5060 google-chrome\n",
      "[WDM] - Driver [C:\\Users\\voyno\\.wdm\\drivers\\chromedriver\\win32\\103.0.5060.53\\chromedriver.exe] found in cache\n"
     ]
    },
    {
     "name": "stdout",
     "output_type": "stream",
     "text": [
      "0 <selenium.webdriver.remote.webelement.WebElement (session=\"c3dce98e327baac6eb98573d73dc716e\", element=\"307d74a7-1c3f-46a7-b2ef-2df3112aabe5\")>\n",
      "1 <selenium.webdriver.remote.webelement.WebElement (session=\"c3dce98e327baac6eb98573d73dc716e\", element=\"fa9729ff-4f75-4ed7-a62b-7b3bff806f0f\")>\n",
      "\n"
     ]
    },
    {
     "name": "stderr",
     "output_type": "stream",
     "text": [
      "[WDM] - ====== WebDriver manager ======\n",
      "[WDM] - Current google-chrome version is 103.0.5060\n",
      "[WDM] - Get LATEST chromedriver version for 103.0.5060 google-chrome\n",
      "[WDM] - Driver [C:\\Users\\voyno\\.wdm\\drivers\\chromedriver\\win32\\103.0.5060.53\\chromedriver.exe] found in cache\n"
     ]
    },
    {
     "name": "stdout",
     "output_type": "stream",
     "text": [
      "0 <selenium.webdriver.remote.webelement.WebElement (session=\"a312b503a101c9a0a4c09352f01f4300\", element=\"cd03713d-3923-4a17-a698-621d0535f55b\")>\n",
      "1 <selenium.webdriver.remote.webelement.WebElement (session=\"a312b503a101c9a0a4c09352f01f4300\", element=\"ea974bee-69b8-4e07-b058-18afbbebf034\")>\n",
      "\n"
     ]
    },
    {
     "name": "stderr",
     "output_type": "stream",
     "text": [
      "[WDM] - ====== WebDriver manager ======\n",
      "[WDM] - Current google-chrome version is 103.0.5060\n",
      "[WDM] - Get LATEST chromedriver version for 103.0.5060 google-chrome\n",
      "[WDM] - Driver [C:\\Users\\voyno\\.wdm\\drivers\\chromedriver\\win32\\103.0.5060.53\\chromedriver.exe] found in cache\n"
     ]
    },
    {
     "name": "stdout",
     "output_type": "stream",
     "text": [
      "0 <selenium.webdriver.remote.webelement.WebElement (session=\"9483c0b7b700613e05d3491488991325\", element=\"1cb80276-8fb2-4bd8-bdf6-08701321ac6b\")>\n",
      "1 <selenium.webdriver.remote.webelement.WebElement (session=\"9483c0b7b700613e05d3491488991325\", element=\"02be7ea1-a965-4244-ae31-a6f063f25030\")>\n",
      "\n"
     ]
    },
    {
     "name": "stderr",
     "output_type": "stream",
     "text": [
      "[WDM] - ====== WebDriver manager ======\n",
      "[WDM] - Current google-chrome version is 103.0.5060\n",
      "[WDM] - Get LATEST chromedriver version for 103.0.5060 google-chrome\n",
      "[WDM] - Driver [C:\\Users\\voyno\\.wdm\\drivers\\chromedriver\\win32\\103.0.5060.53\\chromedriver.exe] found in cache\n"
     ]
    },
    {
     "name": "stdout",
     "output_type": "stream",
     "text": [
      "0 <selenium.webdriver.remote.webelement.WebElement (session=\"9c2384f4b6cb829e9280b6a63fb992ad\", element=\"4faa51cd-169a-4881-b61b-d2e51143418b\")>\n",
      "1 <selenium.webdriver.remote.webelement.WebElement (session=\"9c2384f4b6cb829e9280b6a63fb992ad\", element=\"f5274968-8821-4aa0-8f9f-6eeccd08cb12\")>\n",
      "\n"
     ]
    },
    {
     "name": "stderr",
     "output_type": "stream",
     "text": [
      "[WDM] - ====== WebDriver manager ======\n",
      "[WDM] - Current google-chrome version is 103.0.5060\n",
      "[WDM] - Get LATEST chromedriver version for 103.0.5060 google-chrome\n",
      "[WDM] - Driver [C:\\Users\\voyno\\.wdm\\drivers\\chromedriver\\win32\\103.0.5060.53\\chromedriver.exe] found in cache\n"
     ]
    },
    {
     "name": "stdout",
     "output_type": "stream",
     "text": [
      "0 <selenium.webdriver.remote.webelement.WebElement (session=\"d2302ff59ae6ee27cc2b4d959776656d\", element=\"c3dd1e64-ddd2-4b89-bad8-8f93c472d366\")>\n",
      "1 <selenium.webdriver.remote.webelement.WebElement (session=\"d2302ff59ae6ee27cc2b4d959776656d\", element=\"22d47ac5-f41a-46f1-9652-ceed228ab011\")>\n",
      "\n"
     ]
    },
    {
     "name": "stderr",
     "output_type": "stream",
     "text": [
      "[WDM] - ====== WebDriver manager ======\n",
      "[WDM] - Current google-chrome version is 103.0.5060\n",
      "[WDM] - Get LATEST chromedriver version for 103.0.5060 google-chrome\n",
      "[WDM] - Driver [C:\\Users\\voyno\\.wdm\\drivers\\chromedriver\\win32\\103.0.5060.53\\chromedriver.exe] found in cache\n"
     ]
    },
    {
     "name": "stdout",
     "output_type": "stream",
     "text": [
      "0 <selenium.webdriver.remote.webelement.WebElement (session=\"777aafe5ebb3bcbfb82e792cd76310ff\", element=\"9fc4c222-014c-4b62-b58b-07a15c800216\")>\n",
      "1 <selenium.webdriver.remote.webelement.WebElement (session=\"777aafe5ebb3bcbfb82e792cd76310ff\", element=\"ba56044e-d7e0-4d47-a78c-c9e7f15114c6\")>\n",
      "2 <selenium.webdriver.remote.webelement.WebElement (session=\"777aafe5ebb3bcbfb82e792cd76310ff\", element=\"4f85056c-83b7-4ae1-b40c-38d36a3a1aff\")>\n",
      "\n"
     ]
    },
    {
     "name": "stderr",
     "output_type": "stream",
     "text": [
      "[WDM] - ====== WebDriver manager ======\n",
      "[WDM] - Current google-chrome version is 103.0.5060\n",
      "[WDM] - Get LATEST chromedriver version for 103.0.5060 google-chrome\n",
      "[WDM] - Driver [C:\\Users\\voyno\\.wdm\\drivers\\chromedriver\\win32\\103.0.5060.53\\chromedriver.exe] found in cache\n"
     ]
    },
    {
     "name": "stdout",
     "output_type": "stream",
     "text": [
      "0 <selenium.webdriver.remote.webelement.WebElement (session=\"3c6fad8a8c65cf6afa391bba1c6ba940\", element=\"2812c223-f6b7-4780-86c4-7ea290e0afbf\")>\n",
      "1 <selenium.webdriver.remote.webelement.WebElement (session=\"3c6fad8a8c65cf6afa391bba1c6ba940\", element=\"610d8227-1556-4bd5-9bd4-f21474e50ad3\")>\n",
      "\n"
     ]
    },
    {
     "name": "stderr",
     "output_type": "stream",
     "text": [
      "[WDM] - ====== WebDriver manager ======\n",
      "[WDM] - Current google-chrome version is 103.0.5060\n",
      "[WDM] - Get LATEST chromedriver version for 103.0.5060 google-chrome\n",
      "[WDM] - Driver [C:\\Users\\voyno\\.wdm\\drivers\\chromedriver\\win32\\103.0.5060.53\\chromedriver.exe] found in cache\n"
     ]
    },
    {
     "name": "stdout",
     "output_type": "stream",
     "text": [
      "0 <selenium.webdriver.remote.webelement.WebElement (session=\"1c5dab4c030e211f055d904e06768afd\", element=\"074a2398-3b63-418f-8927-c8e16f5e5251\")>\n",
      "1 <selenium.webdriver.remote.webelement.WebElement (session=\"1c5dab4c030e211f055d904e06768afd\", element=\"8cc85cd5-9c36-4dc2-8b0b-c6f6fc1f2133\")>\n",
      "2 <selenium.webdriver.remote.webelement.WebElement (session=\"1c5dab4c030e211f055d904e06768afd\", element=\"930673f3-3d68-4aa8-ae65-35ea10267885\")>\n",
      "\n"
     ]
    },
    {
     "name": "stderr",
     "output_type": "stream",
     "text": [
      "[WDM] - ====== WebDriver manager ======\n",
      "[WDM] - Current google-chrome version is 103.0.5060\n",
      "[WDM] - Get LATEST chromedriver version for 103.0.5060 google-chrome\n",
      "[WDM] - Driver [C:\\Users\\voyno\\.wdm\\drivers\\chromedriver\\win32\\103.0.5060.53\\chromedriver.exe] found in cache\n"
     ]
    },
    {
     "name": "stdout",
     "output_type": "stream",
     "text": [
      "0 <selenium.webdriver.remote.webelement.WebElement (session=\"22506ffb39600f6afcca3c1f43c2f9d8\", element=\"aab2256e-90bb-4427-902f-fd120466962c\")>\n",
      "1 <selenium.webdriver.remote.webelement.WebElement (session=\"22506ffb39600f6afcca3c1f43c2f9d8\", element=\"99b38671-e241-4eb1-b6b7-37e883ff3c84\")>\n",
      "\n"
     ]
    },
    {
     "name": "stderr",
     "output_type": "stream",
     "text": [
      "[WDM] - ====== WebDriver manager ======\n",
      "[WDM] - Current google-chrome version is 103.0.5060\n",
      "[WDM] - Get LATEST chromedriver version for 103.0.5060 google-chrome\n",
      "[WDM] - Driver [C:\\Users\\voyno\\.wdm\\drivers\\chromedriver\\win32\\103.0.5060.53\\chromedriver.exe] found in cache\n"
     ]
    },
    {
     "name": "stdout",
     "output_type": "stream",
     "text": [
      "0 <selenium.webdriver.remote.webelement.WebElement (session=\"2ae4d4643657c4073c40a3c01351414a\", element=\"14a9d70c-0d8d-4a91-a2bc-a13f42b080db\")>\n",
      "1 <selenium.webdriver.remote.webelement.WebElement (session=\"2ae4d4643657c4073c40a3c01351414a\", element=\"7e262c32-01a6-4850-b422-c2566a814a42\")>\n",
      "\n"
     ]
    },
    {
     "name": "stderr",
     "output_type": "stream",
     "text": [
      "[WDM] - ====== WebDriver manager ======\n",
      "[WDM] - Current google-chrome version is 103.0.5060\n",
      "[WDM] - Get LATEST chromedriver version for 103.0.5060 google-chrome\n",
      "[WDM] - Driver [C:\\Users\\voyno\\.wdm\\drivers\\chromedriver\\win32\\103.0.5060.53\\chromedriver.exe] found in cache\n"
     ]
    },
    {
     "name": "stdout",
     "output_type": "stream",
     "text": [
      "0 <selenium.webdriver.remote.webelement.WebElement (session=\"6f0e778ed977ea0f88b38b78ff82dd92\", element=\"75909bf6-db98-409c-aae4-51194386a096\")>\n",
      "1 <selenium.webdriver.remote.webelement.WebElement (session=\"6f0e778ed977ea0f88b38b78ff82dd92\", element=\"ff9eb0fb-902b-49f4-a645-fa9f0495caa3\")>\n",
      "2 <selenium.webdriver.remote.webelement.WebElement (session=\"6f0e778ed977ea0f88b38b78ff82dd92\", element=\"88b1f75c-f719-45dc-9de9-97b9ff7c3baa\")>\n",
      "\n"
     ]
    },
    {
     "name": "stderr",
     "output_type": "stream",
     "text": [
      "[WDM] - ====== WebDriver manager ======\n",
      "[WDM] - Current google-chrome version is 103.0.5060\n",
      "[WDM] - Get LATEST chromedriver version for 103.0.5060 google-chrome\n",
      "[WDM] - Driver [C:\\Users\\voyno\\.wdm\\drivers\\chromedriver\\win32\\103.0.5060.53\\chromedriver.exe] found in cache\n"
     ]
    },
    {
     "name": "stdout",
     "output_type": "stream",
     "text": [
      "0 <selenium.webdriver.remote.webelement.WebElement (session=\"db27f494235637d9f5184c924489b7f0\", element=\"9837492f-d449-4470-8680-e2b4aba83d76\")>\n",
      "1 <selenium.webdriver.remote.webelement.WebElement (session=\"db27f494235637d9f5184c924489b7f0\", element=\"fa75a4a8-9440-4aec-b364-e48a9a45bbdb\")>\n",
      "2 <selenium.webdriver.remote.webelement.WebElement (session=\"db27f494235637d9f5184c924489b7f0\", element=\"1ee64e66-a226-4e36-9339-718479e4a5bc\")>\n"
     ]
    }
   ],
   "source": [
    "raw_data = extract.extract(use_link_map=True)\n",
    "with open(raw_loc, 'wb') as f:\n",
    "    pickle.dump(raw_data, f)"
   ]
  },
  {
   "cell_type": "code",
   "execution_count": 61,
   "metadata": {},
   "outputs": [],
   "source": [
    "clean_data = transform.transform()\n",
    "with open(clean_loc, \"w\") as f:\n",
    "    json.dump(clean_data, f, indent=4)"
   ]
  },
  {
   "cell_type": "code",
   "execution_count": 39,
   "metadata": {},
   "outputs": [],
   "source": []
  }
 ],
 "metadata": {
  "kernelspec": {
   "display_name": "Python 3.8.0 ('venv': venv)",
   "language": "python",
   "name": "python3"
  },
  "language_info": {
   "codemirror_mode": {
    "name": "ipython",
    "version": 3
   },
   "file_extension": ".py",
   "mimetype": "text/x-python",
   "name": "python",
   "nbconvert_exporter": "python",
   "pygments_lexer": "ipython3",
   "version": "3.8.0"
  },
  "orig_nbformat": 4,
  "vscode": {
   "interpreter": {
    "hash": "784692254b77ada57f3128df0a88ff89f3a7cbde4f0bdf9eb7754ce7391f8afa"
   }
  }
 },
 "nbformat": 4,
 "nbformat_minor": 2
}
