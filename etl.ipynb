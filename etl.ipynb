{
 "cells": [
  {
   "cell_type": "code",
   "execution_count": 79,
   "metadata": {},
   "outputs": [
    {
     "name": "stdout",
     "output_type": "stream",
     "text": [
      "The autoreload extension is already loaded. To reload it, use:\n",
      "  %reload_ext autoreload\n"
     ]
    }
   ],
   "source": [
    "%load_ext autoreload\n",
    "%autoreload 2"
   ]
  },
  {
   "cell_type": "code",
   "execution_count": 80,
   "metadata": {},
   "outputs": [],
   "source": [
    "import json\n",
    "import pathlib\n",
    "import pickle\n",
    "\n",
    "from utils import extract, transform"
   ]
  },
  {
   "cell_type": "code",
   "execution_count": 81,
   "metadata": {},
   "outputs": [],
   "source": [
    "data_folder = pathlib.Path('data/')\n",
    "raw_loc = data_folder / 'game_level.pkl'\n",
    "clean_loc = data_folder / 'player_data_dict.json'"
   ]
  },
  {
   "cell_type": "code",
   "execution_count": 83,
   "metadata": {},
   "outputs": [
    {
     "name": "stdout",
     "output_type": "stream",
     "text": [
      "\n"
     ]
    },
    {
     "name": "stderr",
     "output_type": "stream",
     "text": [
      "[WDM] - ====== WebDriver manager ======\n",
      "[WDM] - Current google-chrome version is 103.0.5060\n",
      "[WDM] - Get LATEST chromedriver version for 103.0.5060 google-chrome\n",
      "[WDM] - Driver [C:\\Users\\voyno\\.wdm\\drivers\\chromedriver\\win32\\103.0.5060.53\\chromedriver.exe] found in cache\n"
     ]
    },
    {
     "name": "stdout",
     "output_type": "stream",
     "text": [
      "Link: <selenium.webdriver.remote.webelement.WebElement (session=\"c8e3efb257c8b8eb7cb1be1714dabdb0\", element=\"67eb98a4-90f8-483e-89be-fe18c3cb96eb\")>\n",
      "player_name: Cooper Kupp\n",
      "Player card: <selenium.webdriver.remote.webelement.WebElement (session=\"c8e3efb257c8b8eb7cb1be1714dabdb0\", element=\"7afd6066-916f-43a5-a370-b867a03b720f\")>\n",
      "Link: <selenium.webdriver.remote.webelement.WebElement (session=\"c8e3efb257c8b8eb7cb1be1714dabdb0\", element=\"ce5c22d0-c1d1-42ac-9008-912eae6d77a1\")>\n",
      "player_name: Josh Allen\n",
      "Player card: <selenium.webdriver.remote.webelement.WebElement (session=\"c8e3efb257c8b8eb7cb1be1714dabdb0\", element=\"51520f9b-0d42-41dd-92af-db6f02ac14a2\")>\n",
      "Link: <selenium.webdriver.remote.webelement.WebElement (session=\"c8e3efb257c8b8eb7cb1be1714dabdb0\", element=\"28f130df-7abf-408a-aa4e-dcb2b1198e0b\")>\n",
      "player_name: \n",
      "Player card: <selenium.webdriver.remote.webelement.WebElement (session=\"c8e3efb257c8b8eb7cb1be1714dabdb0\", element=\"bc1e755a-3fcd-453b-84f9-97348b7c3d95\")>\n",
      "Link: <selenium.webdriver.remote.webelement.WebElement (session=\"c8e3efb257c8b8eb7cb1be1714dabdb0\", element=\"23964bee-10fe-4b15-bbd1-05ce0a9d85ef\")>\n",
      "player_name: Justin Herbert\n",
      "Player card: <selenium.webdriver.remote.webelement.WebElement (session=\"c8e3efb257c8b8eb7cb1be1714dabdb0\", element=\"af5febe0-d2ab-49f9-8032-c09d73898ee8\")>\n",
      "Link: <selenium.webdriver.remote.webelement.WebElement (session=\"c8e3efb257c8b8eb7cb1be1714dabdb0\", element=\"944af47d-0c76-4df1-88cc-e3b23312e567\")>\n",
      "player_name: \n",
      "Player card: <selenium.webdriver.remote.webelement.WebElement (session=\"c8e3efb257c8b8eb7cb1be1714dabdb0\", element=\"8a29f97c-8d76-47ef-a6fb-81b8e72e1f43\")>\n",
      "Link: <selenium.webdriver.remote.webelement.WebElement (session=\"c8e3efb257c8b8eb7cb1be1714dabdb0\", element=\"214f7e0f-b512-42e6-89c4-95a25897392c\")>\n",
      "player_name: Tom Brady\n",
      "Player card: <selenium.webdriver.remote.webelement.WebElement (session=\"c8e3efb257c8b8eb7cb1be1714dabdb0\", element=\"c9cb4aed-f4b9-4ee8-a01f-f2b9fda67a13\")>\n",
      "Link: <selenium.webdriver.remote.webelement.WebElement (session=\"c8e3efb257c8b8eb7cb1be1714dabdb0\", element=\"3ddc2449-e142-48dc-bba3-e151539c0591\")>\n",
      "player_name: Jonathan Taylor\n",
      "Player card: <selenium.webdriver.remote.webelement.WebElement (session=\"c8e3efb257c8b8eb7cb1be1714dabdb0\", element=\"ad9b3674-7a6c-4514-8278-e3180da99245\")>\n",
      "Link: <selenium.webdriver.remote.webelement.WebElement (session=\"c8e3efb257c8b8eb7cb1be1714dabdb0\", element=\"7fbfd152-cca0-44b5-9029-f39b858dc9e1\")>\n",
      "player_name: Patrick Mahomes\n",
      "Player card: <selenium.webdriver.remote.webelement.WebElement (session=\"c8e3efb257c8b8eb7cb1be1714dabdb0\", element=\"9718d2fe-c134-4d4a-ba38-a28b4f9e836b\")>\n",
      "Link: <selenium.webdriver.remote.webelement.WebElement (session=\"c8e3efb257c8b8eb7cb1be1714dabdb0\", element=\"e9739c50-2e3b-44a9-a718-e3f36d5e2322\")>\n",
      "player_name: Davante Adams\n",
      "Player card: <selenium.webdriver.remote.webelement.WebElement (session=\"c8e3efb257c8b8eb7cb1be1714dabdb0\", element=\"d892746a-8066-4cde-96ae-2f98d07931b3\")>\n",
      "Link: <selenium.webdriver.remote.webelement.WebElement (session=\"c8e3efb257c8b8eb7cb1be1714dabdb0\", element=\"468fcc1d-4314-4424-8561-4e0698d6a2e3\")>\n",
      "player_name: Austin Ekeler\n",
      "Player card: <selenium.webdriver.remote.webelement.WebElement (session=\"c8e3efb257c8b8eb7cb1be1714dabdb0\", element=\"49aa7046-c6fd-4df9-9c23-fea6c3b8954e\")>\n",
      "Link: <selenium.webdriver.remote.webelement.WebElement (session=\"c8e3efb257c8b8eb7cb1be1714dabdb0\", element=\"b58e76f4-4890-48f6-8160-1a22e7889328\")>\n",
      "player_name: \n",
      "Player card: <selenium.webdriver.remote.webelement.WebElement (session=\"c8e3efb257c8b8eb7cb1be1714dabdb0\", element=\"69f73efa-5d9d-4be0-acf2-837035e02bbc\")>\n",
      "Link: <selenium.webdriver.remote.webelement.WebElement (session=\"c8e3efb257c8b8eb7cb1be1714dabdb0\", element=\"235032d8-59ff-4e5e-907a-12fe09443e74\")>\n",
      "player_name: Deebo Samuel\n",
      "Player card: <selenium.webdriver.remote.webelement.WebElement (session=\"c8e3efb257c8b8eb7cb1be1714dabdb0\", element=\"fde62b8e-6502-4101-9700-d23716cef381\")>\n",
      "Link: <selenium.webdriver.remote.webelement.WebElement (session=\"c8e3efb257c8b8eb7cb1be1714dabdb0\", element=\"a18ce240-b663-40c1-82eb-a94246d09e67\")>\n",
      "player_name: Aaron Rodgers\n",
      "Player card: <selenium.webdriver.remote.webelement.WebElement (session=\"c8e3efb257c8b8eb7cb1be1714dabdb0\", element=\"18af2085-5b2f-4765-9b01-2b5cdd134da6\")>\n",
      "Link: <selenium.webdriver.remote.webelement.WebElement (session=\"c8e3efb257c8b8eb7cb1be1714dabdb0\", element=\"0c7296d9-b140-427c-b960-6b13404910af\")>\n",
      "player_name: Justin Jefferson\n",
      "Player card: <selenium.webdriver.remote.webelement.WebElement (session=\"c8e3efb257c8b8eb7cb1be1714dabdb0\", element=\"16e2ac42-dc18-4d81-afdb-aec56e31575a\")>\n",
      "Link: <selenium.webdriver.remote.webelement.WebElement (session=\"c8e3efb257c8b8eb7cb1be1714dabdb0\", element=\"24641cc0-059f-48b6-b43b-382dc68f59da\")>\n",
      "player_name: Matthew Stafford\n",
      "Player card: <selenium.webdriver.remote.webelement.WebElement (session=\"c8e3efb257c8b8eb7cb1be1714dabdb0\", element=\"317da803-76cd-4fdd-b0c8-230c237c1039\")>\n",
      "Link: <selenium.webdriver.remote.webelement.WebElement (session=\"c8e3efb257c8b8eb7cb1be1714dabdb0\", element=\"05a6f7e1-4281-4c84-9674-f9e062709f58\")>\n",
      "player_name: Dak Prescott\n",
      "Player card: <selenium.webdriver.remote.webelement.WebElement (session=\"c8e3efb257c8b8eb7cb1be1714dabdb0\", element=\"bff338f7-0776-4326-9ac6-288b2770aef6\")>\n",
      "Link: <selenium.webdriver.remote.webelement.WebElement (session=\"c8e3efb257c8b8eb7cb1be1714dabdb0\", element=\"cd34fe95-636c-4a04-8268-a11b32414856\")>\n",
      "player_name: Joe Burrow\n",
      "Player card: <selenium.webdriver.remote.webelement.WebElement (session=\"c8e3efb257c8b8eb7cb1be1714dabdb0\", element=\"9a0232c7-8e6e-415f-bb29-d52c523be90b\")>\n",
      "Link: <selenium.webdriver.remote.webelement.WebElement (session=\"c8e3efb257c8b8eb7cb1be1714dabdb0\", element=\"8e2ce9d1-0975-4014-8921-6642150a23a4\")>\n",
      "player_name: Jalen Hurts\n",
      "Player card: <selenium.webdriver.remote.webelement.WebElement (session=\"c8e3efb257c8b8eb7cb1be1714dabdb0\", element=\"d93d9eaf-3627-485c-97d1-485889183a01\")>\n",
      "Link: <selenium.webdriver.remote.webelement.WebElement (session=\"c8e3efb257c8b8eb7cb1be1714dabdb0\", element=\"4ab75555-fc67-4052-8c7f-e12224fc858d\")>\n",
      "player_name: Ja'Marr Chase\n",
      "Player card: <selenium.webdriver.remote.webelement.WebElement (session=\"c8e3efb257c8b8eb7cb1be1714dabdb0\", element=\"cbceda28-4c40-44eb-a105-3390161c2b59\")>\n",
      "Link: <selenium.webdriver.remote.webelement.WebElement (session=\"c8e3efb257c8b8eb7cb1be1714dabdb0\", element=\"893f3147-0f86-476e-a6ab-1833d2c02803\")>\n",
      "player_name: Mark Andrews\n",
      "Player card: <selenium.webdriver.remote.webelement.WebElement (session=\"c8e3efb257c8b8eb7cb1be1714dabdb0\", element=\"5d11b81e-b5be-4935-8bf1-b05d49e8db12\")>\n",
      "Link: <selenium.webdriver.remote.webelement.WebElement (session=\"c8e3efb257c8b8eb7cb1be1714dabdb0\", element=\"9db205cd-2f91-4530-9247-39e9643434e1\")>\n",
      "player_name: Najee Harris\n",
      "Player card: <selenium.webdriver.remote.webelement.WebElement (session=\"c8e3efb257c8b8eb7cb1be1714dabdb0\", element=\"0527b06b-50f4-4411-8a55-c89f0ce0e986\")>\n",
      "Link: <selenium.webdriver.remote.webelement.WebElement (session=\"c8e3efb257c8b8eb7cb1be1714dabdb0\", element=\"7fd3b39c-198f-4d0e-84f9-958b1e420a5a\")>\n",
      "player_name: \n",
      "Player card: <selenium.webdriver.remote.webelement.WebElement (session=\"c8e3efb257c8b8eb7cb1be1714dabdb0\", element=\"4b801ff9-61d6-4005-a9d1-b859acf5f2da\")>\n",
      "Link: <selenium.webdriver.remote.webelement.WebElement (session=\"c8e3efb257c8b8eb7cb1be1714dabdb0\", element=\"aa512f9e-600a-4b70-94da-963059b726a2\")>\n",
      "player_name: Kyler Murray\n",
      "Player card: <selenium.webdriver.remote.webelement.WebElement (session=\"c8e3efb257c8b8eb7cb1be1714dabdb0\", element=\"a2369fe0-b350-46bd-93af-e75b3b2415fb\")>\n",
      "Link: <selenium.webdriver.remote.webelement.WebElement (session=\"c8e3efb257c8b8eb7cb1be1714dabdb0\", element=\"2f5f7590-f950-4f75-be5e-08063a524c67\")>\n",
      "player_name: Kirk Cousins\n",
      "Player card: <selenium.webdriver.remote.webelement.WebElement (session=\"c8e3efb257c8b8eb7cb1be1714dabdb0\", element=\"59abf03e-be00-42ac-936a-29ef551beacf\")>\n",
      "Link: <selenium.webdriver.remote.webelement.WebElement (session=\"c8e3efb257c8b8eb7cb1be1714dabdb0\", element=\"9d542307-2177-49aa-b144-df5ca37fbffd\")>\n",
      "player_name: Tyreek Hill\n",
      "Player card: <selenium.webdriver.remote.webelement.WebElement (session=\"c8e3efb257c8b8eb7cb1be1714dabdb0\", element=\"9d65f406-4761-4a1d-94d9-57f4818b075e\")>\n",
      "Link: <selenium.webdriver.remote.webelement.WebElement (session=\"c8e3efb257c8b8eb7cb1be1714dabdb0\", element=\"2bbc06de-a744-4524-8305-7f8e2d98a620\")>\n",
      "player_name: Joe Mixon\n",
      "Player card: <selenium.webdriver.remote.webelement.WebElement (session=\"c8e3efb257c8b8eb7cb1be1714dabdb0\", element=\"516fbb05-bb54-4213-9743-57692a7ccf3d\")>\n",
      "Link: <selenium.webdriver.remote.webelement.WebElement (session=\"c8e3efb257c8b8eb7cb1be1714dabdb0\", element=\"ec3b6212-4f70-4509-b57c-f1c3d5dc96b6\")>\n",
      "player_name: Stefon Diggs\n",
      "Player card: <selenium.webdriver.remote.webelement.WebElement (session=\"c8e3efb257c8b8eb7cb1be1714dabdb0\", element=\"a92c0772-1695-4228-a58e-31dc71deaa44\")>\n",
      "Link: <selenium.webdriver.remote.webelement.WebElement (session=\"c8e3efb257c8b8eb7cb1be1714dabdb0\", element=\"659254fa-1665-4104-87e7-a304e13278e7\")>\n",
      "player_name: Diontae Johnson\n",
      "Player card: <selenium.webdriver.remote.webelement.WebElement (session=\"c8e3efb257c8b8eb7cb1be1714dabdb0\", element=\"dc91692e-a4e5-4437-9408-84caf9915aeb\")>\n",
      "Link: <selenium.webdriver.remote.webelement.WebElement (session=\"c8e3efb257c8b8eb7cb1be1714dabdb0\", element=\"b17b6b1e-7e1a-4da6-966e-e24d243cec56\")>\n",
      "player_name: \n",
      "Player card: <selenium.webdriver.remote.webelement.WebElement (session=\"c8e3efb257c8b8eb7cb1be1714dabdb0\", element=\"a312ff7e-a477-49b1-a6f5-8b499822b4c2\")>\n",
      "Link: <selenium.webdriver.remote.webelement.WebElement (session=\"c8e3efb257c8b8eb7cb1be1714dabdb0\", element=\"aca0fd4e-b2a1-421b-b45f-14552ab75b75\")>\n",
      "player_name: Ryan Tannehill\n",
      "Player card: <selenium.webdriver.remote.webelement.WebElement (session=\"c8e3efb257c8b8eb7cb1be1714dabdb0\", element=\"e434ded6-4739-4cc8-822b-1b0fe746b86a\")>\n",
      "Link: <selenium.webdriver.remote.webelement.WebElement (session=\"c8e3efb257c8b8eb7cb1be1714dabdb0\", element=\"24f56673-dbe5-4ef3-b7a1-a50354662429\")>\n",
      "player_name: Travis Kelce\n",
      "Player card: <selenium.webdriver.remote.webelement.WebElement (session=\"c8e3efb257c8b8eb7cb1be1714dabdb0\", element=\"abd48d3e-f3b9-4f72-a4a2-07306b4f18bb\")>\n",
      "Link: <selenium.webdriver.remote.webelement.WebElement (session=\"c8e3efb257c8b8eb7cb1be1714dabdb0\", element=\"e1451ee5-a459-41c9-a52c-0fa6eb04cef5\")>\n",
      "player_name: Mike Evans\n",
      "Player card: <selenium.webdriver.remote.webelement.WebElement (session=\"c8e3efb257c8b8eb7cb1be1714dabdb0\", element=\"a40b3f52-9bb5-4929-b2aa-1cd08bdfd65e\")>\n",
      "Link: <selenium.webdriver.remote.webelement.WebElement (session=\"c8e3efb257c8b8eb7cb1be1714dabdb0\", element=\"2fabf2cf-c2aa-49ae-a489-823953c837bf\")>\n",
      "player_name: Hunter Renfrow\n",
      "Player card: <selenium.webdriver.remote.webelement.WebElement (session=\"c8e3efb257c8b8eb7cb1be1714dabdb0\", element=\"3cff0fb3-db9c-4319-a31e-713015afd753\")>\n",
      "Link: <selenium.webdriver.remote.webelement.WebElement (session=\"c8e3efb257c8b8eb7cb1be1714dabdb0\", element=\"a26ddd9b-7bd8-4df0-a46b-7f0314263b80\")>\n",
      "player_name: Carson Wentz\n",
      "Player card: <selenium.webdriver.remote.webelement.WebElement (session=\"c8e3efb257c8b8eb7cb1be1714dabdb0\", element=\"d59b3b62-a542-4fc8-b714-0fc80c5dad2a\")>\n",
      "Link: <selenium.webdriver.remote.webelement.WebElement (session=\"c8e3efb257c8b8eb7cb1be1714dabdb0\", element=\"be571eed-5166-41da-869a-69ec587b3ada\")>\n",
      "player_name: Keenan Allen\n",
      "Player card: <selenium.webdriver.remote.webelement.WebElement (session=\"c8e3efb257c8b8eb7cb1be1714dabdb0\", element=\"70c65cb9-e4db-40d7-8e46-7a24cc81e524\")>\n",
      "Link: <selenium.webdriver.remote.webelement.WebElement (session=\"c8e3efb257c8b8eb7cb1be1714dabdb0\", element=\"fbf8168d-4219-49b4-887c-81c4772497a7\")>\n",
      "player_name: James Conner\n",
      "Player card: <selenium.webdriver.remote.webelement.WebElement (session=\"c8e3efb257c8b8eb7cb1be1714dabdb0\", element=\"6decad07-0eaa-4749-83b3-5559f81c97e1\")>\n",
      "Link: <selenium.webdriver.remote.webelement.WebElement (session=\"c8e3efb257c8b8eb7cb1be1714dabdb0\", element=\"878bb074-5331-4fac-82b5-c1b8f1935995\")>\n",
      "player_name: Derek Carr\n",
      "Player card: <selenium.webdriver.remote.webelement.WebElement (session=\"c8e3efb257c8b8eb7cb1be1714dabdb0\", element=\"e7489c9c-961a-4c89-9cdc-69c4324762a6\")>\n",
      "Link: <selenium.webdriver.remote.webelement.WebElement (session=\"c8e3efb257c8b8eb7cb1be1714dabdb0\", element=\"f9447b38-5632-4110-b772-caa284db08ac\")>\n",
      "player_name: Leonard Fournette\n",
      "Player card: <selenium.webdriver.remote.webelement.WebElement (session=\"c8e3efb257c8b8eb7cb1be1714dabdb0\", element=\"02cd11c1-cf06-4b8c-a3e9-c90dfe2a94f9\")>\n",
      "Link: <selenium.webdriver.remote.webelement.WebElement (session=\"c8e3efb257c8b8eb7cb1be1714dabdb0\", element=\"4daaa013-3571-4928-a1b8-ec424a38157a\")>\n",
      "player_name: Ezekiel Elliott\n",
      "Player card: <selenium.webdriver.remote.webelement.WebElement (session=\"c8e3efb257c8b8eb7cb1be1714dabdb0\", element=\"32a4184e-f304-40cb-b40f-f992d1f6059a\")>\n",
      "Link: <selenium.webdriver.remote.webelement.WebElement (session=\"c8e3efb257c8b8eb7cb1be1714dabdb0\", element=\"d68ba30a-21db-4692-8275-3748c6b3c61a\")>\n",
      "player_name: Mike Williams\n",
      "Player card: <selenium.webdriver.remote.webelement.WebElement (session=\"c8e3efb257c8b8eb7cb1be1714dabdb0\", element=\"ad957b3a-faf3-46ab-bf40-15c5e415da70\")>\n",
      "Link: <selenium.webdriver.remote.webelement.WebElement (session=\"c8e3efb257c8b8eb7cb1be1714dabdb0\", element=\"3694939b-eea7-4b42-b146-88c240f96618\")>\n",
      "player_name: Jaylen Waddle\n",
      "Player card: <selenium.webdriver.remote.webelement.WebElement (session=\"c8e3efb257c8b8eb7cb1be1714dabdb0\", element=\"bb4942c3-23d0-4901-ae6e-e2e754295ff7\")>\n",
      "Link: <selenium.webdriver.remote.webelement.WebElement (session=\"c8e3efb257c8b8eb7cb1be1714dabdb0\", element=\"ad2099e8-a7c3-4143-a6e0-437654dd832b\")>\n",
      "player_name: DK Metcalf\n",
      "Player card: <selenium.webdriver.remote.webelement.WebElement (session=\"c8e3efb257c8b8eb7cb1be1714dabdb0\", element=\"5e69c6ba-0673-4155-b125-d3f00a9d1c4a\")>\n",
      "Link: <selenium.webdriver.remote.webelement.WebElement (session=\"c8e3efb257c8b8eb7cb1be1714dabdb0\", element=\"04ff433a-bccc-45da-95d5-a7de177d8996\")>\n",
      "player_name: Russell Wilson\n",
      "Player card: <selenium.webdriver.remote.webelement.WebElement (session=\"c8e3efb257c8b8eb7cb1be1714dabdb0\", element=\"24f82eef-0f69-41a1-a1e5-52c2fae8f624\")>\n",
      "Link: <selenium.webdriver.remote.webelement.WebElement (session=\"c8e3efb257c8b8eb7cb1be1714dabdb0\", element=\"a2cbfeba-9c43-47ec-b4fb-df6d179278a3\")>\n",
      "player_name: Chris Godwin\n",
      "Player card: <selenium.webdriver.remote.webelement.WebElement (session=\"c8e3efb257c8b8eb7cb1be1714dabdb0\", element=\"3858ae61-9b94-4aca-98e3-05e0ce46f01f\")>\n",
      "Link: <selenium.webdriver.remote.webelement.WebElement (session=\"c8e3efb257c8b8eb7cb1be1714dabdb0\", element=\"6445911b-ce55-4152-b5ae-7f45196c9af8\")>\n",
      "player_name: Tyler Lockett\n",
      "Player card: <selenium.webdriver.remote.webelement.WebElement (session=\"c8e3efb257c8b8eb7cb1be1714dabdb0\", element=\"b4c28667-b439-4908-bd5a-49a4da09b2ce\")>\n",
      "Link: <selenium.webdriver.remote.webelement.WebElement (session=\"c8e3efb257c8b8eb7cb1be1714dabdb0\", element=\"ae2e1cb3-2639-46cb-8a78-15e720488f5e\")>\n",
      "player_name: Lamar Jackson\n",
      "Player card: <selenium.webdriver.remote.webelement.WebElement (session=\"c8e3efb257c8b8eb7cb1be1714dabdb0\", element=\"4a38d535-70b3-4cf8-a1ad-62971875adc3\")>\n",
      "Link: <selenium.webdriver.remote.webelement.WebElement (session=\"c8e3efb257c8b8eb7cb1be1714dabdb0\", element=\"865fc799-a7ec-44e6-8253-19fb94dc1342\")>\n",
      "player_name: Michael Pittman Jr.\n",
      "Player card: <selenium.webdriver.remote.webelement.WebElement (session=\"c8e3efb257c8b8eb7cb1be1714dabdb0\", element=\"960f4235-12c8-4910-8b64-b4104aa3e4aa\")>\n",
      "Link: <selenium.webdriver.remote.webelement.WebElement (session=\"c8e3efb257c8b8eb7cb1be1714dabdb0\", element=\"d87cb01f-162f-44ac-8cc9-6523e8348328\")>\n",
      "player_name: DJ Moore\n",
      "Player card: <selenium.webdriver.remote.webelement.WebElement (session=\"c8e3efb257c8b8eb7cb1be1714dabdb0\", element=\"83eb107c-b288-4207-9073-3f4bbec7f4ad\")>\n",
      "Link: <selenium.webdriver.remote.webelement.WebElement (session=\"c8e3efb257c8b8eb7cb1be1714dabdb0\", element=\"d5cd21aa-a87d-4235-bc4e-6bfefad3745f\")>\n",
      "player_name: Alvin Kamara\n",
      "Player card: <selenium.webdriver.remote.webelement.WebElement (session=\"c8e3efb257c8b8eb7cb1be1714dabdb0\", element=\"bd07b33d-2854-4404-b825-f596b0bbe21b\")>\n",
      "Link: <selenium.webdriver.remote.webelement.WebElement (session=\"c8e3efb257c8b8eb7cb1be1714dabdb0\", element=\"aaa7ffff-f428-4514-8005-a9a695252ad2\")>\n",
      "player_name: Cordarrelle Patterson\n",
      "Player card: <selenium.webdriver.remote.webelement.WebElement (session=\"c8e3efb257c8b8eb7cb1be1714dabdb0\", element=\"37aba591-7fce-45d7-b989-4726ed8db4f0\")>\n",
      "Link: <selenium.webdriver.remote.webelement.WebElement (session=\"c8e3efb257c8b8eb7cb1be1714dabdb0\", element=\"271889ad-b789-43cf-9a2d-cc92aeba849a\")>\n",
      "player_name: CeeDee Lamb\n",
      "Player card: <selenium.webdriver.remote.webelement.WebElement (session=\"c8e3efb257c8b8eb7cb1be1714dabdb0\", element=\"9ea8b68d-a6ec-43ba-a505-392189e9e1a2\")>\n",
      "Link: <selenium.webdriver.remote.webelement.WebElement (session=\"c8e3efb257c8b8eb7cb1be1714dabdb0\", element=\"6307f5d4-637b-4560-b0db-b8c6a04d1465\")>\n",
      "player_name: Brandin Cooks\n",
      "Player card: <selenium.webdriver.remote.webelement.WebElement (session=\"c8e3efb257c8b8eb7cb1be1714dabdb0\", element=\"64d867d6-a790-4443-9fd4-2378dc54ff2e\")>\n",
      "Link: <selenium.webdriver.remote.webelement.WebElement (session=\"c8e3efb257c8b8eb7cb1be1714dabdb0\", element=\"85b5a5ef-db38-4662-8827-26d00b8af396\")>\n",
      "player_name: Antonio Gibson\n",
      "Player card: <selenium.webdriver.remote.webelement.WebElement (session=\"c8e3efb257c8b8eb7cb1be1714dabdb0\", element=\"de654952-a434-4494-8b9f-719aafd309d1\")>\n",
      "Link: <selenium.webdriver.remote.webelement.WebElement (session=\"c8e3efb257c8b8eb7cb1be1714dabdb0\", element=\"4763e9ce-c1b6-4ce4-85d1-bdf1b5ca5977\")>\n",
      "player_name: Aaron Jones\n",
      "Player card: <selenium.webdriver.remote.webelement.WebElement (session=\"c8e3efb257c8b8eb7cb1be1714dabdb0\", element=\"7476e0d2-9189-4346-826a-16d8594738e0\")>\n",
      "Link: <selenium.webdriver.remote.webelement.WebElement (session=\"c8e3efb257c8b8eb7cb1be1714dabdb0\", element=\"a3ea1c79-368b-4803-9d7a-5188c4659648\")>\n",
      "player_name: Jimmy Garoppolo\n",
      "Player card: <selenium.webdriver.remote.webelement.WebElement (session=\"c8e3efb257c8b8eb7cb1be1714dabdb0\", element=\"3bff8ea6-38ac-4808-ae73-79d58cd6ba45\")>\n",
      "\n"
     ]
    },
    {
     "name": "stderr",
     "output_type": "stream",
     "text": [
      "[WDM] - ====== WebDriver manager ======\n",
      "[WDM] - Current google-chrome version is 103.0.5060\n",
      "[WDM] - Get LATEST chromedriver version for 103.0.5060 google-chrome\n",
      "[WDM] - Driver [C:\\Users\\voyno\\.wdm\\drivers\\chromedriver\\win32\\103.0.5060.53\\chromedriver.exe] found in cache\n"
     ]
    },
    {
     "name": "stdout",
     "output_type": "stream",
     "text": [
      "Found the following data tables:\n",
      "0 <selenium.webdriver.remote.webelement.WebElement (session=\"1fc6712f696562bf6118ac0d07075289\", element=\"37449b77-e1df-418e-a226-3266165616e1\")>\n",
      "1 <selenium.webdriver.remote.webelement.WebElement (session=\"1fc6712f696562bf6118ac0d07075289\", element=\"cc7ac04a-2146-4e57-b1df-c511cef0e110\")>\n",
      "2 <selenium.webdriver.remote.webelement.WebElement (session=\"1fc6712f696562bf6118ac0d07075289\", element=\"9bd0dae5-1332-41dd-980f-686cecb699fd\")>\n",
      "\n"
     ]
    },
    {
     "name": "stderr",
     "output_type": "stream",
     "text": [
      "[WDM] - ====== WebDriver manager ======\n",
      "[WDM] - Current google-chrome version is 103.0.5060\n",
      "[WDM] - Get LATEST chromedriver version for 103.0.5060 google-chrome\n",
      "[WDM] - Driver [C:\\Users\\voyno\\.wdm\\drivers\\chromedriver\\win32\\103.0.5060.53\\chromedriver.exe] found in cache\n"
     ]
    },
    {
     "name": "stdout",
     "output_type": "stream",
     "text": [
      "Found the following data tables:\n",
      "0 <selenium.webdriver.remote.webelement.WebElement (session=\"1927cef92bf8bec24b9ca16f6de03bc6\", element=\"60a8c8a3-d6a8-45b9-8b2c-59a5f2e39239\")>\n",
      "1 <selenium.webdriver.remote.webelement.WebElement (session=\"1927cef92bf8bec24b9ca16f6de03bc6\", element=\"06480049-1a89-4e79-8565-959cd4f670ea\")>\n",
      "2 <selenium.webdriver.remote.webelement.WebElement (session=\"1927cef92bf8bec24b9ca16f6de03bc6\", element=\"df988f2e-4859-4009-afbd-fdab82601195\")>\n",
      "\n"
     ]
    },
    {
     "name": "stderr",
     "output_type": "stream",
     "text": [
      "[WDM] - ====== WebDriver manager ======\n",
      "[WDM] - Current google-chrome version is 103.0.5060\n",
      "[WDM] - Get LATEST chromedriver version for 103.0.5060 google-chrome\n",
      "[WDM] - Driver [C:\\Users\\voyno\\.wdm\\drivers\\chromedriver\\win32\\103.0.5060.53\\chromedriver.exe] found in cache\n"
     ]
    },
    {
     "name": "stdout",
     "output_type": "stream",
     "text": [
      "Found the following data tables:\n",
      "0 <selenium.webdriver.remote.webelement.WebElement (session=\"944b5492a5c0c131d6fb00d1819b95e7\", element=\"490c6e51-2cf8-4b56-b51a-168d5ed6e2ec\")>\n",
      "1 <selenium.webdriver.remote.webelement.WebElement (session=\"944b5492a5c0c131d6fb00d1819b95e7\", element=\"35e36da1-3bd0-41d2-8e2e-1ff3361cdfae\")>\n",
      "2 <selenium.webdriver.remote.webelement.WebElement (session=\"944b5492a5c0c131d6fb00d1819b95e7\", element=\"5edcdaa6-c9ff-45d8-ab71-e10680817115\")>\n",
      "\n"
     ]
    },
    {
     "name": "stderr",
     "output_type": "stream",
     "text": [
      "[WDM] - ====== WebDriver manager ======\n",
      "[WDM] - Current google-chrome version is 103.0.5060\n",
      "[WDM] - Get LATEST chromedriver version for 103.0.5060 google-chrome\n",
      "[WDM] - Driver [C:\\Users\\voyno\\.wdm\\drivers\\chromedriver\\win32\\103.0.5060.53\\chromedriver.exe] found in cache\n"
     ]
    },
    {
     "name": "stdout",
     "output_type": "stream",
     "text": [
      "Found the following data tables:\n",
      "0 <selenium.webdriver.remote.webelement.WebElement (session=\"6d1461f396542c0d7b448be332a1b01c\", element=\"fc30d751-70c7-4772-9430-c9b21f6a3eab\")>\n",
      "1 <selenium.webdriver.remote.webelement.WebElement (session=\"6d1461f396542c0d7b448be332a1b01c\", element=\"6ffb5943-6712-480c-b88f-f068fca2bd36\")>\n",
      "2 <selenium.webdriver.remote.webelement.WebElement (session=\"6d1461f396542c0d7b448be332a1b01c\", element=\"06dd7c3c-6228-4d61-904a-84032dfcbbfe\")>\n",
      "\n"
     ]
    },
    {
     "name": "stderr",
     "output_type": "stream",
     "text": [
      "[WDM] - ====== WebDriver manager ======\n",
      "[WDM] - Current google-chrome version is 103.0.5060\n",
      "[WDM] - Get LATEST chromedriver version for 103.0.5060 google-chrome\n",
      "[WDM] - Driver [C:\\Users\\voyno\\.wdm\\drivers\\chromedriver\\win32\\103.0.5060.53\\chromedriver.exe] found in cache\n"
     ]
    },
    {
     "name": "stdout",
     "output_type": "stream",
     "text": [
      "Found the following data tables:\n",
      "0 <selenium.webdriver.remote.webelement.WebElement (session=\"68824548e715ae846ffc7fa1f799e18e\", element=\"ee8742f7-f1c7-48b1-9d0c-ad9d5ba4a22e\")>\n",
      "1 <selenium.webdriver.remote.webelement.WebElement (session=\"68824548e715ae846ffc7fa1f799e18e\", element=\"12985d76-6355-4c73-b550-87acabb6c331\")>\n",
      "2 <selenium.webdriver.remote.webelement.WebElement (session=\"68824548e715ae846ffc7fa1f799e18e\", element=\"cc765c87-e1ad-4950-bec1-dda8e03ef13b\")>\n",
      "\n"
     ]
    },
    {
     "name": "stderr",
     "output_type": "stream",
     "text": [
      "[WDM] - ====== WebDriver manager ======\n",
      "[WDM] - Current google-chrome version is 103.0.5060\n",
      "[WDM] - Get LATEST chromedriver version for 103.0.5060 google-chrome\n",
      "[WDM] - Driver [C:\\Users\\voyno\\.wdm\\drivers\\chromedriver\\win32\\103.0.5060.53\\chromedriver.exe] found in cache\n"
     ]
    },
    {
     "name": "stdout",
     "output_type": "stream",
     "text": [
      "Found the following data tables:\n",
      "0 <selenium.webdriver.remote.webelement.WebElement (session=\"e18efae92ae34a97fa4ec0de593256ea\", element=\"2a10d7ac-3907-4091-af72-f9dcd9701951\")>\n",
      "1 <selenium.webdriver.remote.webelement.WebElement (session=\"e18efae92ae34a97fa4ec0de593256ea\", element=\"c4e8373a-808d-47d5-84e4-b395c8efa979\")>\n",
      "2 <selenium.webdriver.remote.webelement.WebElement (session=\"e18efae92ae34a97fa4ec0de593256ea\", element=\"9b117d0e-9d2c-4a64-940b-385edf16ee95\")>\n",
      "\n"
     ]
    },
    {
     "name": "stderr",
     "output_type": "stream",
     "text": [
      "[WDM] - ====== WebDriver manager ======\n",
      "[WDM] - Current google-chrome version is 103.0.5060\n",
      "[WDM] - Get LATEST chromedriver version for 103.0.5060 google-chrome\n",
      "[WDM] - Driver [C:\\Users\\voyno\\.wdm\\drivers\\chromedriver\\win32\\103.0.5060.53\\chromedriver.exe] found in cache\n"
     ]
    },
    {
     "name": "stdout",
     "output_type": "stream",
     "text": [
      "Found the following data tables:\n",
      "0 <selenium.webdriver.remote.webelement.WebElement (session=\"b6df59d766d17cb950bd8f6153684db4\", element=\"cc4220d7-f818-4961-a431-b6523db7d10b\")>\n",
      "1 <selenium.webdriver.remote.webelement.WebElement (session=\"b6df59d766d17cb950bd8f6153684db4\", element=\"2654427d-313b-476c-8bb9-001d67faddd5\")>\n",
      "2 <selenium.webdriver.remote.webelement.WebElement (session=\"b6df59d766d17cb950bd8f6153684db4\", element=\"8140b397-24ba-4796-b616-ab41d54081b5\")>\n",
      "\n"
     ]
    },
    {
     "name": "stderr",
     "output_type": "stream",
     "text": [
      "[WDM] - ====== WebDriver manager ======\n",
      "[WDM] - Current google-chrome version is 103.0.5060\n",
      "[WDM] - Get LATEST chromedriver version for 103.0.5060 google-chrome\n",
      "[WDM] - Driver [C:\\Users\\voyno\\.wdm\\drivers\\chromedriver\\win32\\103.0.5060.53\\chromedriver.exe] found in cache\n"
     ]
    },
    {
     "name": "stdout",
     "output_type": "stream",
     "text": [
      "Found the following data tables:\n",
      "0 <selenium.webdriver.remote.webelement.WebElement (session=\"b94fd62b625e1dcd3f903c87af0e3caa\", element=\"aff40521-e1b0-43df-aa7c-c56e87c5cd67\")>\n",
      "1 <selenium.webdriver.remote.webelement.WebElement (session=\"b94fd62b625e1dcd3f903c87af0e3caa\", element=\"03ee178e-c032-48d9-8962-0b0207cfdab7\")>\n",
      "\n"
     ]
    },
    {
     "name": "stderr",
     "output_type": "stream",
     "text": [
      "[WDM] - ====== WebDriver manager ======\n",
      "[WDM] - Current google-chrome version is 103.0.5060\n",
      "[WDM] - Get LATEST chromedriver version for 103.0.5060 google-chrome\n",
      "[WDM] - Driver [C:\\Users\\voyno\\.wdm\\drivers\\chromedriver\\win32\\103.0.5060.53\\chromedriver.exe] found in cache\n"
     ]
    },
    {
     "name": "stdout",
     "output_type": "stream",
     "text": [
      "Found the following data tables:\n",
      "0 <selenium.webdriver.remote.webelement.WebElement (session=\"b6a3c7981ec7356a6067378764c4793b\", element=\"a53f089b-3ac4-4ffa-8cd6-7a8555ea1061\")>\n",
      "1 <selenium.webdriver.remote.webelement.WebElement (session=\"b6a3c7981ec7356a6067378764c4793b\", element=\"e42185ba-f05a-4384-b84f-3b2daf8dac5e\")>\n",
      "2 <selenium.webdriver.remote.webelement.WebElement (session=\"b6a3c7981ec7356a6067378764c4793b\", element=\"c350c55c-2921-4be0-896a-365dcf39170f\")>\n",
      "\n"
     ]
    },
    {
     "name": "stderr",
     "output_type": "stream",
     "text": [
      "[WDM] - ====== WebDriver manager ======\n",
      "[WDM] - Current google-chrome version is 103.0.5060\n",
      "[WDM] - Get LATEST chromedriver version for 103.0.5060 google-chrome\n",
      "[WDM] - Driver [C:\\Users\\voyno\\.wdm\\drivers\\chromedriver\\win32\\103.0.5060.53\\chromedriver.exe] found in cache\n"
     ]
    },
    {
     "name": "stdout",
     "output_type": "stream",
     "text": [
      "Found the following data tables:\n",
      "0 <selenium.webdriver.remote.webelement.WebElement (session=\"cb616aa382caa6524c84c05fef801551\", element=\"1217a9f9-31e8-4539-8ba0-255990f0ad08\")>\n",
      "1 <selenium.webdriver.remote.webelement.WebElement (session=\"cb616aa382caa6524c84c05fef801551\", element=\"03433fd8-8d60-4f25-9cb4-4acb37e2f92d\")>\n",
      "2 <selenium.webdriver.remote.webelement.WebElement (session=\"cb616aa382caa6524c84c05fef801551\", element=\"1a9bbc5e-61c7-4f6d-9117-e14b0e6e4e75\")>\n",
      "\n"
     ]
    },
    {
     "name": "stderr",
     "output_type": "stream",
     "text": [
      "[WDM] - ====== WebDriver manager ======\n",
      "[WDM] - Current google-chrome version is 103.0.5060\n",
      "[WDM] - Get LATEST chromedriver version for 103.0.5060 google-chrome\n",
      "[WDM] - Driver [C:\\Users\\voyno\\.wdm\\drivers\\chromedriver\\win32\\103.0.5060.53\\chromedriver.exe] found in cache\n"
     ]
    },
    {
     "name": "stdout",
     "output_type": "stream",
     "text": [
      "Found the following data tables:\n",
      "0 <selenium.webdriver.remote.webelement.WebElement (session=\"0921184e7b5e91841037b8fbdadb7c64\", element=\"221c6805-0e07-4d11-91a1-3355c0ea78df\")>\n",
      "1 <selenium.webdriver.remote.webelement.WebElement (session=\"0921184e7b5e91841037b8fbdadb7c64\", element=\"dea9f2cf-514f-4f36-89bd-150ae9dfad04\")>\n",
      "2 <selenium.webdriver.remote.webelement.WebElement (session=\"0921184e7b5e91841037b8fbdadb7c64\", element=\"c0ad5641-aad4-44a8-9bec-cf5b4ded249f\")>\n",
      "\n"
     ]
    },
    {
     "name": "stderr",
     "output_type": "stream",
     "text": [
      "[WDM] - ====== WebDriver manager ======\n",
      "[WDM] - Current google-chrome version is 103.0.5060\n",
      "[WDM] - Get LATEST chromedriver version for 103.0.5060 google-chrome\n",
      "[WDM] - Driver [C:\\Users\\voyno\\.wdm\\drivers\\chromedriver\\win32\\103.0.5060.53\\chromedriver.exe] found in cache\n"
     ]
    },
    {
     "name": "stdout",
     "output_type": "stream",
     "text": [
      "Found the following data tables:\n",
      "0 <selenium.webdriver.remote.webelement.WebElement (session=\"ef903ff70b33f3a3c5a442b598f587f0\", element=\"35a25777-f8a3-4a31-a17f-5fc638632ebb\")>\n",
      "1 <selenium.webdriver.remote.webelement.WebElement (session=\"ef903ff70b33f3a3c5a442b598f587f0\", element=\"a7ab285f-e171-4175-8f05-cce367695722\")>\n",
      "2 <selenium.webdriver.remote.webelement.WebElement (session=\"ef903ff70b33f3a3c5a442b598f587f0\", element=\"ab1b5d01-ee3a-4439-aee5-2cc4fca92f16\")>\n",
      "\n"
     ]
    },
    {
     "name": "stderr",
     "output_type": "stream",
     "text": [
      "[WDM] - ====== WebDriver manager ======\n",
      "[WDM] - Current google-chrome version is 103.0.5060\n",
      "[WDM] - Get LATEST chromedriver version for 103.0.5060 google-chrome\n",
      "[WDM] - Driver [C:\\Users\\voyno\\.wdm\\drivers\\chromedriver\\win32\\103.0.5060.53\\chromedriver.exe] found in cache\n"
     ]
    },
    {
     "name": "stdout",
     "output_type": "stream",
     "text": [
      "Found the following data tables:\n",
      "0 <selenium.webdriver.remote.webelement.WebElement (session=\"03f52a12ce1e47fa028abcbc1a3a328b\", element=\"86803cbe-a4b0-4ab5-92c2-3a16c61c7973\")>\n",
      "1 <selenium.webdriver.remote.webelement.WebElement (session=\"03f52a12ce1e47fa028abcbc1a3a328b\", element=\"39151e24-69b6-4f13-a4cd-fba0123cf87d\")>\n",
      "2 <selenium.webdriver.remote.webelement.WebElement (session=\"03f52a12ce1e47fa028abcbc1a3a328b\", element=\"7d48e61b-c0c4-43b5-9f3b-35cd4055195f\")>\n",
      "\n"
     ]
    },
    {
     "name": "stderr",
     "output_type": "stream",
     "text": [
      "[WDM] - ====== WebDriver manager ======\n",
      "[WDM] - Current google-chrome version is 103.0.5060\n",
      "[WDM] - Get LATEST chromedriver version for 103.0.5060 google-chrome\n",
      "[WDM] - Driver [C:\\Users\\voyno\\.wdm\\drivers\\chromedriver\\win32\\103.0.5060.53\\chromedriver.exe] found in cache\n"
     ]
    },
    {
     "name": "stdout",
     "output_type": "stream",
     "text": [
      "Found the following data tables:\n",
      "0 <selenium.webdriver.remote.webelement.WebElement (session=\"6a39464d18b99dd3708ee08beb02fcbe\", element=\"30009bd0-033c-4e69-8fb1-eaf067eb1df9\")>\n",
      "1 <selenium.webdriver.remote.webelement.WebElement (session=\"6a39464d18b99dd3708ee08beb02fcbe\", element=\"1fc4c39e-e98b-4968-917f-efaf2acb1e4b\")>\n",
      "2 <selenium.webdriver.remote.webelement.WebElement (session=\"6a39464d18b99dd3708ee08beb02fcbe\", element=\"8a985427-1080-4afc-9a66-01ffa583cd53\")>\n",
      "\n"
     ]
    },
    {
     "name": "stderr",
     "output_type": "stream",
     "text": [
      "[WDM] - ====== WebDriver manager ======\n",
      "[WDM] - Current google-chrome version is 103.0.5060\n",
      "[WDM] - Get LATEST chromedriver version for 103.0.5060 google-chrome\n",
      "[WDM] - Driver [C:\\Users\\voyno\\.wdm\\drivers\\chromedriver\\win32\\103.0.5060.53\\chromedriver.exe] found in cache\n"
     ]
    },
    {
     "name": "stdout",
     "output_type": "stream",
     "text": [
      "Found the following data tables:\n",
      "0 <selenium.webdriver.remote.webelement.WebElement (session=\"eb4a00d9bdb8394982efa272eba7f71a\", element=\"b02e3cd5-847d-47d5-8fec-6cda36fb19dd\")>\n",
      "1 <selenium.webdriver.remote.webelement.WebElement (session=\"eb4a00d9bdb8394982efa272eba7f71a\", element=\"e4cd7d47-174c-46c7-b8b8-457b01990d16\")>\n",
      "2 <selenium.webdriver.remote.webelement.WebElement (session=\"eb4a00d9bdb8394982efa272eba7f71a\", element=\"6ef254c8-c935-4dde-a765-e05962a0e6ff\")>\n",
      "\n"
     ]
    },
    {
     "name": "stderr",
     "output_type": "stream",
     "text": [
      "[WDM] - ====== WebDriver manager ======\n",
      "[WDM] - Current google-chrome version is 103.0.5060\n",
      "[WDM] - Get LATEST chromedriver version for 103.0.5060 google-chrome\n",
      "[WDM] - Driver [C:\\Users\\voyno\\.wdm\\drivers\\chromedriver\\win32\\103.0.5060.53\\chromedriver.exe] found in cache\n"
     ]
    },
    {
     "name": "stdout",
     "output_type": "stream",
     "text": [
      "Found the following data tables:\n",
      "0 <selenium.webdriver.remote.webelement.WebElement (session=\"9168e595f2a08ee562694bfa095f0ded\", element=\"0376cda8-84e2-4bbe-8139-4245513c557d\")>\n",
      "1 <selenium.webdriver.remote.webelement.WebElement (session=\"9168e595f2a08ee562694bfa095f0ded\", element=\"68189f32-f103-435c-8ee4-d6adac38fa28\")>\n",
      "2 <selenium.webdriver.remote.webelement.WebElement (session=\"9168e595f2a08ee562694bfa095f0ded\", element=\"f76943e2-7e15-47be-8562-5aa5bd21b7b7\")>\n",
      "\n"
     ]
    },
    {
     "name": "stderr",
     "output_type": "stream",
     "text": [
      "[WDM] - ====== WebDriver manager ======\n",
      "[WDM] - Current google-chrome version is 103.0.5060\n",
      "[WDM] - Get LATEST chromedriver version for 103.0.5060 google-chrome\n",
      "[WDM] - Driver [C:\\Users\\voyno\\.wdm\\drivers\\chromedriver\\win32\\103.0.5060.53\\chromedriver.exe] found in cache\n"
     ]
    },
    {
     "name": "stdout",
     "output_type": "stream",
     "text": [
      "Found the following data tables:\n",
      "0 <selenium.webdriver.remote.webelement.WebElement (session=\"0c36166c06dac2fc43389c925a947c11\", element=\"fe9bed70-8d8c-4177-b26a-4cdebd3ca2be\")>\n",
      "1 <selenium.webdriver.remote.webelement.WebElement (session=\"0c36166c06dac2fc43389c925a947c11\", element=\"806011a9-6c60-475c-984f-c975b66d756d\")>\n",
      "2 <selenium.webdriver.remote.webelement.WebElement (session=\"0c36166c06dac2fc43389c925a947c11\", element=\"cffbf7f8-0f1f-407d-b6d1-3bdc247ee33b\")>\n",
      "\n"
     ]
    },
    {
     "name": "stderr",
     "output_type": "stream",
     "text": [
      "[WDM] - ====== WebDriver manager ======\n",
      "[WDM] - Current google-chrome version is 103.0.5060\n",
      "[WDM] - Get LATEST chromedriver version for 103.0.5060 google-chrome\n",
      "[WDM] - Driver [C:\\Users\\voyno\\.wdm\\drivers\\chromedriver\\win32\\103.0.5060.53\\chromedriver.exe] found in cache\n"
     ]
    },
    {
     "name": "stdout",
     "output_type": "stream",
     "text": [
      "Found the following data tables:\n",
      "0 <selenium.webdriver.remote.webelement.WebElement (session=\"d41e96bdb621c2d749335f9639b82a20\", element=\"7902d801-2003-41aa-8683-626d8f806d99\")>\n",
      "1 <selenium.webdriver.remote.webelement.WebElement (session=\"d41e96bdb621c2d749335f9639b82a20\", element=\"51135c9f-5906-4a19-963e-b1931d499f3b\")>\n",
      "2 <selenium.webdriver.remote.webelement.WebElement (session=\"d41e96bdb621c2d749335f9639b82a20\", element=\"81493485-a85c-4e71-8122-e00a560b9980\")>\n",
      "\n"
     ]
    },
    {
     "name": "stderr",
     "output_type": "stream",
     "text": [
      "[WDM] - ====== WebDriver manager ======\n",
      "[WDM] - Current google-chrome version is 103.0.5060\n",
      "[WDM] - Get LATEST chromedriver version for 103.0.5060 google-chrome\n",
      "[WDM] - Driver [C:\\Users\\voyno\\.wdm\\drivers\\chromedriver\\win32\\103.0.5060.53\\chromedriver.exe] found in cache\n"
     ]
    },
    {
     "name": "stdout",
     "output_type": "stream",
     "text": [
      "Found the following data tables:\n",
      "0 <selenium.webdriver.remote.webelement.WebElement (session=\"0585ca3678481fc4602e16ac486bad82\", element=\"de52914f-65be-48fa-999c-a248f795e313\")>\n",
      "1 <selenium.webdriver.remote.webelement.WebElement (session=\"0585ca3678481fc4602e16ac486bad82\", element=\"eee2d213-8406-4e34-a9e3-a1e50eb5b680\")>\n",
      "2 <selenium.webdriver.remote.webelement.WebElement (session=\"0585ca3678481fc4602e16ac486bad82\", element=\"defb797f-819f-4f4e-9423-9de4f89901ac\")>\n",
      "\n"
     ]
    },
    {
     "name": "stderr",
     "output_type": "stream",
     "text": [
      "[WDM] - ====== WebDriver manager ======\n",
      "[WDM] - Current google-chrome version is 103.0.5060\n",
      "[WDM] - Get LATEST chromedriver version for 103.0.5060 google-chrome\n",
      "[WDM] - Driver [C:\\Users\\voyno\\.wdm\\drivers\\chromedriver\\win32\\103.0.5060.53\\chromedriver.exe] found in cache\n"
     ]
    },
    {
     "name": "stdout",
     "output_type": "stream",
     "text": [
      "Found the following data tables:\n",
      "0 <selenium.webdriver.remote.webelement.WebElement (session=\"ac4cfcc7c8247e1e6b6d8208017afd61\", element=\"34b3c659-5e82-48ca-b0cf-c82bc90e2331\")>\n",
      "1 <selenium.webdriver.remote.webelement.WebElement (session=\"ac4cfcc7c8247e1e6b6d8208017afd61\", element=\"ef4425e7-10b3-41a9-999b-bc0686b0d95c\")>\n",
      "2 <selenium.webdriver.remote.webelement.WebElement (session=\"ac4cfcc7c8247e1e6b6d8208017afd61\", element=\"25d8bd91-8899-427b-bb36-2017853a66e8\")>\n",
      "\n"
     ]
    },
    {
     "name": "stderr",
     "output_type": "stream",
     "text": [
      "[WDM] - ====== WebDriver manager ======\n",
      "[WDM] - Current google-chrome version is 103.0.5060\n",
      "[WDM] - Get LATEST chromedriver version for 103.0.5060 google-chrome\n",
      "[WDM] - Driver [C:\\Users\\voyno\\.wdm\\drivers\\chromedriver\\win32\\103.0.5060.53\\chromedriver.exe] found in cache\n"
     ]
    },
    {
     "name": "stdout",
     "output_type": "stream",
     "text": [
      "Found the following data tables:\n",
      "0 <selenium.webdriver.remote.webelement.WebElement (session=\"ac2a418ac55250d8533a6b029e4a1ced\", element=\"36c37b52-b600-4ea9-bcc5-4e7eac911459\")>\n",
      "1 <selenium.webdriver.remote.webelement.WebElement (session=\"ac2a418ac55250d8533a6b029e4a1ced\", element=\"2abfde4b-7132-42cf-b3b5-8579de4d9237\")>\n",
      "2 <selenium.webdriver.remote.webelement.WebElement (session=\"ac2a418ac55250d8533a6b029e4a1ced\", element=\"ec26ed66-2ba3-4a4f-a1d4-5ebb40aeec56\")>\n",
      "\n"
     ]
    },
    {
     "name": "stderr",
     "output_type": "stream",
     "text": [
      "[WDM] - ====== WebDriver manager ======\n",
      "[WDM] - Current google-chrome version is 103.0.5060\n",
      "[WDM] - Get LATEST chromedriver version for 103.0.5060 google-chrome\n",
      "[WDM] - Driver [C:\\Users\\voyno\\.wdm\\drivers\\chromedriver\\win32\\103.0.5060.53\\chromedriver.exe] found in cache\n"
     ]
    },
    {
     "name": "stdout",
     "output_type": "stream",
     "text": [
      "Found the following data tables:\n",
      "0 <selenium.webdriver.remote.webelement.WebElement (session=\"8dc7d0dd7bb1b7616b55270d634bf29f\", element=\"8479973d-63c3-4f95-91a2-83bb48440bd8\")>\n",
      "1 <selenium.webdriver.remote.webelement.WebElement (session=\"8dc7d0dd7bb1b7616b55270d634bf29f\", element=\"170d5359-809b-4bf0-a1f0-1d4b1929fcbe\")>\n",
      "2 <selenium.webdriver.remote.webelement.WebElement (session=\"8dc7d0dd7bb1b7616b55270d634bf29f\", element=\"ed552b84-3deb-45ed-aeff-d45dd9b4a3a2\")>\n",
      "\n"
     ]
    },
    {
     "name": "stderr",
     "output_type": "stream",
     "text": [
      "[WDM] - ====== WebDriver manager ======\n",
      "[WDM] - Current google-chrome version is 103.0.5060\n",
      "[WDM] - Get LATEST chromedriver version for 103.0.5060 google-chrome\n",
      "[WDM] - Driver [C:\\Users\\voyno\\.wdm\\drivers\\chromedriver\\win32\\103.0.5060.53\\chromedriver.exe] found in cache\n"
     ]
    },
    {
     "name": "stdout",
     "output_type": "stream",
     "text": [
      "Found the following data tables:\n",
      "0 <selenium.webdriver.remote.webelement.WebElement (session=\"2ef93e3ad460e00cfd15e780ce15f720\", element=\"395f7bc9-5feb-4f30-9d72-0eb753884f5c\")>\n",
      "1 <selenium.webdriver.remote.webelement.WebElement (session=\"2ef93e3ad460e00cfd15e780ce15f720\", element=\"fb5573fd-e810-46ba-899d-f0cd7af032bf\")>\n",
      "2 <selenium.webdriver.remote.webelement.WebElement (session=\"2ef93e3ad460e00cfd15e780ce15f720\", element=\"3a22e913-a354-4376-bc27-3d53c03d9320\")>\n",
      "\n"
     ]
    },
    {
     "name": "stderr",
     "output_type": "stream",
     "text": [
      "[WDM] - ====== WebDriver manager ======\n",
      "[WDM] - Current google-chrome version is 103.0.5060\n",
      "[WDM] - Get LATEST chromedriver version for 103.0.5060 google-chrome\n",
      "[WDM] - Driver [C:\\Users\\voyno\\.wdm\\drivers\\chromedriver\\win32\\103.0.5060.53\\chromedriver.exe] found in cache\n"
     ]
    },
    {
     "name": "stdout",
     "output_type": "stream",
     "text": [
      "Found the following data tables:\n",
      "0 <selenium.webdriver.remote.webelement.WebElement (session=\"f5132f401c6944d194ddf471c65cac56\", element=\"f3734664-d139-404c-b0ea-3ffd25913ad7\")>\n",
      "1 <selenium.webdriver.remote.webelement.WebElement (session=\"f5132f401c6944d194ddf471c65cac56\", element=\"aac1fbaa-425c-4acc-851c-6571d48a399e\")>\n",
      "2 <selenium.webdriver.remote.webelement.WebElement (session=\"f5132f401c6944d194ddf471c65cac56\", element=\"62c054b6-47ca-417e-a2da-b2611ea1cff2\")>\n",
      "\n"
     ]
    },
    {
     "name": "stderr",
     "output_type": "stream",
     "text": [
      "[WDM] - ====== WebDriver manager ======\n",
      "[WDM] - Current google-chrome version is 103.0.5060\n",
      "[WDM] - Get LATEST chromedriver version for 103.0.5060 google-chrome\n",
      "[WDM] - Driver [C:\\Users\\voyno\\.wdm\\drivers\\chromedriver\\win32\\103.0.5060.53\\chromedriver.exe] found in cache\n"
     ]
    },
    {
     "name": "stdout",
     "output_type": "stream",
     "text": [
      "Found the following data tables:\n",
      "0 <selenium.webdriver.remote.webelement.WebElement (session=\"e3979b660a53537d246e2211ab94037c\", element=\"0b8a72de-1f33-4c01-a1ca-e75b42dbaabc\")>\n",
      "1 <selenium.webdriver.remote.webelement.WebElement (session=\"e3979b660a53537d246e2211ab94037c\", element=\"c3d1ac89-10cd-4f5b-a39a-2ab7c61c5a9a\")>\n",
      "2 <selenium.webdriver.remote.webelement.WebElement (session=\"e3979b660a53537d246e2211ab94037c\", element=\"b08ff01e-0518-4546-8e20-8c5e88e91b3c\")>\n",
      "\n"
     ]
    },
    {
     "name": "stderr",
     "output_type": "stream",
     "text": [
      "[WDM] - ====== WebDriver manager ======\n",
      "[WDM] - Current google-chrome version is 103.0.5060\n",
      "[WDM] - Get LATEST chromedriver version for 103.0.5060 google-chrome\n",
      "[WDM] - Driver [C:\\Users\\voyno\\.wdm\\drivers\\chromedriver\\win32\\103.0.5060.53\\chromedriver.exe] found in cache\n"
     ]
    },
    {
     "name": "stdout",
     "output_type": "stream",
     "text": [
      "Found the following data tables:\n",
      "0 <selenium.webdriver.remote.webelement.WebElement (session=\"47490f2cc2ff817013537b36169fd22a\", element=\"4a2006f1-d7fc-45a2-b3df-78ad2c9decc9\")>\n",
      "1 <selenium.webdriver.remote.webelement.WebElement (session=\"47490f2cc2ff817013537b36169fd22a\", element=\"9d5a4c31-f283-44f3-95d3-73da8e141939\")>\n",
      "2 <selenium.webdriver.remote.webelement.WebElement (session=\"47490f2cc2ff817013537b36169fd22a\", element=\"80f3ee81-30d6-4291-9ad9-050fdc0b3ef6\")>\n",
      "\n"
     ]
    },
    {
     "name": "stderr",
     "output_type": "stream",
     "text": [
      "[WDM] - ====== WebDriver manager ======\n",
      "[WDM] - Current google-chrome version is 103.0.5060\n",
      "[WDM] - Get LATEST chromedriver version for 103.0.5060 google-chrome\n",
      "[WDM] - Driver [C:\\Users\\voyno\\.wdm\\drivers\\chromedriver\\win32\\103.0.5060.53\\chromedriver.exe] found in cache\n"
     ]
    },
    {
     "name": "stdout",
     "output_type": "stream",
     "text": [
      "Found the following data tables:\n",
      "0 <selenium.webdriver.remote.webelement.WebElement (session=\"9e03c1a3e05fc09f6948143d6813ad6f\", element=\"9ec12234-4083-4c6e-86dd-3298da19a102\")>\n",
      "1 <selenium.webdriver.remote.webelement.WebElement (session=\"9e03c1a3e05fc09f6948143d6813ad6f\", element=\"81b916e4-8752-4eeb-a04e-ac03887bf778\")>\n",
      "2 <selenium.webdriver.remote.webelement.WebElement (session=\"9e03c1a3e05fc09f6948143d6813ad6f\", element=\"c7024982-823d-41b3-bcd9-f529ab1f279a\")>\n",
      "\n"
     ]
    },
    {
     "name": "stderr",
     "output_type": "stream",
     "text": [
      "[WDM] - ====== WebDriver manager ======\n",
      "[WDM] - Current google-chrome version is 103.0.5060\n",
      "[WDM] - Get LATEST chromedriver version for 103.0.5060 google-chrome\n",
      "[WDM] - Driver [C:\\Users\\voyno\\.wdm\\drivers\\chromedriver\\win32\\103.0.5060.53\\chromedriver.exe] found in cache\n"
     ]
    },
    {
     "name": "stdout",
     "output_type": "stream",
     "text": [
      "Found the following data tables:\n",
      "0 <selenium.webdriver.remote.webelement.WebElement (session=\"027a5308b0871cd998a0e129ece91d7a\", element=\"177cc75d-1e1a-4fa3-b026-b1b17725b7e0\")>\n",
      "1 <selenium.webdriver.remote.webelement.WebElement (session=\"027a5308b0871cd998a0e129ece91d7a\", element=\"1b11b2b2-597c-4477-ad46-828045de3775\")>\n",
      "2 <selenium.webdriver.remote.webelement.WebElement (session=\"027a5308b0871cd998a0e129ece91d7a\", element=\"f03094a5-f2c4-4ba5-b04c-00eb657ea32e\")>\n",
      "\n"
     ]
    },
    {
     "name": "stderr",
     "output_type": "stream",
     "text": [
      "[WDM] - ====== WebDriver manager ======\n",
      "[WDM] - Current google-chrome version is 103.0.5060\n",
      "[WDM] - Get LATEST chromedriver version for 103.0.5060 google-chrome\n",
      "[WDM] - Driver [C:\\Users\\voyno\\.wdm\\drivers\\chromedriver\\win32\\103.0.5060.53\\chromedriver.exe] found in cache\n"
     ]
    },
    {
     "name": "stdout",
     "output_type": "stream",
     "text": [
      "Found the following data tables:\n",
      "0 <selenium.webdriver.remote.webelement.WebElement (session=\"91e73d34a66b0237f9a28d7770ca7003\", element=\"0b68243c-e85d-4e86-ba8d-62789838eb8a\")>\n",
      "1 <selenium.webdriver.remote.webelement.WebElement (session=\"91e73d34a66b0237f9a28d7770ca7003\", element=\"af607b79-bfd2-47f6-90b3-7098b4a13095\")>\n",
      "\n"
     ]
    },
    {
     "name": "stderr",
     "output_type": "stream",
     "text": [
      "[WDM] - ====== WebDriver manager ======\n",
      "[WDM] - Current google-chrome version is 103.0.5060\n",
      "[WDM] - Get LATEST chromedriver version for 103.0.5060 google-chrome\n",
      "[WDM] - Driver [C:\\Users\\voyno\\.wdm\\drivers\\chromedriver\\win32\\103.0.5060.53\\chromedriver.exe] found in cache\n"
     ]
    },
    {
     "name": "stdout",
     "output_type": "stream",
     "text": [
      "Found the following data tables:\n",
      "0 <selenium.webdriver.remote.webelement.WebElement (session=\"cdfce862604f12a402c674c303334c1f\", element=\"499b5801-b52a-4372-8c10-faf9f97e25f6\")>\n",
      "1 <selenium.webdriver.remote.webelement.WebElement (session=\"cdfce862604f12a402c674c303334c1f\", element=\"535e78a2-98c9-4862-b0ba-c01378a22f27\")>\n",
      "\n"
     ]
    },
    {
     "name": "stderr",
     "output_type": "stream",
     "text": [
      "[WDM] - ====== WebDriver manager ======\n",
      "[WDM] - Current google-chrome version is 103.0.5060\n",
      "[WDM] - Get LATEST chromedriver version for 103.0.5060 google-chrome\n",
      "[WDM] - Driver [C:\\Users\\voyno\\.wdm\\drivers\\chromedriver\\win32\\103.0.5060.53\\chromedriver.exe] found in cache\n"
     ]
    },
    {
     "name": "stdout",
     "output_type": "stream",
     "text": [
      "Found the following data tables:\n",
      "0 <selenium.webdriver.remote.webelement.WebElement (session=\"07be5106f7a1ee723169e566ef02c01e\", element=\"926e9b86-f2a7-4d67-ae82-a36832d75f3a\")>\n",
      "1 <selenium.webdriver.remote.webelement.WebElement (session=\"07be5106f7a1ee723169e566ef02c01e\", element=\"052c0472-1f45-45dc-b7ea-387a2b8499b4\")>\n",
      "2 <selenium.webdriver.remote.webelement.WebElement (session=\"07be5106f7a1ee723169e566ef02c01e\", element=\"8e4693c6-38f1-490f-8e9b-64ce5d57f7af\")>\n",
      "\n"
     ]
    },
    {
     "name": "stderr",
     "output_type": "stream",
     "text": [
      "[WDM] - ====== WebDriver manager ======\n",
      "[WDM] - Current google-chrome version is 103.0.5060\n",
      "[WDM] - Get LATEST chromedriver version for 103.0.5060 google-chrome\n",
      "[WDM] - Driver [C:\\Users\\voyno\\.wdm\\drivers\\chromedriver\\win32\\103.0.5060.53\\chromedriver.exe] found in cache\n"
     ]
    },
    {
     "name": "stdout",
     "output_type": "stream",
     "text": [
      "Found the following data tables:\n",
      "0 <selenium.webdriver.remote.webelement.WebElement (session=\"3459039be16c1bc7adacb757897e57dd\", element=\"a0e92ec5-82bc-435f-879d-4cb4700f474e\")>\n",
      "1 <selenium.webdriver.remote.webelement.WebElement (session=\"3459039be16c1bc7adacb757897e57dd\", element=\"96aa844f-0760-430f-80e1-a58b1534acb5\")>\n",
      "2 <selenium.webdriver.remote.webelement.WebElement (session=\"3459039be16c1bc7adacb757897e57dd\", element=\"a33a00e9-8c9e-42e3-a432-fd331d221bcf\")>\n",
      "\n"
     ]
    },
    {
     "name": "stderr",
     "output_type": "stream",
     "text": [
      "[WDM] - ====== WebDriver manager ======\n",
      "[WDM] - Current google-chrome version is 103.0.5060\n",
      "[WDM] - Get LATEST chromedriver version for 103.0.5060 google-chrome\n",
      "[WDM] - Driver [C:\\Users\\voyno\\.wdm\\drivers\\chromedriver\\win32\\103.0.5060.53\\chromedriver.exe] found in cache\n"
     ]
    },
    {
     "name": "stdout",
     "output_type": "stream",
     "text": [
      "Found the following data tables:\n",
      "0 <selenium.webdriver.remote.webelement.WebElement (session=\"184de3e1f1f107bc6879c98f19d02199\", element=\"e1c99c0a-3599-4054-a1b0-84d379769536\")>\n",
      "1 <selenium.webdriver.remote.webelement.WebElement (session=\"184de3e1f1f107bc6879c98f19d02199\", element=\"25f95cd5-afb4-4557-b3a0-0fd7dafde1fc\")>\n",
      "2 <selenium.webdriver.remote.webelement.WebElement (session=\"184de3e1f1f107bc6879c98f19d02199\", element=\"7210e995-1908-4f94-b756-15ab4e5c19dc\")>\n",
      "\n"
     ]
    },
    {
     "name": "stderr",
     "output_type": "stream",
     "text": [
      "[WDM] - ====== WebDriver manager ======\n",
      "[WDM] - Current google-chrome version is 103.0.5060\n",
      "[WDM] - Get LATEST chromedriver version for 103.0.5060 google-chrome\n",
      "[WDM] - Driver [C:\\Users\\voyno\\.wdm\\drivers\\chromedriver\\win32\\103.0.5060.53\\chromedriver.exe] found in cache\n"
     ]
    },
    {
     "name": "stdout",
     "output_type": "stream",
     "text": [
      "Found the following data tables:\n",
      "0 <selenium.webdriver.remote.webelement.WebElement (session=\"1a5dfb47a4c77552fce19b991650d23c\", element=\"c276fd30-5b65-4b78-ade1-21eddf38d19c\")>\n",
      "1 <selenium.webdriver.remote.webelement.WebElement (session=\"1a5dfb47a4c77552fce19b991650d23c\", element=\"77875f68-07dd-449b-9653-0ab7cb42e5cc\")>\n",
      "2 <selenium.webdriver.remote.webelement.WebElement (session=\"1a5dfb47a4c77552fce19b991650d23c\", element=\"18c07163-ce76-4cce-9608-0d2c4deda336\")>\n",
      "\n"
     ]
    },
    {
     "name": "stderr",
     "output_type": "stream",
     "text": [
      "[WDM] - ====== WebDriver manager ======\n",
      "[WDM] - Current google-chrome version is 103.0.5060\n",
      "[WDM] - Get LATEST chromedriver version for 103.0.5060 google-chrome\n",
      "[WDM] - Driver [C:\\Users\\voyno\\.wdm\\drivers\\chromedriver\\win32\\103.0.5060.53\\chromedriver.exe] found in cache\n"
     ]
    },
    {
     "name": "stdout",
     "output_type": "stream",
     "text": [
      "Found the following data tables:\n",
      "0 <selenium.webdriver.remote.webelement.WebElement (session=\"30444be72074de9080d2c3cb1c80e6ec\", element=\"7ba13277-f5b0-4b94-9317-6c87966de81b\")>\n",
      "1 <selenium.webdriver.remote.webelement.WebElement (session=\"30444be72074de9080d2c3cb1c80e6ec\", element=\"c923baf4-28ea-4a5c-a855-9d2dfaee18fd\")>\n",
      "\n"
     ]
    },
    {
     "name": "stderr",
     "output_type": "stream",
     "text": [
      "[WDM] - ====== WebDriver manager ======\n",
      "[WDM] - Current google-chrome version is 103.0.5060\n",
      "[WDM] - Get LATEST chromedriver version for 103.0.5060 google-chrome\n",
      "[WDM] - Driver [C:\\Users\\voyno\\.wdm\\drivers\\chromedriver\\win32\\103.0.5060.53\\chromedriver.exe] found in cache\n"
     ]
    },
    {
     "name": "stdout",
     "output_type": "stream",
     "text": [
      "Found the following data tables:\n",
      "0 <selenium.webdriver.remote.webelement.WebElement (session=\"529defdc301a626844fcdba859e2079b\", element=\"0afa8271-4bd1-443d-9a56-ad575b180705\")>\n",
      "1 <selenium.webdriver.remote.webelement.WebElement (session=\"529defdc301a626844fcdba859e2079b\", element=\"4b0d47d8-5bc4-468f-a9a2-639fc1d2cf40\")>\n",
      "\n"
     ]
    },
    {
     "name": "stderr",
     "output_type": "stream",
     "text": [
      "[WDM] - ====== WebDriver manager ======\n",
      "[WDM] - Current google-chrome version is 103.0.5060\n",
      "[WDM] - Get LATEST chromedriver version for 103.0.5060 google-chrome\n",
      "[WDM] - Driver [C:\\Users\\voyno\\.wdm\\drivers\\chromedriver\\win32\\103.0.5060.53\\chromedriver.exe] found in cache\n"
     ]
    },
    {
     "name": "stdout",
     "output_type": "stream",
     "text": [
      "Found the following data tables:\n",
      "0 <selenium.webdriver.remote.webelement.WebElement (session=\"aed8dd93633d02ff4b6cc35b10f0d69a\", element=\"f2327eb6-88ec-4b0b-9381-680151e31c8f\")>\n",
      "1 <selenium.webdriver.remote.webelement.WebElement (session=\"aed8dd93633d02ff4b6cc35b10f0d69a\", element=\"aa9f98db-c234-494c-9d71-9fb6501f4671\")>\n",
      "\n"
     ]
    },
    {
     "name": "stderr",
     "output_type": "stream",
     "text": [
      "[WDM] - ====== WebDriver manager ======\n",
      "[WDM] - Current google-chrome version is 103.0.5060\n",
      "[WDM] - Get LATEST chromedriver version for 103.0.5060 google-chrome\n",
      "[WDM] - Driver [C:\\Users\\voyno\\.wdm\\drivers\\chromedriver\\win32\\103.0.5060.53\\chromedriver.exe] found in cache\n"
     ]
    },
    {
     "name": "stdout",
     "output_type": "stream",
     "text": [
      "Found the following data tables:\n",
      "0 <selenium.webdriver.remote.webelement.WebElement (session=\"237ed26ad3ac587a126a9c46f60a0d9b\", element=\"dfac5f27-e42f-487f-91dc-545289a4ed28\")>\n",
      "1 <selenium.webdriver.remote.webelement.WebElement (session=\"237ed26ad3ac587a126a9c46f60a0d9b\", element=\"aa0ce270-4ce2-48b9-af15-97e04cdf73fc\")>\n",
      "2 <selenium.webdriver.remote.webelement.WebElement (session=\"237ed26ad3ac587a126a9c46f60a0d9b\", element=\"7188264b-51cf-40e6-927d-7db1778145b3\")>\n",
      "\n"
     ]
    },
    {
     "name": "stderr",
     "output_type": "stream",
     "text": [
      "[WDM] - ====== WebDriver manager ======\n",
      "[WDM] - Current google-chrome version is 103.0.5060\n",
      "[WDM] - Get LATEST chromedriver version for 103.0.5060 google-chrome\n",
      "[WDM] - Driver [C:\\Users\\voyno\\.wdm\\drivers\\chromedriver\\win32\\103.0.5060.53\\chromedriver.exe] found in cache\n"
     ]
    },
    {
     "name": "stdout",
     "output_type": "stream",
     "text": [
      "Found the following data tables:\n",
      "0 <selenium.webdriver.remote.webelement.WebElement (session=\"426f04bdc7d54a9221e0eb27ef99038c\", element=\"e4c4d270-5046-4bd6-a284-41df17dcfba9\")>\n",
      "1 <selenium.webdriver.remote.webelement.WebElement (session=\"426f04bdc7d54a9221e0eb27ef99038c\", element=\"c06ac18d-fd5d-4012-bc93-ad65cf376c77\")>\n",
      "\n"
     ]
    },
    {
     "name": "stderr",
     "output_type": "stream",
     "text": [
      "[WDM] - ====== WebDriver manager ======\n",
      "[WDM] - Current google-chrome version is 103.0.5060\n",
      "[WDM] - Get LATEST chromedriver version for 103.0.5060 google-chrome\n",
      "[WDM] - Driver [C:\\Users\\voyno\\.wdm\\drivers\\chromedriver\\win32\\103.0.5060.53\\chromedriver.exe] found in cache\n"
     ]
    },
    {
     "name": "stdout",
     "output_type": "stream",
     "text": [
      "Found the following data tables:\n",
      "0 <selenium.webdriver.remote.webelement.WebElement (session=\"84038c9f49e23fb938ed58a7a1b04763\", element=\"b1836c2b-dbf0-4083-b9d0-af3533292fba\")>\n",
      "1 <selenium.webdriver.remote.webelement.WebElement (session=\"84038c9f49e23fb938ed58a7a1b04763\", element=\"9837da5d-1c02-49d2-ab4c-2c98bf305eb4\")>\n",
      "\n"
     ]
    },
    {
     "name": "stderr",
     "output_type": "stream",
     "text": [
      "[WDM] - ====== WebDriver manager ======\n",
      "[WDM] - Current google-chrome version is 103.0.5060\n",
      "[WDM] - Get LATEST chromedriver version for 103.0.5060 google-chrome\n",
      "[WDM] - Driver [C:\\Users\\voyno\\.wdm\\drivers\\chromedriver\\win32\\103.0.5060.53\\chromedriver.exe] found in cache\n"
     ]
    },
    {
     "name": "stdout",
     "output_type": "stream",
     "text": [
      "Found the following data tables:\n",
      "0 <selenium.webdriver.remote.webelement.WebElement (session=\"2d00582232e7e859916ff591c8e54437\", element=\"e6cdbf25-6a0a-442d-bb27-65967b266668\")>\n",
      "1 <selenium.webdriver.remote.webelement.WebElement (session=\"2d00582232e7e859916ff591c8e54437\", element=\"fcd5eca3-fbe3-4b6e-8ffe-d0cce31137da\")>\n",
      "\n"
     ]
    },
    {
     "name": "stderr",
     "output_type": "stream",
     "text": [
      "[WDM] - ====== WebDriver manager ======\n",
      "[WDM] - Current google-chrome version is 103.0.5060\n",
      "[WDM] - Get LATEST chromedriver version for 103.0.5060 google-chrome\n",
      "[WDM] - Driver [C:\\Users\\voyno\\.wdm\\drivers\\chromedriver\\win32\\103.0.5060.53\\chromedriver.exe] found in cache\n"
     ]
    },
    {
     "name": "stdout",
     "output_type": "stream",
     "text": [
      "Found the following data tables:\n",
      "0 <selenium.webdriver.remote.webelement.WebElement (session=\"6addb789e3fbc177172aa905bb890884\", element=\"b3c6b8b1-48fb-4229-9d8e-0bd1b74e9c06\")>\n",
      "1 <selenium.webdriver.remote.webelement.WebElement (session=\"6addb789e3fbc177172aa905bb890884\", element=\"8a6452e8-bbf7-4975-8423-2bcf23b941d5\")>\n",
      "\n"
     ]
    },
    {
     "name": "stderr",
     "output_type": "stream",
     "text": [
      "[WDM] - ====== WebDriver manager ======\n",
      "[WDM] - Current google-chrome version is 103.0.5060\n",
      "[WDM] - Get LATEST chromedriver version for 103.0.5060 google-chrome\n",
      "[WDM] - Driver [C:\\Users\\voyno\\.wdm\\drivers\\chromedriver\\win32\\103.0.5060.53\\chromedriver.exe] found in cache\n"
     ]
    },
    {
     "name": "stdout",
     "output_type": "stream",
     "text": [
      "Found the following data tables:\n",
      "0 <selenium.webdriver.remote.webelement.WebElement (session=\"16eaf88c3eefefb1686b08b532ad1863\", element=\"8000e8d7-5723-449d-ae77-66bace2a52f9\")>\n",
      "1 <selenium.webdriver.remote.webelement.WebElement (session=\"16eaf88c3eefefb1686b08b532ad1863\", element=\"5d4f1003-c73f-43cc-90bc-bd21505ec9d0\")>\n",
      "\n"
     ]
    },
    {
     "name": "stderr",
     "output_type": "stream",
     "text": [
      "[WDM] - ====== WebDriver manager ======\n",
      "[WDM] - Current google-chrome version is 103.0.5060\n",
      "[WDM] - Get LATEST chromedriver version for 103.0.5060 google-chrome\n",
      "[WDM] - Driver [C:\\Users\\voyno\\.wdm\\drivers\\chromedriver\\win32\\103.0.5060.53\\chromedriver.exe] found in cache\n"
     ]
    },
    {
     "name": "stdout",
     "output_type": "stream",
     "text": [
      "Found the following data tables:\n",
      "0 <selenium.webdriver.remote.webelement.WebElement (session=\"2376cc357010c9192c1c5d754c8d5b11\", element=\"a5ce3ca3-bc56-4cd4-817b-afbeea97b448\")>\n",
      "1 <selenium.webdriver.remote.webelement.WebElement (session=\"2376cc357010c9192c1c5d754c8d5b11\", element=\"5af4abc9-4a98-486a-9651-a79e442518bc\")>\n",
      "2 <selenium.webdriver.remote.webelement.WebElement (session=\"2376cc357010c9192c1c5d754c8d5b11\", element=\"3b2509df-3f69-4e75-b2e4-57036d804427\")>\n",
      "\n"
     ]
    },
    {
     "name": "stderr",
     "output_type": "stream",
     "text": [
      "[WDM] - ====== WebDriver manager ======\n",
      "[WDM] - Current google-chrome version is 103.0.5060\n",
      "[WDM] - Get LATEST chromedriver version for 103.0.5060 google-chrome\n",
      "[WDM] - Driver [C:\\Users\\voyno\\.wdm\\drivers\\chromedriver\\win32\\103.0.5060.53\\chromedriver.exe] found in cache\n"
     ]
    },
    {
     "name": "stdout",
     "output_type": "stream",
     "text": [
      "Found the following data tables:\n",
      "0 <selenium.webdriver.remote.webelement.WebElement (session=\"804922bb94df31d56d6b068179abf491\", element=\"6716634f-5b13-4ddc-a19a-6412876a0a44\")>\n",
      "1 <selenium.webdriver.remote.webelement.WebElement (session=\"804922bb94df31d56d6b068179abf491\", element=\"21f98b97-ce91-46bb-b2c9-eb067a24b7d2\")>\n",
      "\n"
     ]
    },
    {
     "name": "stderr",
     "output_type": "stream",
     "text": [
      "[WDM] - ====== WebDriver manager ======\n",
      "[WDM] - Current google-chrome version is 103.0.5060\n",
      "[WDM] - Get LATEST chromedriver version for 103.0.5060 google-chrome\n",
      "[WDM] - Driver [C:\\Users\\voyno\\.wdm\\drivers\\chromedriver\\win32\\103.0.5060.53\\chromedriver.exe] found in cache\n"
     ]
    },
    {
     "name": "stdout",
     "output_type": "stream",
     "text": [
      "Found the following data tables:\n",
      "0 <selenium.webdriver.remote.webelement.WebElement (session=\"c5fa95515e5157168c88b7fe7da8fdf1\", element=\"1db3f640-d9e9-474e-950d-26ca62bc935f\")>\n",
      "1 <selenium.webdriver.remote.webelement.WebElement (session=\"c5fa95515e5157168c88b7fe7da8fdf1\", element=\"ad0963cf-9ae1-43d0-acf7-fcd878978d5f\")>\n",
      "2 <selenium.webdriver.remote.webelement.WebElement (session=\"c5fa95515e5157168c88b7fe7da8fdf1\", element=\"3ade42f9-8179-4279-90ba-5b3c1d085f48\")>\n",
      "\n"
     ]
    },
    {
     "name": "stderr",
     "output_type": "stream",
     "text": [
      "[WDM] - ====== WebDriver manager ======\n",
      "[WDM] - Current google-chrome version is 103.0.5060\n",
      "[WDM] - Get LATEST chromedriver version for 103.0.5060 google-chrome\n",
      "[WDM] - Driver [C:\\Users\\voyno\\.wdm\\drivers\\chromedriver\\win32\\103.0.5060.53\\chromedriver.exe] found in cache\n"
     ]
    },
    {
     "name": "stdout",
     "output_type": "stream",
     "text": [
      "Found the following data tables:\n",
      "0 <selenium.webdriver.remote.webelement.WebElement (session=\"4bb761ad522579fb524a62322e5776e9\", element=\"e5871375-496a-4d52-9752-80350696c02e\")>\n",
      "1 <selenium.webdriver.remote.webelement.WebElement (session=\"4bb761ad522579fb524a62322e5776e9\", element=\"41501e8f-a235-4642-b6d2-fd9ce867dfca\")>\n",
      "\n"
     ]
    },
    {
     "name": "stderr",
     "output_type": "stream",
     "text": [
      "[WDM] - ====== WebDriver manager ======\n",
      "[WDM] - Current google-chrome version is 103.0.5060\n",
      "[WDM] - Get LATEST chromedriver version for 103.0.5060 google-chrome\n",
      "[WDM] - Driver [C:\\Users\\voyno\\.wdm\\drivers\\chromedriver\\win32\\103.0.5060.53\\chromedriver.exe] found in cache\n"
     ]
    },
    {
     "name": "stdout",
     "output_type": "stream",
     "text": [
      "Found the following data tables:\n",
      "0 <selenium.webdriver.remote.webelement.WebElement (session=\"9682346694ff40452280f8e2d51f6b1b\", element=\"bbc2cb05-4553-4f0a-a616-7026b1acc22c\")>\n",
      "1 <selenium.webdriver.remote.webelement.WebElement (session=\"9682346694ff40452280f8e2d51f6b1b\", element=\"be88cef0-387c-4065-8de6-9c7a836f8626\")>\n",
      "\n"
     ]
    },
    {
     "name": "stderr",
     "output_type": "stream",
     "text": [
      "[WDM] - ====== WebDriver manager ======\n",
      "[WDM] - Current google-chrome version is 103.0.5060\n",
      "[WDM] - Get LATEST chromedriver version for 103.0.5060 google-chrome\n",
      "[WDM] - Driver [C:\\Users\\voyno\\.wdm\\drivers\\chromedriver\\win32\\103.0.5060.53\\chromedriver.exe] found in cache\n"
     ]
    },
    {
     "name": "stdout",
     "output_type": "stream",
     "text": [
      "Found the following data tables:\n",
      "0 <selenium.webdriver.remote.webelement.WebElement (session=\"2099d86764010f808bf21567719d274e\", element=\"fa348c97-08bd-4bf5-b773-c4ed01520904\")>\n",
      "1 <selenium.webdriver.remote.webelement.WebElement (session=\"2099d86764010f808bf21567719d274e\", element=\"8db512ef-8413-4ae6-afd8-8e8e7fde0b2a\")>\n",
      "2 <selenium.webdriver.remote.webelement.WebElement (session=\"2099d86764010f808bf21567719d274e\", element=\"6b5efaee-d89a-44b8-b027-b41da7e7b5b8\")>\n",
      "\n"
     ]
    },
    {
     "name": "stderr",
     "output_type": "stream",
     "text": [
      "[WDM] - ====== WebDriver manager ======\n",
      "[WDM] - Current google-chrome version is 103.0.5060\n",
      "[WDM] - Get LATEST chromedriver version for 103.0.5060 google-chrome\n",
      "[WDM] - Driver [C:\\Users\\voyno\\.wdm\\drivers\\chromedriver\\win32\\103.0.5060.53\\chromedriver.exe] found in cache\n"
     ]
    },
    {
     "name": "stdout",
     "output_type": "stream",
     "text": [
      "Found the following data tables:\n",
      "0 <selenium.webdriver.remote.webelement.WebElement (session=\"e3dad1f58da7d5132423e24df13479ce\", element=\"ea323816-d42e-4b92-869a-bedef8ea8396\")>\n",
      "1 <selenium.webdriver.remote.webelement.WebElement (session=\"e3dad1f58da7d5132423e24df13479ce\", element=\"6fa105f2-7218-4792-9b5d-02284d8926cd\")>\n",
      "2 <selenium.webdriver.remote.webelement.WebElement (session=\"e3dad1f58da7d5132423e24df13479ce\", element=\"70b23e7a-4e36-44a8-adbf-15438a6149c2\")>\n"
     ]
    }
   ],
   "source": [
    "raw_data, missing_players = extract.extract()\n",
    "with open(raw_loc, 'wb') as f:\n",
    "    pickle.dump(raw_data, f)"
   ]
  },
  {
   "cell_type": "code",
   "execution_count": 84,
   "metadata": {},
   "outputs": [],
   "source": [
    "clean_data = transform.transform()\n",
    "with open(clean_loc, \"w\") as f:\n",
    "    json.dump(clean_data, f, indent=4)"
   ]
  },
  {
   "cell_type": "code",
   "execution_count": 39,
   "metadata": {},
   "outputs": [],
   "source": []
  }
 ],
 "metadata": {
  "kernelspec": {
   "display_name": "Python 3.8.0 ('venv': venv)",
   "language": "python",
   "name": "python3"
  },
  "language_info": {
   "codemirror_mode": {
    "name": "ipython",
    "version": 3
   },
   "file_extension": ".py",
   "mimetype": "text/x-python",
   "name": "python",
   "nbconvert_exporter": "python",
   "pygments_lexer": "ipython3",
   "version": "3.8.0"
  },
  "orig_nbformat": 4,
  "vscode": {
   "interpreter": {
    "hash": "784692254b77ada57f3128df0a88ff89f3a7cbde4f0bdf9eb7754ce7391f8afa"
   }
  }
 },
 "nbformat": 4,
 "nbformat_minor": 2
}
