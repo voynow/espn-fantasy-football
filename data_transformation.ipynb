{
 "cells": [
  {
   "cell_type": "code",
   "execution_count": 16,
   "metadata": {},
   "outputs": [],
   "source": [
    "import pickle\n",
    "import json"
   ]
  },
  {
   "cell_type": "code",
   "execution_count": 29,
   "metadata": {},
   "outputs": [],
   "source": [
    "position_replace_subkey_mapping = {\n",
    "    \"QB\": \" PASSING RUSHING\",\n",
    "    \"RB\": \" RUSHING RECEIVING FUMBLES\",\n",
    "    \"WR\": \" RECEIVING RUSHING FUMBLES\",\n",
    "    \"TE\": \" RECEIVING RUSHING FUMBLES\",\n",
    "}\n",
    "\n",
    "dict_keys = {\n",
    "    \"info\": [\"team\", \"number\", \"position\"],\n",
    "    \"postseason\": [\"date\", \"vs_#\", \"opponent\", \"outcome\", \"score\", \"stats\", \"game_title\"],\n",
    "    \"2021regularseason\": [\"date\", \"vs_#\", \"opponent\", \"outcome\", \"score\", \"stats\"]\n",
    "}\n",
    "\n",
    "position_stats_columns = {\n",
    "    \"QB\": {\n",
    "        \"passing\": ['CMP', 'ATT', 'YDS', 'CMP%', 'AVG', 'TD', 'INT', 'LNG', 'SACK', 'RTG', 'QBR'],\n",
    "        \"rushing\": ['ATT', 'YDS', 'AVG', 'TD', 'LNG']\n",
    "    },\n",
    "    \"RB\": {\n",
    "        \"rushing\": ['ATT', 'YDS', 'AVG', 'TD', 'LNG'],\n",
    "        \"receiving\": ['REC', 'TGTS', 'YDS', 'AVG', 'TD', 'LNG'],\n",
    "        \"fumbles\": [ 'FUM', 'LST', 'FF', 'KB']\n",
    "    },\n",
    "    \"WR\": {\n",
    "        \"receiving\": ['REC', 'TGTS', 'YDS', 'AVG', 'TD', 'LNG'],\n",
    "        \"rushing\": ['ATT', 'YDS', 'AVG', 'LNG', 'TD'],\n",
    "        \"fumbles\": ['FUM', 'LST', 'FF', 'KB']\n",
    "    },\n",
    "    \"TE\": {\n",
    "        \"receiving\": ['REC', 'TGTS', 'YDS', 'AVG', 'TD', 'LNG'],\n",
    "        \"rushing\": ['ATT', 'YDS', 'AVG', 'LNG', 'TD'],\n",
    "        \"fumbles\": ['FUM', 'LST', 'FF', 'KB']\n",
    "    }\n",
    "}"
   ]
  },
  {
   "cell_type": "code",
   "execution_count": 30,
   "metadata": {},
   "outputs": [],
   "source": [
    "def load_to_dict(path_to_pkl):\n",
    "    \"\"\"\n",
    "    Load pickle file, transform into dictionary where key=player_name, value=player_data\n",
    "    \"\"\"\n",
    "    f = open(path_to_pkl, 'rb')\n",
    "    load_data = pickle.load(f)\n",
    "    data_list = [[table.split(\"\\n\") for table in player] for player in load_data]\n",
    "    data_dict = {player[0][0]: player[1:] for player in data_list}\n",
    "\n",
    "    return data_dict"
   ]
  },
  {
   "cell_type": "code",
   "execution_count": 31,
   "metadata": {},
   "outputs": [],
   "source": [
    "def transform_tables(data):\n",
    "    \"\"\"\n",
    "    Insert player's tables into dictionary format\n",
    "    \"\"\"\n",
    "    for key, value in data.items():\n",
    "        info = value[0]\n",
    "        position = info[-1]\n",
    "        data[key] = {\"info\": info}\n",
    "\n",
    "        for table in value[1:]:\n",
    "            subkey = table[0].replace(position_replace_subkey_mapping[position], \"\")\n",
    "            subkey = subkey.replace(\" \", \"\").lower()\n",
    "            data[key][subkey] = table\n",
    "\n",
    "    return data"
   ]
  },
  {
   "cell_type": "code",
   "execution_count": 32,
   "metadata": {},
   "outputs": [],
   "source": [
    "def get_mod(key):\n",
    "    \"\"\"\n",
    "    Modulo value for grouping data\n",
    "    \"\"\"\n",
    "    if key == 'postseason':\n",
    "        return 7\n",
    "    if key == '2021regularseason':\n",
    "        return 6\n",
    "    else:\n",
    "        raise ValueError(f\"Table name invalid: {key}\")"
   ]
  },
  {
   "cell_type": "code",
   "execution_count": 33,
   "metadata": {},
   "outputs": [],
   "source": [
    "def extract_game_data(table):\n",
    "    \"\"\"\n",
    "    Remove information - table dependent\n",
    "    \"\"\"\n",
    "    last_entry = table[-1].split(\" \")[0]\n",
    "    game_data = table[5:]\n",
    "    if last_entry == \"POSTSEASON\" or last_entry == \"REGULAR\":\n",
    "        game_data = game_data[:-1]\n",
    "\n",
    "    return game_data"
   ]
  },
  {
   "cell_type": "code",
   "execution_count": 34,
   "metadata": {},
   "outputs": [],
   "source": [
    "def group_data_by_feature(game_data, mod):\n",
    "    \"\"\"\n",
    "    Collecting features\n",
    "    \"\"\"\n",
    "    game_groups = [[] for _ in range(mod)]\n",
    "    for i, item in enumerate(game_data):\n",
    "        game_groups[i % mod].append(item)\n",
    "    \n",
    "    return game_groups"
   ]
  },
  {
   "cell_type": "code",
   "execution_count": 35,
   "metadata": {},
   "outputs": [],
   "source": [
    "def group_statistics(data_dict):\n",
    "    \"\"\"\n",
    "    Add structure to game data - consolidation by feature\n",
    "    \"\"\"\n",
    "    for player, data in data_dict.items():\n",
    "        for key, table in data.items():\n",
    "            if key != 'info':\n",
    "                mod = get_mod(key)\n",
    "                game_data = extract_game_data(table)\n",
    "                game_groups = group_data_by_feature(game_data, mod)\n",
    "                data_dict[player][key] = game_groups\n",
    "    \n",
    "    return data_dict"
   ]
  },
  {
   "cell_type": "code",
   "execution_count": 36,
   "metadata": {},
   "outputs": [],
   "source": [
    "def transform_grouped_data(data_dict):\n",
    "    \"\"\"\n",
    "    Add keys to group data - dictionary transformation\n",
    "    \"\"\"\n",
    "    for player, data in data_dict.items():\n",
    "        for key, table in data.items():\n",
    "            data_dict[player][key] = {\n",
    "                dict_keys[key][i]: item for i, item in enumerate(table)}\n",
    "    return data_dict"
   ]
  },
  {
   "cell_type": "code",
   "execution_count": 40,
   "metadata": {},
   "outputs": [],
   "source": [
    "def create_stats_dict(stats_list, columns):\n",
    "    \"\"\"\n",
    "    Apply column name to game statistics\n",
    "    \"\"\"\n",
    "    stats_dict = {}\n",
    "    for stats in stats_list:\n",
    "        stats = stats.split(\" \")\n",
    "\n",
    "        idx = 0\n",
    "        for col_set, column_names in columns.items():\n",
    "            for col in column_names:\n",
    "                stat = stats[idx]\n",
    "                key = f\"{col_set}_{col}\"\n",
    "                if key not in stats_dict:\n",
    "                    stats_dict[key] = []\n",
    "                stats_dict[key].append(stat)\n",
    "                idx += 1\n",
    "        \n",
    "    return stats_dict"
   ]
  },
  {
   "cell_type": "code",
   "execution_count": 41,
   "metadata": {},
   "outputs": [],
   "source": [
    "def transform_game_stats(data_dict):\n",
    "    \"\"\"\n",
    "    Structure game statistics with feature name\n",
    "    \"\"\"\n",
    "    for player, data in data_dict.items():\n",
    "        for key, table in data.items():\n",
    "            if key == 'info':\n",
    "                pos = table['position']\n",
    "            if key == \"postseason\" or key == \"2021regularseason\":\n",
    "                stats = create_stats_dict(table['stats'], position_stats_columns[pos])\n",
    "                data_dict[player][key]['stats'] = stats\n",
    "\n",
    "    return data_dict"
   ]
  },
  {
   "cell_type": "code",
   "execution_count": 42,
   "metadata": {},
   "outputs": [],
   "source": [
    "path_to_pkl = 'data/game_level.pkl'\n",
    "path_to_json = 'data/player_data_dict.json'\n",
    "\n",
    "player_data_dict = load_to_dict(path_to_pkl)\n",
    "player_data_dict = transform_tables(player_data_dict)\n",
    "player_data_dict = group_statistics(player_data_dict)\n",
    "player_data_dict = transform_grouped_data(player_data_dict)\n",
    "player_data_dict = transform_game_stats(player_data_dict)\n",
    "\n",
    "json.dump(\n",
    "    player_data_dict, \n",
    "    open(path_to_json, \"w\"), \n",
    "    indent = 4)"
   ]
  },
  {
   "cell_type": "code",
   "execution_count": null,
   "metadata": {},
   "outputs": [],
   "source": []
  }
 ],
 "metadata": {
  "interpreter": {
   "hash": "784692254b77ada57f3128df0a88ff89f3a7cbde4f0bdf9eb7754ce7391f8afa"
  },
  "kernelspec": {
   "display_name": "Python 3.8.0 ('venv': venv)",
   "language": "python",
   "name": "python3"
  },
  "language_info": {
   "codemirror_mode": {
    "name": "ipython",
    "version": 3
   },
   "file_extension": ".py",
   "mimetype": "text/x-python",
   "name": "python",
   "nbconvert_exporter": "python",
   "pygments_lexer": "ipython3",
   "version": "3.8.0"
  },
  "orig_nbformat": 4
 },
 "nbformat": 4,
 "nbformat_minor": 2
}
