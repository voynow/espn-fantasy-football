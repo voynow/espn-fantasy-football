{
 "cells": [
  {
   "cell_type": "code",
   "execution_count": 1,
   "metadata": {},
   "outputs": [],
   "source": [
    "%load_ext autoreload\n",
    "%autoreload 2"
   ]
  },
  {
   "cell_type": "code",
   "execution_count": 2,
   "metadata": {},
   "outputs": [],
   "source": [
    "from utils import get_player_data"
   ]
  },
  {
   "cell_type": "code",
   "execution_count": 30,
   "metadata": {},
   "outputs": [
    {
     "name": "stderr",
     "output_type": "stream",
     "text": [
      "\n",
      "\n",
      "====== WebDriver manager ======\n",
      "Current google-chrome version is 101.0.4951\n",
      "Get LATEST chromedriver version for 101.0.4951 google-chrome\n",
      "Driver [C:\\Users\\voyno\\.wdm\\drivers\\chromedriver\\win32\\101.0.4951.41\\chromedriver.exe] found in cache\n"
     ]
    },
    {
     "name": "stdout",
     "output_type": "stream",
     "text": [
      "Unexpected exception formatting exception. Falling back to standard exception\n"
     ]
    },
    {
     "name": "stderr",
     "output_type": "stream",
     "text": [
      "Traceback (most recent call last):\n",
      "  File \"c:\\Users\\voyno\\Desktop\\code\\repos\\espn-fantasy-football\\venv\\lib\\site-packages\\IPython\\core\\interactiveshell.py\", line 3397, in run_code\n",
      "    exec(code_obj, self.user_global_ns, self.user_ns)\n",
      "  File \"C:\\Users\\voyno\\AppData\\Local\\Temp\\ipykernel_5268\\3998993837.py\", line 1, in <cell line: 1>\n",
      "    get_player_data.extract()\n",
      "  File \"c:\\Users\\voyno\\Desktop\\code\\repos\\espn-fantasy-football\\utils\\get_player_data.py\", line 97, in extract\n",
      "    get_player_links(driver)\n",
      "  File \"c:\\Users\\voyno\\Desktop\\code\\repos\\espn-fantasy-football\\utils\\get_player_data.py\", line 67, in get_player_links\n",
      "    driver.find_element(By.CLASS_NAME, \"lightbox__closebtn\").click()\n",
      "  File \"c:\\Users\\voyno\\Desktop\\code\\repos\\espn-fantasy-football\\venv\\lib\\site-packages\\selenium\\webdriver\\remote\\webdriver.py\", line 1248, in find_element\n",
      "    return self.execute(Command.FIND_ELEMENT, {\n",
      "  File \"c:\\Users\\voyno\\Desktop\\code\\repos\\espn-fantasy-football\\venv\\lib\\site-packages\\selenium\\webdriver\\remote\\webdriver.py\", line 425, in execute\n",
      "    self.error_handler.check_response(response)\n",
      "  File \"c:\\Users\\voyno\\Desktop\\code\\repos\\espn-fantasy-football\\venv\\lib\\site-packages\\selenium\\webdriver\\remote\\errorhandler.py\", line 247, in check_response\n",
      "    raise exception_class(message, screen, stacktrace)\n",
      "selenium.common.exceptions.WebDriverException: Message: target frame detached\n",
      "  (Session info: chrome=101.0.4951.67)\n",
      "Stacktrace:\n",
      "Backtrace:\n",
      "\tOrdinal0 [0x0084B8F3+2406643]\n",
      "\tOrdinal0 [0x007DAF31+1945393]\n",
      "\tOrdinal0 [0x006CC610+837136]\n",
      "\tOrdinal0 [0x006BD777+776055]\n",
      "\tOrdinal0 [0x006BC7C5+772037]\n",
      "\tOrdinal0 [0x006BCDC8+773576]\n",
      "\tOrdinal0 [0x006BCD58+773464]\n",
      "\tOrdinal0 [0x006C2F1A+798490]\n",
      "\tOrdinal0 [0x006BDF9B+778139]\n",
      "\tOrdinal0 [0x006BE4C5+779461]\n",
      "\tOrdinal0 [0x006BE2AF+778927]\n",
      "\tOrdinal0 [0x006BD8A6+776358]\n",
      "\tOrdinal0 [0x006BD11C+774428]\n",
      "\tOrdinal0 [0x006BCFB9+774073]\n",
      "\tOrdinal0 [0x006CDB00+842496]\n",
      "\tOrdinal0 [0x00723F4B+1195851]\n",
      "\tOrdinal0 [0x00714096+1130646]\n",
      "\tOrdinal0 [0x006EE636+976438]\n",
      "\tOrdinal0 [0x006EF546+980294]\n",
      "\tGetHandleVerifier [0x00AB9612+2498066]\n",
      "\tGetHandleVerifier [0x00AAC920+2445600]\n",
      "\tGetHandleVerifier [0x008E4F2A+579370]\n",
      "\tGetHandleVerifier [0x008E3D36+574774]\n",
      "\tOrdinal0 [0x007E1C0B+1973259]\n",
      "\tOrdinal0 [0x007E6688+1992328]\n",
      "\tOrdinal0 [0x007E6775+1992565]\n",
      "\tOrdinal0 [0x007EF8D1+2029777]\n",
      "\tBaseThreadInitThunk [0x762E6739+25]\n",
      "\tRtlGetFullPathName_UEx [0x775D8FEF+1215]\n",
      "\tRtlGetFullPathName_UEx [0x775D8FBD+1165]\n",
      "\n",
      "\n",
      "During handling of the above exception, another exception occurred:\n",
      "\n",
      "Traceback (most recent call last):\n",
      "  File \"c:\\Users\\voyno\\Desktop\\code\\repos\\espn-fantasy-football\\venv\\lib\\site-packages\\IPython\\core\\interactiveshell.py\", line 1992, in showtraceback\n",
      "    stb = self.InteractiveTB.structured_traceback(\n",
      "  File \"c:\\Users\\voyno\\Desktop\\code\\repos\\espn-fantasy-football\\venv\\lib\\site-packages\\IPython\\core\\ultratb.py\", line 1118, in structured_traceback\n",
      "    return FormattedTB.structured_traceback(\n",
      "  File \"c:\\Users\\voyno\\Desktop\\code\\repos\\espn-fantasy-football\\venv\\lib\\site-packages\\IPython\\core\\ultratb.py\", line 1012, in structured_traceback\n",
      "    return VerboseTB.structured_traceback(\n",
      "  File \"c:\\Users\\voyno\\Desktop\\code\\repos\\espn-fantasy-football\\venv\\lib\\site-packages\\IPython\\core\\ultratb.py\", line 865, in structured_traceback\n",
      "    formatted_exception = self.format_exception_as_a_whole(etype, evalue, etb, number_of_lines_of_context,\n",
      "  File \"c:\\Users\\voyno\\Desktop\\code\\repos\\espn-fantasy-football\\venv\\lib\\site-packages\\IPython\\core\\ultratb.py\", line 818, in format_exception_as_a_whole\n",
      "    frames.append(self.format_record(r))\n",
      "  File \"c:\\Users\\voyno\\Desktop\\code\\repos\\espn-fantasy-football\\venv\\lib\\site-packages\\IPython\\core\\ultratb.py\", line 736, in format_record\n",
      "    result += ''.join(_format_traceback_lines(frame_info.lines, Colors, self.has_colors, lvals))\n",
      "  File \"c:\\Users\\voyno\\Desktop\\code\\repos\\espn-fantasy-football\\venv\\lib\\site-packages\\stack_data\\utils.py\", line 145, in cached_property_wrapper\n",
      "    value = obj.__dict__[self.func.__name__] = self.func(obj)\n",
      "  File \"c:\\Users\\voyno\\Desktop\\code\\repos\\espn-fantasy-football\\venv\\lib\\site-packages\\stack_data\\core.py\", line 698, in lines\n",
      "    pieces = self.included_pieces\n",
      "  File \"c:\\Users\\voyno\\Desktop\\code\\repos\\espn-fantasy-football\\venv\\lib\\site-packages\\stack_data\\utils.py\", line 145, in cached_property_wrapper\n",
      "    value = obj.__dict__[self.func.__name__] = self.func(obj)\n",
      "  File \"c:\\Users\\voyno\\Desktop\\code\\repos\\espn-fantasy-football\\venv\\lib\\site-packages\\stack_data\\core.py\", line 649, in included_pieces\n",
      "    pos = scope_pieces.index(self.executing_piece)\n",
      "  File \"c:\\Users\\voyno\\Desktop\\code\\repos\\espn-fantasy-football\\venv\\lib\\site-packages\\stack_data\\utils.py\", line 145, in cached_property_wrapper\n",
      "    value = obj.__dict__[self.func.__name__] = self.func(obj)\n",
      "  File \"c:\\Users\\voyno\\Desktop\\code\\repos\\espn-fantasy-football\\venv\\lib\\site-packages\\stack_data\\core.py\", line 628, in executing_piece\n",
      "    return only(\n",
      "  File \"c:\\Users\\voyno\\Desktop\\code\\repos\\espn-fantasy-football\\venv\\lib\\site-packages\\executing\\executing.py\", line 164, in only\n",
      "    raise NotOneValueFound('Expected one value, found 0')\n",
      "executing.executing.NotOneValueFound: Expected one value, found 0\n"
     ]
    }
   ],
   "source": [
    "get_player_data.extract()"
   ]
  },
  {
   "cell_type": "code",
   "execution_count": null,
   "metadata": {},
   "outputs": [],
   "source": []
  }
 ],
 "metadata": {
  "interpreter": {
   "hash": "784692254b77ada57f3128df0a88ff89f3a7cbde4f0bdf9eb7754ce7391f8afa"
  },
  "kernelspec": {
   "display_name": "Python 3.8.0 ('venv': venv)",
   "language": "python",
   "name": "python3"
  },
  "language_info": {
   "codemirror_mode": {
    "name": "ipython",
    "version": 3
   },
   "file_extension": ".py",
   "mimetype": "text/x-python",
   "name": "python",
   "nbconvert_exporter": "python",
   "pygments_lexer": "ipython3",
   "version": "3.8.0"
  },
  "orig_nbformat": 4
 },
 "nbformat": 4,
 "nbformat_minor": 2
}
