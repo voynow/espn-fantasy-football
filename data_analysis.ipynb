{
 "cells": [
  {
   "cell_type": "code",
   "execution_count": 3,
   "metadata": {},
   "outputs": [],
   "source": [
    "import pickle"
   ]
  },
  {
   "cell_type": "code",
   "execution_count": 4,
   "metadata": {},
   "outputs": [],
   "source": [
    "f = open('data/game_level.pkl', 'rb')\n",
    "player_data = pickle.load(f)"
   ]
  },
  {
   "cell_type": "code",
   "execution_count": 5,
   "metadata": {},
   "outputs": [],
   "source": [
    "for i, player in enumerate(player_data):\n",
    "    player_data[i] = [table.split(\"\\n\") for table in player]"
   ]
  },
  {
   "cell_type": "code",
   "execution_count": 49,
   "metadata": {},
   "outputs": [],
   "source": [
    "player_data_dict = {player[0][0]: player[1:] for player in player_data}\n",
    "\n",
    "for key, value in player_data_dict.items():\n",
    "    player_data_dict[key] = {\"info\": value[0]}\n",
    "    for table in value[1:]:\n",
    "        subkey = table[0].replace(\" RECEIVING RUSHING FUMBLES\", \"\").replace(\" \", \"\").lower()\n",
    "        player_data_dict[key][subkey] = table"
   ]
  },
  {
   "cell_type": "code",
   "execution_count": 50,
   "metadata": {},
   "outputs": [],
   "source": [
    "for player, info in player_data_dict.items():\n",
    "    for key, data in info.items():\n",
    "        if key != 'info':\n",
    "            if key == 'postseason':\n",
    "                mod = 7\n",
    "            if key == '2021regularseason':\n",
    "                mod = 6\n",
    "            game_data = data[5:-1]\n",
    "            game_groups = [[] for i in range(mod)]\n",
    "            for i, item in enumerate(game_data):\n",
    "                game_groups[i % mod].append(item)\n",
    "            player_data_dict[player][key] = game_groups"
   ]
  },
  {
   "cell_type": "code",
   "execution_count": 53,
   "metadata": {},
   "outputs": [
    {
     "data": {
      "text/plain": [
       "[['Sun 2/13', 'Sun 1/30', 'Sun 1/23', 'Mon 1/17'],\n",
       " ['vs', 'vs', '@', 'vs'],\n",
       " ['CIN', 'SF', 'TB', 'ARI'],\n",
       " ['W', 'W', 'W', 'W'],\n",
       " ['23-20', '20-17', '30-27', '34-11'],\n",
       " ['8 10 92 11.5 2 22 1 7 7.0 7 0 0 0 - -',\n",
       "  '11 14 142 12.9 2 25 1 -2 -2.0 -2 0 0 0 - -',\n",
       "  '9 11 183 20.3 1 70 0 0 0.0 0 0 1 1 - -',\n",
       "  '5 7 61 12.2 1 29 0 0 0.0 0 0 0 0 - -'],\n",
       " ['SUPER BOWL LVI',\n",
       "  'NFC CHAMPIONSHIP',\n",
       "  'NFC DIVISIONAL PLAYOFFS',\n",
       "  'NFC WILD CARD PLAYOFFS']]"
      ]
     },
     "execution_count": 53,
     "metadata": {},
     "output_type": "execute_result"
    }
   ],
   "source": [
    "player_data_dict['Cooper Kupp']['postseason']"
   ]
  },
  {
   "cell_type": "code",
   "execution_count": 52,
   "metadata": {},
   "outputs": [
    {
     "data": {
      "text/plain": [
       "[['Sun 1/9',\n",
       "  'Sun 1/2',\n",
       "  'Sun 12/26',\n",
       "  'Tue 12/21',\n",
       "  'Mon 12/13',\n",
       "  'Sun 12/5',\n",
       "  'Sun 11/28',\n",
       "  'Mon 11/15',\n",
       "  'Sun 11/7',\n",
       "  'Sun 10/31',\n",
       "  'Sun 10/24',\n",
       "  'Sun 10/17',\n",
       "  'Thu 10/7',\n",
       "  'Sun 10/3',\n",
       "  'Sun 9/26',\n",
       "  'Sun 9/19',\n",
       "  'Sun 9/12'],\n",
       " ['vs',\n",
       "  '@',\n",
       "  '@',\n",
       "  'vs',\n",
       "  '@',\n",
       "  'vs',\n",
       "  '@',\n",
       "  '@',\n",
       "  'vs',\n",
       "  '@',\n",
       "  'vs',\n",
       "  '@',\n",
       "  '@',\n",
       "  'vs',\n",
       "  'vs',\n",
       "  '@',\n",
       "  'vs'],\n",
       " ['SF',\n",
       "  'BAL',\n",
       "  'MIN',\n",
       "  'SEA',\n",
       "  'ARI',\n",
       "  'JAX',\n",
       "  'GB',\n",
       "  'SF',\n",
       "  'TEN',\n",
       "  'HOU',\n",
       "  'DET',\n",
       "  'NYG',\n",
       "  'SEA',\n",
       "  'ARI',\n",
       "  'TB',\n",
       "  'IND',\n",
       "  'CHI'],\n",
       " ['L',\n",
       "  'W',\n",
       "  'W',\n",
       "  'W',\n",
       "  'W',\n",
       "  'W',\n",
       "  'L',\n",
       "  'L',\n",
       "  'L',\n",
       "  'W',\n",
       "  'W',\n",
       "  'W',\n",
       "  'W',\n",
       "  'L',\n",
       "  'W',\n",
       "  'W',\n",
       "  'W'],\n",
       " ['27-24 OT',\n",
       "  '20-19',\n",
       "  '30-23',\n",
       "  '20-10',\n",
       "  '30-23',\n",
       "  '37-7',\n",
       "  '36-28',\n",
       "  '31-10',\n",
       "  '28-16',\n",
       "  '38-22',\n",
       "  '28-19',\n",
       "  '38-11',\n",
       "  '26-17',\n",
       "  '37-20',\n",
       "  '34-24',\n",
       "  '27-24',\n",
       "  '34-14'],\n",
       " ['7 7 118 16.9 1 46 1 18 18.0 18 0 0 0 - -',\n",
       "  '6 7 95 15.8 1 24 0 0 0.0 0 0 0 0 - -',\n",
       "  '10 13 109 10.9 0 37 1 4 4.0 4 0 0 0 - -',\n",
       "  '9 13 136 15.1 2 42 1 1 1.0 1 0 0 0 - -',\n",
       "  '13 15 123 9.5 1 44 0 0 0.0 0 0 0 0 - -',\n",
       "  '8 10 129 16.1 1 43 0 0 0.0 0 0 0 0 - -',\n",
       "  '7 10 96 13.7 0 22 0 0 0.0 0 0 0 0 - -',\n",
       "  '11 13 122 11.1 0 29 0 0 0.0 0 0 0 0 - -',\n",
       "  '11 13 95 8.6 0 17 0 0 0.0 0 0 0 0 - -',\n",
       "  '7 9 115 16.4 1 52 0 0 0.0 0 0 0 0 - -',\n",
       "  '10 13 156 15.6 2 59 0 0 0.0 0 0 0 0 - -',\n",
       "  '9 12 130 14.4 2 30 0 0 0.0 0 0 0 0 0 0',\n",
       "  '7 10 92 13.1 0 33 0 0 0.0 0 0 0 0 - -',\n",
       "  '5 13 64 12.8 0 35 0 0 0.0 0 0 0 0 - -',\n",
       "  '9 12 96 10.7 2 22 0 0 0.0 0 0 0 0 - -',\n",
       "  '9 11 163 18.1 2 44 1 -5 -5.0 -5 0 0 0 - -',\n",
       "  '7 10 108 15.4 1 56 0 0 0.0 0 0 0 0 - -']]"
      ]
     },
     "execution_count": 52,
     "metadata": {},
     "output_type": "execute_result"
    }
   ],
   "source": [
    "player_data_dict['Cooper Kupp']['2021regularseason']"
   ]
  },
  {
   "cell_type": "code",
   "execution_count": null,
   "metadata": {},
   "outputs": [],
   "source": []
  }
 ],
 "metadata": {
  "interpreter": {
   "hash": "784692254b77ada57f3128df0a88ff89f3a7cbde4f0bdf9eb7754ce7391f8afa"
  },
  "kernelspec": {
   "display_name": "Python 3.8.0 ('venv': venv)",
   "language": "python",
   "name": "python3"
  },
  "language_info": {
   "codemirror_mode": {
    "name": "ipython",
    "version": 3
   },
   "file_extension": ".py",
   "mimetype": "text/x-python",
   "name": "python",
   "nbconvert_exporter": "python",
   "pygments_lexer": "ipython3",
   "version": "3.8.0"
  },
  "orig_nbformat": 4
 },
 "nbformat": 4,
 "nbformat_minor": 2
}
