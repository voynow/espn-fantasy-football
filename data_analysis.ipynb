{
 "cells": [
  {
   "cell_type": "code",
   "execution_count": 8,
   "metadata": {},
   "outputs": [],
   "source": [
    "import pickle"
   ]
  },
  {
   "cell_type": "code",
   "execution_count": 32,
   "metadata": {},
   "outputs": [],
   "source": [
    "f = open('data/game_level.pkl', 'rb')\n",
    "player_data = pickle.load(f)"
   ]
  },
  {
   "cell_type": "code",
   "execution_count": 33,
   "metadata": {},
   "outputs": [],
   "source": [
    "for i, player in enumerate(player_data):\n",
    "    player_data[i] = [table.split(\"\\n\") for table in player]"
   ]
  },
  {
   "cell_type": "code",
   "execution_count": 34,
   "metadata": {},
   "outputs": [
    {
     "ename": "TypeError",
     "evalue": "unhashable type: 'list'",
     "output_type": "error",
     "traceback": [
      "\u001b[1;31m---------------------------------------------------------------------------\u001b[0m",
      "\u001b[1;31mTypeError\u001b[0m                                 Traceback (most recent call last)",
      "\u001b[1;32mc:\\Users\\voyno\\Desktop\\code\\repos\\espn-fantasy-football\\data_analysis.ipynb Cell 4'\u001b[0m in \u001b[0;36m<cell line: 1>\u001b[1;34m()\u001b[0m\n\u001b[1;32m----> <a href='vscode-notebook-cell:/c%3A/Users/voyno/Desktop/code/repos/espn-fantasy-football/data_analysis.ipynb#ch0000003?line=0'>1</a>\u001b[0m player_data_dict \u001b[39m=\u001b[39m {player[\u001b[39m0\u001b[39m]: player[\u001b[39m1\u001b[39m:] \u001b[39mfor\u001b[39;00m player \u001b[39min\u001b[39;00m player_data}\n",
      "\u001b[1;32mc:\\Users\\voyno\\Desktop\\code\\repos\\espn-fantasy-football\\data_analysis.ipynb Cell 4'\u001b[0m in \u001b[0;36m<dictcomp>\u001b[1;34m(.0)\u001b[0m\n\u001b[1;32m----> <a href='vscode-notebook-cell:/c%3A/Users/voyno/Desktop/code/repos/espn-fantasy-football/data_analysis.ipynb#ch0000003?line=0'>1</a>\u001b[0m player_data_dict \u001b[39m=\u001b[39m {player[\u001b[39m0\u001b[39m]: player[\u001b[39m1\u001b[39m:] \u001b[39mfor\u001b[39;00m player \u001b[39min\u001b[39;00m player_data}\n",
      "\u001b[1;31mTypeError\u001b[0m: unhashable type: 'list'"
     ]
    }
   ],
   "source": [
    "player_data_dict = {player[0]: player[1:] for player in player_data}"
   ]
  },
  {
   "cell_type": "code",
   "execution_count": 35,
   "metadata": {},
   "outputs": [
    {
     "data": {
      "text/plain": [
       "[['49ers', '#10', 'QB'],\n",
       " ['POSTSEASON PASSING RUSHING',\n",
       "  'DATE',\n",
       "  'OPP',\n",
       "  'RESULT',\n",
       "  'CMP ATT YDS CMP% AVG TD INT LNG SACK RTG QBR ATT YDS AVG TD LNG',\n",
       "  'Sun 1/30',\n",
       "  '@',\n",
       "  'LAR',\n",
       "  'L',\n",
       "  '20-17',\n",
       "  '16 30 232 53.3 7.7 2 1 44 0 87.1 70.8 1 4 4.0 0 4',\n",
       "  'NFC CHAMPIONSHIP',\n",
       "  'Sat 1/22',\n",
       "  '@',\n",
       "  'GB',\n",
       "  'W',\n",
       "  '13-10',\n",
       "  '11 19 131 57.9 6.9 0 1 24 4 57.1 11.9 0 0 0.0 0 0',\n",
       "  'NFC DIVISIONAL PLAYOFFS',\n",
       "  'Sun 1/16',\n",
       "  '@',\n",
       "  'DAL',\n",
       "  'W',\n",
       "  '23-17',\n",
       "  '16 25 172 64.0 6.9 0 1 37 0 67.4 68.6 1 1 1.0 0 1',\n",
       "  'NFC WILD CARD PLAYOFFS',\n",
       "  'POSTSEASON 43 74 535 58.1 7.2 2 3 44 4 72.8 51.8 2 5 2.5 0 4'],\n",
       " ['2021 REGULAR SEASON PASSING RUSHING',\n",
       "  'DATE',\n",
       "  'OPP',\n",
       "  'RESULT',\n",
       "  'CMP ATT YDS CMP% AVG TD INT LNG SACK RTG QBR ATT YDS AVG TD LNG',\n",
       "  'Sun 1/9',\n",
       "  '@',\n",
       "  'LAR',\n",
       "  'W',\n",
       "  '27-24 OT',\n",
       "  '23 32 316 71.9 9.9 1 2 43 3 87.5 49.0 1 1 1.0 0 1',\n",
       "  'Thu 12/23',\n",
       "  '@',\n",
       "  'TEN',\n",
       "  'L',\n",
       "  '20-17',\n",
       "  '26 35 322 74.3 9.2 1 2 56 2 88.1 46.9 1 3 3.0 0 3',\n",
       "  'Sun 12/19',\n",
       "  'vs',\n",
       "  'ATL',\n",
       "  'W',\n",
       "  '31-13',\n",
       "  '18 23 235 78.3 10.2 1 0 36 0 123.7 61.1 3 4 1.3 0 2',\n",
       "  'Sun 12/12',\n",
       "  '@',\n",
       "  'CIN',\n",
       "  'W',\n",
       "  '26-23 OT',\n",
       "  '27 41 296 65.9 7.2 2 0 25 5 103.3 39.5 1 3 3.0 0 3',\n",
       "  'Sun 12/5',\n",
       "  '@',\n",
       "  'SEA',\n",
       "  'L',\n",
       "  '30-23',\n",
       "  '20 30 299 66.7 10.0 2 2 48 1 93.6 35.2 2 0 0.0 0 1',\n",
       "  'Sun 11/28',\n",
       "  'vs',\n",
       "  'MIN',\n",
       "  'W',\n",
       "  '34-26',\n",
       "  '17 26 230 65.4 8.8 1 1 37 2 90.2 56.5 3 0 0.0 0 2',\n",
       "  'Sun 11/21',\n",
       "  '@',\n",
       "  'JAX',\n",
       "  'W',\n",
       "  '30-10',\n",
       "  '16 22 176 72.7 8.0 2 0 34 2 126.3 80.5 2 6 3.0 0 3',\n",
       "  'Mon 11/15',\n",
       "  'vs',\n",
       "  'LAR',\n",
       "  'W',\n",
       "  '31-10',\n",
       "  '15 19 182 79.0 9.6 2 0 40 1 141.7 96.5 2 1 0.5 0 2',\n",
       "  'Sun 11/7',\n",
       "  'vs',\n",
       "  'ARI',\n",
       "  'L',\n",
       "  '31-17',\n",
       "  '28 40 326 70.0 8.2 2 1 32 5 100.6 58.5 1 3 3.0 0 3',\n",
       "  'Sun 10/31',\n",
       "  '@',\n",
       "  'CHI',\n",
       "  'W',\n",
       "  '33-22',\n",
       "  '17 28 322 60.7 11.5 0 0 83 0 100.6 84.1 5 4 0.8 2 5',\n",
       "  'Sun 10/24',\n",
       "  'vs',\n",
       "  'IND',\n",
       "  'L',\n",
       "  '30-18',\n",
       "  '16 27 181 59.3 6.7 1 2 29 2 60.9 9.0 2 0 0.0 0 1',\n",
       "  'Sun 10/3',\n",
       "  'vs',\n",
       "  'SEA',\n",
       "  'L',\n",
       "  '28-21',\n",
       "  '14 23 165 60.9 7.2 1 1 26 1 79.1 28.0 0 0 0.0 0 0',\n",
       "  'Sun 9/26',\n",
       "  'vs',\n",
       "  'GB',\n",
       "  'L',\n",
       "  '30-28',\n",
       "  '25 40 257 62.5 6.4 2 1 39 4 87.2 48.5 1 4 4.0 0 4',\n",
       "  'Sun 9/19',\n",
       "  '@',\n",
       "  'PHI',\n",
       "  'W',\n",
       "  '17-11',\n",
       "  '22 30 189 73.3 6.3 1 0 40 0 100.6 50.7 11 20 1.8 1 7',\n",
       "  'Sun 9/12',\n",
       "  '@',\n",
       "  'DET',\n",
       "  'W',\n",
       "  '41-33',\n",
       "  '17 25 314 68.0 12.6 1 0 79 1 124.2 70.8 3 2 0.7 0 3',\n",
       "  'REGULAR SEASON STATS 301 441 3,810 68.3 8.6 20 12 83 29 98.7 53.3 38 51 1.3 3 7']]"
      ]
     },
     "execution_count": 35,
     "metadata": {},
     "output_type": "execute_result"
    }
   ],
   "source": [
    "player_data[-1][1:]"
   ]
  },
  {
   "cell_type": "code",
   "execution_count": null,
   "metadata": {},
   "outputs": [],
   "source": []
  }
 ],
 "metadata": {
  "interpreter": {
   "hash": "784692254b77ada57f3128df0a88ff89f3a7cbde4f0bdf9eb7754ce7391f8afa"
  },
  "kernelspec": {
   "display_name": "Python 3.8.0 ('venv': venv)",
   "language": "python",
   "name": "python3"
  },
  "language_info": {
   "codemirror_mode": {
    "name": "ipython",
    "version": 3
   },
   "file_extension": ".py",
   "mimetype": "text/x-python",
   "name": "python",
   "nbconvert_exporter": "python",
   "pygments_lexer": "ipython3",
   "version": "3.8.0"
  },
  "orig_nbformat": 4
 },
 "nbformat": 4,
 "nbformat_minor": 2
}
